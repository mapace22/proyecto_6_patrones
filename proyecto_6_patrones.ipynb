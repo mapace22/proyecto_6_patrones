{
 "cells": [
  {
   "cell_type": "markdown",
   "metadata": {},
   "source": [
    "<div class=\"alert alert-block alert-success\">\n",
    "<b>Comentario general del revisor</b> <a class=\"tocSkip\"></a><br />\n",
    "Status del proyecto: <b>Aprobado</b>\n",
    "    \n",
    "Me gustaría felicitarte por el excelente trabajo que has entregado, las observaciones que haces a lo largo del proyecto me parecen claras y concisas, son el acompañamiento perfecto para los datos técnicos que se muestran.\n",
    "    \n",
    "Continúa con el buen trabajo y mucho éxito en el siguiente Sprint!\n",
    "    \n",
    "</div>\n"
   ]
  },
  {
   "cell_type": "markdown",
   "metadata": {},
   "source": [
    "# _¡A jugar se ha dicho!_\n",
    "\n",
    "\n",
    "# Introducción\n",
    "\n",
    "\n",
    "En el presente proyecto nos adentraremos en el análisis de datos de \"Tienda line Ice\", la cual es una plataforma global de venta de videojuegos. \n",
    "\n",
    "Se cuenta con un valioso conjunto de datos público que incluye desde reseñas de usuarios y expertos hasta los géneros, plataformas disponibles (Xbox y PlayStation) e histórico de ventas de juegos desde 2016. \n",
    "\n",
    "El objetivo principal es identificar patrones de éxito dentro de este mercado de video juegos, que nos permita nbo sólo detectar proyectos de juegos prometedores, sino también, planificar las estrategias mediante campañas publicitarias más efectivas. \n",
    "\n",
    "Nos situamos en diciembre de 2016 y nuestra misión será planificar una campaña para el año 2017, haciendo énfasis en la adquisición de experiencia por medio del adecuada limpieza, manipulación y transformación de datos para su oportuno manejo y análisis. \n",
    "\n",
    "Finalmente, se explora el \"rating\" dentro del dataset, que contiene la clasificación ESRB de cada juego. Este sistema evalúa el contenido y asigna categorías de edad segementando entre las distntas audiencias, por ejemplo jóvenes y adultas."
   ]
  },
  {
   "cell_type": "markdown",
   "metadata": {},
   "source": [
    "# Plan general de acciones\n",
    "\n",
    "- ✅Paso 1. Abre archivo de datos y estudia información general \n",
    "  - Datasets.\n",
    "  - Tipo de datos, nombres y columnas.\n",
    "  - Librerías.\n",
    "\n",
    "\n",
    "- ✅Paso 2. Prepara los datos\n",
    "  - Reemplazo y conversión de datos.\n",
    "  - Valores ausentes\n",
    "  - Ventas por región y juego.\n",
    "\n",
    "\n",
    "- ✅Paso 3. Analiza los datos\n",
    "  - Lanzamiento de juegos.\n",
    "  - Variaciones de ventas entre plataformas, antecedentes y ciclo de vida.\n",
    "  - Plan 2017.\n",
    "  - Filtros relevantes.\n",
    "  - Visualizaciones (Diagrama de caja, scatter - dispersión)\n",
    "  - Comparativa (ventas y distribución por género).\n",
    "\n",
    "\n",
    "- ✅Paso 4. Perfil de usuario por región\n",
    "  - NA, UE, JP0\n",
    "  - Plataformas principales\n",
    "  - Variaciones y géneros\n",
    "  - Clasificaciones de ESRB\n",
    "  \n",
    "  \n",
    "- ✅Paso 5. Prueba las siguientes hipótesis:\n",
    "  - Calificaciones promedio (usuarios por plataforma y géneros).\n",
    "  - Umbral alfa, hipótesis nula y alternativa (prueba).\n",
    "\n",
    "\n",
    "- ✅Paso 6. Conclusiones"
   ]
  },
  {
   "cell_type": "markdown",
   "metadata": {},
   "source": [
    "## Abre archivo de datos y estudia información general"
   ]
  },
  {
   "cell_type": "markdown",
   "metadata": {},
   "source": [
    "### Importar librerías"
   ]
  },
  {
   "cell_type": "code",
   "execution_count": 1,
   "metadata": {
    "trusted": true
   },
   "outputs": [],
   "source": [
    "# Librerías \n",
    "import pandas as pd\n",
    "import numpy as np\n",
    "import matplotlib.pyplot as plt"
   ]
  },
  {
   "cell_type": "markdown",
   "metadata": {},
   "source": [
    "### Descarga el dataset \n",
    "\n",
    "- Ruta de archivo: /datasets/games.csv 💾\n"
   ]
  },
  {
   "cell_type": "code",
   "execution_count": 2,
   "metadata": {
    "trusted": true
   },
   "outputs": [],
   "source": [
    "# leer conjuntos de datos en los DataFrames👀\n",
    "data = pd.read_csv('/datasets/games.csv')"
   ]
  },
  {
   "cell_type": "markdown",
   "metadata": {},
   "source": [
    "### Mostrar información \n"
   ]
  },
  {
   "cell_type": "code",
   "execution_count": 3,
   "metadata": {
    "trusted": true
   },
   "outputs": [
    {
     "data": {
      "text/html": [
       "<div>\n",
       "<style scoped>\n",
       "    .dataframe tbody tr th:only-of-type {\n",
       "        vertical-align: middle;\n",
       "    }\n",
       "\n",
       "    .dataframe tbody tr th {\n",
       "        vertical-align: top;\n",
       "    }\n",
       "\n",
       "    .dataframe thead th {\n",
       "        text-align: right;\n",
       "    }\n",
       "</style>\n",
       "<table border=\"1\" class=\"dataframe\">\n",
       "  <thead>\n",
       "    <tr style=\"text-align: right;\">\n",
       "      <th></th>\n",
       "      <th>Name</th>\n",
       "      <th>Platform</th>\n",
       "      <th>Year_of_Release</th>\n",
       "      <th>Genre</th>\n",
       "      <th>NA_sales</th>\n",
       "      <th>EU_sales</th>\n",
       "      <th>JP_sales</th>\n",
       "      <th>Other_sales</th>\n",
       "      <th>Critic_Score</th>\n",
       "      <th>User_Score</th>\n",
       "      <th>Rating</th>\n",
       "    </tr>\n",
       "  </thead>\n",
       "  <tbody>\n",
       "    <tr>\n",
       "      <th>0</th>\n",
       "      <td>Wii Sports</td>\n",
       "      <td>Wii</td>\n",
       "      <td>2006.0</td>\n",
       "      <td>Sports</td>\n",
       "      <td>41.36</td>\n",
       "      <td>28.96</td>\n",
       "      <td>3.77</td>\n",
       "      <td>8.45</td>\n",
       "      <td>76.0</td>\n",
       "      <td>8</td>\n",
       "      <td>E</td>\n",
       "    </tr>\n",
       "    <tr>\n",
       "      <th>1</th>\n",
       "      <td>Super Mario Bros.</td>\n",
       "      <td>NES</td>\n",
       "      <td>1985.0</td>\n",
       "      <td>Platform</td>\n",
       "      <td>29.08</td>\n",
       "      <td>3.58</td>\n",
       "      <td>6.81</td>\n",
       "      <td>0.77</td>\n",
       "      <td>NaN</td>\n",
       "      <td>NaN</td>\n",
       "      <td>NaN</td>\n",
       "    </tr>\n",
       "    <tr>\n",
       "      <th>2</th>\n",
       "      <td>Mario Kart Wii</td>\n",
       "      <td>Wii</td>\n",
       "      <td>2008.0</td>\n",
       "      <td>Racing</td>\n",
       "      <td>15.68</td>\n",
       "      <td>12.76</td>\n",
       "      <td>3.79</td>\n",
       "      <td>3.29</td>\n",
       "      <td>82.0</td>\n",
       "      <td>8.3</td>\n",
       "      <td>E</td>\n",
       "    </tr>\n",
       "    <tr>\n",
       "      <th>3</th>\n",
       "      <td>Wii Sports Resort</td>\n",
       "      <td>Wii</td>\n",
       "      <td>2009.0</td>\n",
       "      <td>Sports</td>\n",
       "      <td>15.61</td>\n",
       "      <td>10.93</td>\n",
       "      <td>3.28</td>\n",
       "      <td>2.95</td>\n",
       "      <td>80.0</td>\n",
       "      <td>8</td>\n",
       "      <td>E</td>\n",
       "    </tr>\n",
       "    <tr>\n",
       "      <th>4</th>\n",
       "      <td>Pokemon Red/Pokemon Blue</td>\n",
       "      <td>GB</td>\n",
       "      <td>1996.0</td>\n",
       "      <td>Role-Playing</td>\n",
       "      <td>11.27</td>\n",
       "      <td>8.89</td>\n",
       "      <td>10.22</td>\n",
       "      <td>1.00</td>\n",
       "      <td>NaN</td>\n",
       "      <td>NaN</td>\n",
       "      <td>NaN</td>\n",
       "    </tr>\n",
       "    <tr>\n",
       "      <th>...</th>\n",
       "      <td>...</td>\n",
       "      <td>...</td>\n",
       "      <td>...</td>\n",
       "      <td>...</td>\n",
       "      <td>...</td>\n",
       "      <td>...</td>\n",
       "      <td>...</td>\n",
       "      <td>...</td>\n",
       "      <td>...</td>\n",
       "      <td>...</td>\n",
       "      <td>...</td>\n",
       "    </tr>\n",
       "    <tr>\n",
       "      <th>16710</th>\n",
       "      <td>Samurai Warriors: Sanada Maru</td>\n",
       "      <td>PS3</td>\n",
       "      <td>2016.0</td>\n",
       "      <td>Action</td>\n",
       "      <td>0.00</td>\n",
       "      <td>0.00</td>\n",
       "      <td>0.01</td>\n",
       "      <td>0.00</td>\n",
       "      <td>NaN</td>\n",
       "      <td>NaN</td>\n",
       "      <td>NaN</td>\n",
       "    </tr>\n",
       "    <tr>\n",
       "      <th>16711</th>\n",
       "      <td>LMA Manager 2007</td>\n",
       "      <td>X360</td>\n",
       "      <td>2006.0</td>\n",
       "      <td>Sports</td>\n",
       "      <td>0.00</td>\n",
       "      <td>0.01</td>\n",
       "      <td>0.00</td>\n",
       "      <td>0.00</td>\n",
       "      <td>NaN</td>\n",
       "      <td>NaN</td>\n",
       "      <td>NaN</td>\n",
       "    </tr>\n",
       "    <tr>\n",
       "      <th>16712</th>\n",
       "      <td>Haitaka no Psychedelica</td>\n",
       "      <td>PSV</td>\n",
       "      <td>2016.0</td>\n",
       "      <td>Adventure</td>\n",
       "      <td>0.00</td>\n",
       "      <td>0.00</td>\n",
       "      <td>0.01</td>\n",
       "      <td>0.00</td>\n",
       "      <td>NaN</td>\n",
       "      <td>NaN</td>\n",
       "      <td>NaN</td>\n",
       "    </tr>\n",
       "    <tr>\n",
       "      <th>16713</th>\n",
       "      <td>Spirits &amp; Spells</td>\n",
       "      <td>GBA</td>\n",
       "      <td>2003.0</td>\n",
       "      <td>Platform</td>\n",
       "      <td>0.01</td>\n",
       "      <td>0.00</td>\n",
       "      <td>0.00</td>\n",
       "      <td>0.00</td>\n",
       "      <td>NaN</td>\n",
       "      <td>NaN</td>\n",
       "      <td>NaN</td>\n",
       "    </tr>\n",
       "    <tr>\n",
       "      <th>16714</th>\n",
       "      <td>Winning Post 8 2016</td>\n",
       "      <td>PSV</td>\n",
       "      <td>2016.0</td>\n",
       "      <td>Simulation</td>\n",
       "      <td>0.00</td>\n",
       "      <td>0.00</td>\n",
       "      <td>0.01</td>\n",
       "      <td>0.00</td>\n",
       "      <td>NaN</td>\n",
       "      <td>NaN</td>\n",
       "      <td>NaN</td>\n",
       "    </tr>\n",
       "  </tbody>\n",
       "</table>\n",
       "<p>16715 rows × 11 columns</p>\n",
       "</div>"
      ],
      "text/plain": [
       "                                Name Platform  Year_of_Release         Genre  \\\n",
       "0                         Wii Sports      Wii           2006.0        Sports   \n",
       "1                  Super Mario Bros.      NES           1985.0      Platform   \n",
       "2                     Mario Kart Wii      Wii           2008.0        Racing   \n",
       "3                  Wii Sports Resort      Wii           2009.0        Sports   \n",
       "4           Pokemon Red/Pokemon Blue       GB           1996.0  Role-Playing   \n",
       "...                              ...      ...              ...           ...   \n",
       "16710  Samurai Warriors: Sanada Maru      PS3           2016.0        Action   \n",
       "16711               LMA Manager 2007     X360           2006.0        Sports   \n",
       "16712        Haitaka no Psychedelica      PSV           2016.0     Adventure   \n",
       "16713               Spirits & Spells      GBA           2003.0      Platform   \n",
       "16714            Winning Post 8 2016      PSV           2016.0    Simulation   \n",
       "\n",
       "       NA_sales  EU_sales  JP_sales  Other_sales  Critic_Score User_Score  \\\n",
       "0         41.36     28.96      3.77         8.45          76.0          8   \n",
       "1         29.08      3.58      6.81         0.77           NaN        NaN   \n",
       "2         15.68     12.76      3.79         3.29          82.0        8.3   \n",
       "3         15.61     10.93      3.28         2.95          80.0          8   \n",
       "4         11.27      8.89     10.22         1.00           NaN        NaN   \n",
       "...         ...       ...       ...          ...           ...        ...   \n",
       "16710      0.00      0.00      0.01         0.00           NaN        NaN   \n",
       "16711      0.00      0.01      0.00         0.00           NaN        NaN   \n",
       "16712      0.00      0.00      0.01         0.00           NaN        NaN   \n",
       "16713      0.01      0.00      0.00         0.00           NaN        NaN   \n",
       "16714      0.00      0.00      0.01         0.00           NaN        NaN   \n",
       "\n",
       "      Rating  \n",
       "0          E  \n",
       "1        NaN  \n",
       "2          E  \n",
       "3          E  \n",
       "4        NaN  \n",
       "...      ...  \n",
       "16710    NaN  \n",
       "16711    NaN  \n",
       "16712    NaN  \n",
       "16713    NaN  \n",
       "16714    NaN  \n",
       "\n",
       "[16715 rows x 11 columns]"
      ]
     },
     "execution_count": 3,
     "metadata": {},
     "output_type": "execute_result"
    }
   ],
   "source": [
    "# Info DF 🔍\n",
    "data"
   ]
  },
  {
   "cell_type": "code",
   "execution_count": 4,
   "metadata": {
    "trusted": true
   },
   "outputs": [
    {
     "name": "stdout",
     "output_type": "stream",
     "text": [
      "<class 'pandas.core.frame.DataFrame'>\n",
      "RangeIndex: 16715 entries, 0 to 16714\n",
      "Data columns (total 11 columns):\n",
      " #   Column           Non-Null Count  Dtype  \n",
      "---  ------           --------------  -----  \n",
      " 0   Name             16713 non-null  object \n",
      " 1   Platform         16715 non-null  object \n",
      " 2   Year_of_Release  16446 non-null  float64\n",
      " 3   Genre            16713 non-null  object \n",
      " 4   NA_sales         16715 non-null  float64\n",
      " 5   EU_sales         16715 non-null  float64\n",
      " 6   JP_sales         16715 non-null  float64\n",
      " 7   Other_sales      16715 non-null  float64\n",
      " 8   Critic_Score     8137 non-null   float64\n",
      " 9   User_Score       10014 non-null  object \n",
      " 10  Rating           9949 non-null   object \n",
      "dtypes: float64(6), object(5)\n",
      "memory usage: 1.4+ MB\n"
     ]
    }
   ],
   "source": [
    "data.info()"
   ]
  },
  {
   "cell_type": "markdown",
   "metadata": {},
   "source": [
    "### Tipos de datos \n"
   ]
  },
  {
   "cell_type": "markdown",
   "metadata": {},
   "source": [
    "| Columna                                                                     | Dtype        |   Convertir |\n",
    "| --------------------------------------------------------------------------- | ------------ | ----------- |\n",
    "| Nombre (Nombre)                                                             | object       |     =       |\n",
    "| Plataforma (Plataforma)                                                     | object       |     =       |\n",
    "| Año de lanzamiento (Año de lanzamiento)                                     | float64      |  Datetime   |\n",
    "| Género (Género)                                                             | object       |     =       |\n",
    "| NA_sales (ventas en Norteamérica en millones de dólares estadounidenses)    | float64      |     =       |\n",
    "| EU_sales (ventas en Europa en millones de dólares estadounidenses)          | float64      |     =       |\n",
    "| JP_sales (ventas en Japón en millones de dólares estadounidenses)           | float64      |     =       |\n",
    "| Other_sales (ventas en otros países en millones de dólares estadounidenses) | float64      |     =       |\n",
    "| Critic_Score (máximo de 100)                                                | float64      |   int64     |\n",
    "| User_Score (máximo de 10)                                                   | object       |  float64 0  |\n",
    "| Rating (ESRB)                                                               | object       |     =       |"
   ]
  },
  {
   "cell_type": "markdown",
   "metadata": {},
   "source": [
    "### DATA WRANGLER by Visual Studio Code"
   ]
  },
  {
   "cell_type": "markdown",
   "metadata": {},
   "source": [
    "**DATA SUMMARY**\n",
    "* **Data shape:** 16,715 rows x 11 columns\n",
    "* **Columns:** 11\n",
    "\n",
    "**ROWS**\n",
    "* **Rows:** 16,715\n",
    "* **Rows with missing values:** 8,837 (52.9%)\n",
    "* **Duplicate rows:** 0 (0.0%)\n",
    "\n",
    "**MISSING VALUES (by column)**\n",
    "* **Total missing values:** 22,318\n",
    "* **name                         2\n",
    "* **year_of_release            269\n",
    "* **genre                        2\n",
    "* **critic_score             8,578\n",
    "* **user_score               6,701\n",
    "* **rating                   6,766"
   ]
  },
  {
   "cell_type": "markdown",
   "metadata": {},
   "source": [
    "<div class=\"alert alert-block alert-success\">\n",
    "<b>Comentario del revisor</b> <a class=\"tocSkip\"></a><br />\n",
    "Correcto!<br/>\n",
    "\n",
    "Buena manera de leer los datos y de hacer una revisión inicial\n",
    "</div>\n"
   ]
  },
  {
   "cell_type": "markdown",
   "metadata": {},
   "source": [
    "### Investigación externa"
   ]
  },
  {
   "cell_type": "markdown",
   "metadata": {},
   "source": [
    "#### Clasificación (ESRB)"
   ]
  },
  {
   "cell_type": "markdown",
   "metadata": {},
   "source": [
    "| Clasificación (ESRB) | Descripción                                                                                                                               |\n",
    "| :------------------- | :---------------------------------------------------------------------------------------------------------------------------------------- |\n",
    "| E                    | Apto para todas las edades. Contenido mínimo o inexistente en cuanto a violencia, lenguaje fuerte y temas sugerentes.                      |\n",
    "| nan                  | Valor faltante o no disponible en el conjunto de datos.                                                                                   |\n",
    "| M                    | Generalmente apropiado para personas de 17 años en adelante. Puede contener violencia intensa, sangre y gore, contenido sexual y/o lenguaje fuerte. |\n",
    "| T                    | Generalmente apropiado para personas de 13 años en adelante. Puede contener violencia, temas sugerentes, humor grosero, mínima sangre y/o uso poco frecuente de lenguaje fuerte. |\n",
    "| E10+                 | Generalmente apropiado para personas de 10 años en adelante. Puede contener más violencia de dibujos animados, violencia de fantasía o violencia leve, lenguaje suave y/o temas mínimamente sugerentes. |\n",
    "| K-A                  | Equivalente antiguo a la clasificación \"E\" (Everyone). Ya no se utiliza activamente, pero puede encontrarse en datos de juegos más antiguos. |\n",
    "| AO                   | Solo apto para adultos de 18 años en adelante. Puede incluir escenas de violencia gráfica, contenido sexual explícito y/o apuestas con dinero real. |\n",
    "| EC                   | Diseñado específicamente para niños pequeños. Contenido educativo o muy simple, sin material inapropiado.                                   |\n",
    "| RP                   | El juego ha sido enviado a la ESRB y aún no ha recibido una clasificación oficial (Rating Pending).                                        |"
   ]
  },
  {
   "cell_type": "markdown",
   "metadata": {},
   "source": [
    "#### Glosario de abreviaturas - videojuegos"
   ]
  },
  {
   "cell_type": "markdown",
   "metadata": {},
   "source": [
    "| Abreviatura | Significado                                 |\n",
    "|-------------|---------------------------------------------|\n",
    "| Wii         | Nintendo Wii                                |\n",
    "| NES         | Nintendo Entertainment System               |\n",
    "| GB          | Game Boy                                    |\n",
    "| DS          | Nintendo DS                                 |\n",
    "| X360        | Xbox 360                                    |\n",
    "| PS3         | PlayStation 3                               |\n",
    "| PS2         | PlayStation 2                               |\n",
    "| SNES        | Super Nintendo Entertainment System         |\n",
    "| GBA         | Game Boy Advance                            |\n",
    "| PS4         | PlayStation 4                               |\n",
    "| 3DS         | Nintendo 3DS                                |\n",
    "| N64         | Nintendo 64                                 |\n",
    "| PS          | PlayStation (original)                       |\n",
    "| XB          | Xbox (original)                             |\n",
    "| PC          | Personal Computer                           |\n",
    "| 2600        | Atari 2600                                  |\n",
    "| PSP         | PlayStation Portable                        |\n",
    "| XOne        | Xbox One                                    |\n",
    "| WiiU        | Nintendo Wii U                              |\n",
    "| GC          | Nintendo GameCube                           |\n",
    "| GEN         | Sega Genesis / Mega Drive                   |\n",
    "| DC          | Sega Dreamcast                              |\n",
    "| PSV         | PlayStation Vita                            |\n",
    "| SAT         | Sega Saturn                                 |\n",
    "| SCD         | Sega CD                                     |\n",
    "| WS          | WonderSwan (Bandai)                         |\n",
    "| NG          | Neo Geo (SNK)                               |\n",
    "| TG16        | TurboGrafx-16 / PC Engine (NEC)             |\n",
    "| 3DO         | 3DO Interactive Multiplayer (Varios)        |\n",
    "| GG          | Sega Game Gear                              |\n",
    "| PCFX        | PC-FX (NEC)                                 |"
   ]
  },
  {
   "cell_type": "markdown",
   "metadata": {},
   "source": [
    "#### Clasificación de juegos por género"
   ]
  },
  {
   "cell_type": "markdown",
   "metadata": {},
   "source": [
    "| Género        | Significado                                                                                                |\n",
    "|---------------|------------------------------------------------------------------------------------------------------------|\n",
    "| Sports        | Deportes del mundo real, fútbol, baloncesto y tenis (enfocados en la simulación realista o acción)         |\n",
    "| Platform      | Saltos y exploración de entornos en donde se avanza por niveles     .                                      |\n",
    "| Racing        | Controla de un vehículo en competencia. Simulaciones realistas o juegos de carreras arcade o acción.       |\n",
    "| Role-Playing  | El jugador asume el rol de un personaje en un mundo ficticio. Experiencia, decisiones e interacción.       |\n",
    "| Puzzle        | Desafían la lógica y habilidad mental mediante resolución de acertijos y rompecabezas.                     |\n",
    "| Misc          | Categoría miscelánea de juegos que no encajan en otros géneros definidos (fiesta, educativos o musicales   |\n",
    "| Shooter       | Centrados en el combate a distancia con armas de fuego o proyectiles. Primera o tercera persona (FPS-TPS). |\n",
    "| Simulation    | Intentan simular la vida real (pilotar aviones, gestionar ciudades, cultivar granjas y otros.              |\n",
    "| Action        | Desafíos físicos, coordinación ojo-mano y tiempos de reacción rápidos (combate, exploración o acertijos.   |\n",
    "| Fighting      | Combate cuerpo a cuerpo entre dos o más personajes en un espacio limitado (arena).                         |\n",
    "| Adventure     | Exploración, narrativa y resolución de acertijos. Un ritmo más pausado que los juegos de acción.           |\n",
    "| Strategy      | Planificación táctica y estratégica. Tiempo real (RTS) o por turnos (TBS) recursos, unidades y territorios.|"
   ]
  },
  {
   "cell_type": "markdown",
   "metadata": {},
   "source": [
    "#### Valores \"tbd\""
   ]
  },
  {
   "cell_type": "code",
   "execution_count": 5,
   "metadata": {
    "trusted": true
   },
   "outputs": [
    {
     "data": {
      "text/plain": [
       "array(['8', nan, '8.3', '8.5', '6.6', '8.4', '8.6', '7.7', '6.3', '7.4',\n",
       "       '8.2', '9', '7.9', '8.1', '8.7', '7.1', '3.4', '5.3', '4.8', '3.2',\n",
       "       '8.9', '6.4', '7.8', '7.5', '2.6', '7.2', '9.2', '7', '7.3', '4.3',\n",
       "       '7.6', '5.7', '5', '9.1', '6.5', 'tbd', '8.8', '6.9', '9.4', '6.8',\n",
       "       '6.1', '6.7', '5.4', '4', '4.9', '4.5', '9.3', '6.2', '4.2', '6',\n",
       "       '3.7', '4.1', '5.8', '5.6', '5.5', '4.4', '4.6', '5.9', '3.9',\n",
       "       '3.1', '2.9', '5.2', '3.3', '4.7', '5.1', '3.5', '2.5', '1.9', '3',\n",
       "       '2.7', '2.2', '2', '9.5', '2.1', '3.6', '2.8', '1.8', '3.8', '0',\n",
       "       '1.6', '9.6', '2.4', '1.7', '1.1', '0.3', '1.5', '0.7', '1.2',\n",
       "       '2.3', '0.5', '1.3', '0.2', '0.6', '1.4', '0.9', '1', '9.7'],\n",
       "      dtype=object)"
      ]
     },
     "execution_count": 5,
     "metadata": {},
     "output_type": "execute_result"
    }
   ],
   "source": [
    "data[\"User_Score\"].unique()"
   ]
  },
  {
   "cell_type": "code",
   "execution_count": 6,
   "metadata": {
    "trusted": true
   },
   "outputs": [
    {
     "name": "stdout",
     "output_type": "stream",
     "text": [
      "El valor 'tbd' se encuentra en la columna: ['User_Score']\n",
      "El valor 'tbd' aparece 2424 veces en la columna 'User_Score'.\n"
     ]
    }
   ],
   "source": [
    "import numpy as np\n",
    "import pandas as pd\n",
    "\n",
    "columnas_con_tbd = []\n",
    "\n",
    "for col in data.columns:\n",
    "    if (data[col] == 'tbd').any():\n",
    "        columnas_con_tbd.append(col)\n",
    "\n",
    "if columnas_con_tbd:\n",
    "    print(f\"El valor 'tbd' se encuentra en la columna: {columnas_con_tbd}\")\n",
    "else:\n",
    "    print(\"El valor 'tbd' no se encontró en ninguna columna del DF.\")\n",
    "    \n",
    "conteo_tbd = data['User_Score'].value_counts().get('tbd', 0)\n",
    "\n",
    "print(f\"El valor 'tbd' aparece {conteo_tbd} veces en la columna 'User_Score'.\")"
   ]
  },
  {
   "cell_type": "markdown",
   "metadata": {},
   "source": [
    "- 🔍 Obsevaciones:\n",
    "  - 'tbd' es la abreviatura de \"to be determined\" o por determinar. Sólo se encuentra en user_score.\n",
    "    - La calificación numérica debe estar entre 0 y 10.\n",
    "    - Este valor 'tbd' no tiene sentido y dificulta cualquier análisis numérico.\n",
    "    - Convertirlo a NaN\n",
    "    - Muchos Missing Values en 8.837 filas del total de 16,715 filas, es decir, un 52.9%. \n",
    "  - NaN\n",
    " \n",
    "  - No hay duplicados "
   ]
  },
  {
   "cell_type": "markdown",
   "metadata": {},
   "source": [
    "## Preparación de los datos"
   ]
  },
  {
   "cell_type": "markdown",
   "metadata": {},
   "source": [
    "### Reemplaza los nombres de las columnas (lower)."
   ]
  },
  {
   "cell_type": "code",
   "execution_count": 7,
   "metadata": {
    "trusted": true
   },
   "outputs": [
    {
     "name": "stdout",
     "output_type": "stream",
     "text": [
      "Index(['name', 'platform', 'year_of_release', 'genre', 'na_sales', 'eu_sales',\n",
      "       'jp_sales', 'other_sales', 'critic_score', 'user_score', 'rating'],\n",
      "      dtype='object')\n"
     ]
    }
   ],
   "source": [
    "# Reemplazo de nombre y cambios varios:\n",
    "def clean_name_column(name):\n",
    "    \"\"\"Convierte a minúsculas, reemplaza espacios con guion bajo y aplica strip.\"\"\"\n",
    "    clean_names = name.lower().replace(' ', '_').strip()\n",
    "    return clean_names\n",
    "\n",
    "data.columns = [clean_name_column(col) for col in data.columns]\n",
    "\n",
    "# Para verificar los nuevos nombres de las columnas:\n",
    "print(data.columns)"
   ]
  },
  {
   "cell_type": "markdown",
   "metadata": {},
   "source": [
    "### Convierte los datos en los tipos necesarios."
   ]
  },
  {
   "cell_type": "code",
   "execution_count": 8,
   "metadata": {
    "trusted": true
   },
   "outputs": [
    {
     "name": "stdout",
     "output_type": "stream",
     "text": [
      "name                       object\n",
      "platform                   object\n",
      "year_of_release    datetime64[ns]\n",
      "genre                      object\n",
      "na_sales                  float64\n",
      "eu_sales                  float64\n",
      "jp_sales                  float64\n",
      "other_sales               float64\n",
      "critic_score                Int64\n",
      "user_score                float64\n",
      "rating                     object\n",
      "dtype: object\n"
     ]
    }
   ],
   "source": [
    "# Convertir la columna 'year_of_release' a datetime\n",
    "data['year_of_release'] = pd.to_datetime(data['year_of_release'], format='%Y', errors='coerce')\n",
    "\n",
    "# Convertir la columna 'critic_score' a entero (Int64 para permitir NaN)\n",
    "data['critic_score'] = data['critic_score'].astype('Int64', errors='ignore')\n",
    "\n",
    "# Convertir 'tbd' a NaN y luego toda la columna\n",
    "data['user_score'] = data['user_score'].replace('tbda', np.nan) \n",
    "data['user_score'] = pd.to_numeric(data['user_score'], errors='coerce') # Por defecto float64 \n",
    "\n",
    "# Verificar tipos de datos después de la conversión\n",
    "print(data.dtypes)"
   ]
  },
  {
   "cell_type": "code",
   "execution_count": 9,
   "metadata": {
    "trusted": true
   },
   "outputs": [
    {
     "name": "stdout",
     "output_type": "stream",
     "text": [
      "No tiene\n"
     ]
    }
   ],
   "source": [
    "tiene_tbd = data['user_score'].isin(['tbd']).any()\n",
    "\n",
    "if tiene_tbd:\n",
    "    print(\"Si tiene\")\n",
    "else:\n",
    "    print(\"No tiene\")"
   ]
  },
  {
   "cell_type": "markdown",
   "metadata": {},
   "source": [
    "### Descripción y explicación de cambios en columnas."
   ]
  },
  {
   "cell_type": "markdown",
   "metadata": {},
   "source": [
    "✔️ **Columna o serie year_of_release a datetime:** El tipo object impedia que Pandas reconozca y maneje la serie como fecha de lanzamiento. El cambio permite operaciones de tiempo por año (calcular, distinguir, ordenar y extraer).\n",
    "\n",
    "✔️ Columna critic_score a int64: Se pasa de float64 a inte64 simplemente porque no se ven decimales en la tabla para ningún valor. \n",
    " \n",
    "✔️ User_score de object a float64: Estaba en object, impidiendo realizar cálculos numéricos con las calificaciones de los usuarios."
   ]
  },
  {
   "cell_type": "markdown",
   "metadata": {},
   "source": [
    "### Tratamiento de valores ausentes"
   ]
  },
  {
   "cell_type": "code",
   "execution_count": 10,
   "metadata": {
    "trusted": true
   },
   "outputs": [
    {
     "name": "stdout",
     "output_type": "stream",
     "text": [
      "Columnas con null:\n",
      "name               True\n",
      "year_of_release    True\n",
      "genre              True\n",
      "critic_score       True\n",
      "user_score         True\n",
      "rating             True\n",
      "dtype: bool\n"
     ]
    }
   ],
   "source": [
    "columnas_con_nulos = data.isnull().any()\n",
    "\n",
    "print(\"Columnas con null:\")\n",
    "print(columnas_con_nulos[columnas_con_nulos])"
   ]
  },
  {
   "cell_type": "code",
   "execution_count": 11,
   "metadata": {
    "trusted": true
   },
   "outputs": [
    {
     "name": "stdout",
     "output_type": "stream",
     "text": [
      "Filas donde la columna 'name' tiene valores nulos:\n",
      "      name platform year_of_release genre  na_sales  eu_sales  jp_sales  \\\n",
      "659    NaN      GEN      1993-01-01   NaN      1.78      0.53      0.00   \n",
      "14244  NaN      GEN      1993-01-01   NaN      0.00      0.00      0.03   \n",
      "\n",
      "       other_sales  critic_score  user_score rating  \n",
      "659           0.08          <NA>         NaN    NaN  \n",
      "14244         0.00          <NA>         NaN    NaN  \n"
     ]
    }
   ],
   "source": [
    "filas_con_nulos_genre = data[data['name'].isnull()]\n",
    "if not filas_con_nulos_genre.empty:\n",
    "    print(\"Filas donde la columna 'name' tiene valores nulos:\")\n",
    "    print(filas_con_nulos_genre)\n",
    "else:\n",
    "    print(\"No se encontraron valores nulos en la columna 'name'.\")"
   ]
  },
  {
   "cell_type": "code",
   "execution_count": 12,
   "metadata": {
    "scrolled": true,
    "trusted": true
   },
   "outputs": [
    {
     "name": "stdout",
     "output_type": "stream",
     "text": [
      "\n",
      "Filas donde la columna 'name' tiene valores nulos:\n",
      "      name platform year_of_release genre  na_sales  eu_sales  jp_sales  \\\n",
      "659    NaN      GEN      1993-01-01   NaN      1.78      0.53      0.00   \n",
      "14244  NaN      GEN      1993-01-01   NaN      0.00      0.00      0.03   \n",
      "\n",
      "       other_sales  critic_score  user_score rating  \n",
      "659           0.08          <NA>         NaN    NaN  \n",
      "14244         0.00          <NA>         NaN    NaN  \n",
      "\n",
      "Filas donde la columna 'year_of_release' tiene valores nulos:\n",
      "                                    name platform year_of_release  \\\n",
      "183                      Madden NFL 2004      PS2             NaT   \n",
      "377                     FIFA Soccer 2004      PS2             NaT   \n",
      "456           LEGO Batman: The Videogame      Wii             NaT   \n",
      "475           wwe Smackdown vs. Raw 2006      PS2             NaT   \n",
      "609                       Space Invaders     2600             NaT   \n",
      "...                                  ...      ...             ...   \n",
      "16373  PDC World Championship Darts 2008      PSP             NaT   \n",
      "16405                      Freaky Flyers       GC             NaT   \n",
      "16448                          Inversion       PC             NaT   \n",
      "16458        Hakuouki: Shinsengumi Kitan      PS3             NaT   \n",
      "16522                       Virtua Quest       GC             NaT   \n",
      "\n",
      "              genre  na_sales  eu_sales  jp_sales  other_sales  critic_score  \\\n",
      "183          Sports      4.26      0.26      0.01         0.71            94   \n",
      "377          Sports      0.59      2.36      0.04         0.51            84   \n",
      "456          Action      1.80      0.97      0.00         0.29            74   \n",
      "475        Fighting      1.57      1.02      0.00         0.41          <NA>   \n",
      "609         Shooter      2.36      0.14      0.00         0.03          <NA>   \n",
      "...             ...       ...       ...       ...          ...           ...   \n",
      "16373        Sports      0.01      0.00      0.00         0.00            43   \n",
      "16405        Racing      0.01      0.00      0.00         0.00            69   \n",
      "16448       Shooter      0.01      0.00      0.00         0.00            59   \n",
      "16458     Adventure      0.01      0.00      0.00         0.00          <NA>   \n",
      "16522  Role-Playing      0.01      0.00      0.00         0.00            55   \n",
      "\n",
      "       user_score rating  \n",
      "183           8.5      E  \n",
      "377           6.4      E  \n",
      "456           7.9   E10+  \n",
      "475           NaN    NaN  \n",
      "609           NaN    NaN  \n",
      "...           ...    ...  \n",
      "16373         NaN   E10+  \n",
      "16405         6.5      T  \n",
      "16448         6.7      M  \n",
      "16458         NaN    NaN  \n",
      "16522         5.5      T  \n",
      "\n",
      "[269 rows x 11 columns]\n",
      "\n",
      "Filas donde la columna 'genre' tiene valores nulos:\n",
      "      name platform year_of_release genre  na_sales  eu_sales  jp_sales  \\\n",
      "659    NaN      GEN      1993-01-01   NaN      1.78      0.53      0.00   \n",
      "14244  NaN      GEN      1993-01-01   NaN      0.00      0.00      0.03   \n",
      "\n",
      "       other_sales  critic_score  user_score rating  \n",
      "659           0.08          <NA>         NaN    NaN  \n",
      "14244         0.00          <NA>         NaN    NaN  \n",
      "\n",
      "Filas donde la columna 'critic_score' tiene valores nulos:\n",
      "                                name platform year_of_release         genre  \\\n",
      "1                  Super Mario Bros.      NES      1985-01-01      Platform   \n",
      "4           Pokemon Red/Pokemon Blue       GB      1996-01-01  Role-Playing   \n",
      "5                             Tetris       GB      1989-01-01        Puzzle   \n",
      "9                          Duck Hunt      NES      1984-01-01       Shooter   \n",
      "10                        Nintendogs       DS      2005-01-01    Simulation   \n",
      "...                              ...      ...             ...           ...   \n",
      "16710  Samurai Warriors: Sanada Maru      PS3      2016-01-01        Action   \n",
      "16711               LMA Manager 2007     X360      2006-01-01        Sports   \n",
      "16712        Haitaka no Psychedelica      PSV      2016-01-01     Adventure   \n",
      "16713               Spirits & Spells      GBA      2003-01-01      Platform   \n",
      "16714            Winning Post 8 2016      PSV      2016-01-01    Simulation   \n",
      "\n",
      "       na_sales  eu_sales  jp_sales  other_sales  critic_score  user_score  \\\n",
      "1         29.08      3.58      6.81         0.77          <NA>         NaN   \n",
      "4         11.27      8.89     10.22         1.00          <NA>         NaN   \n",
      "5         23.20      2.26      4.22         0.58          <NA>         NaN   \n",
      "9         26.93      0.63      0.28         0.47          <NA>         NaN   \n",
      "10         9.05     10.95      1.93         2.74          <NA>         NaN   \n",
      "...         ...       ...       ...          ...           ...         ...   \n",
      "16710      0.00      0.00      0.01         0.00          <NA>         NaN   \n",
      "16711      0.00      0.01      0.00         0.00          <NA>         NaN   \n",
      "16712      0.00      0.00      0.01         0.00          <NA>         NaN   \n",
      "16713      0.01      0.00      0.00         0.00          <NA>         NaN   \n",
      "16714      0.00      0.00      0.01         0.00          <NA>         NaN   \n",
      "\n",
      "      rating  \n",
      "1        NaN  \n",
      "4        NaN  \n",
      "5        NaN  \n",
      "9        NaN  \n",
      "10       NaN  \n",
      "...      ...  \n",
      "16710    NaN  \n",
      "16711    NaN  \n",
      "16712    NaN  \n",
      "16713    NaN  \n",
      "16714    NaN  \n",
      "\n",
      "[8578 rows x 11 columns]\n",
      "\n",
      "Filas donde la columna 'user_score' tiene valores nulos:\n",
      "                                name platform year_of_release         genre  \\\n",
      "1                  Super Mario Bros.      NES      1985-01-01      Platform   \n",
      "4           Pokemon Red/Pokemon Blue       GB      1996-01-01  Role-Playing   \n",
      "5                             Tetris       GB      1989-01-01        Puzzle   \n",
      "9                          Duck Hunt      NES      1984-01-01       Shooter   \n",
      "10                        Nintendogs       DS      2005-01-01    Simulation   \n",
      "...                              ...      ...             ...           ...   \n",
      "16710  Samurai Warriors: Sanada Maru      PS3      2016-01-01        Action   \n",
      "16711               LMA Manager 2007     X360      2006-01-01        Sports   \n",
      "16712        Haitaka no Psychedelica      PSV      2016-01-01     Adventure   \n",
      "16713               Spirits & Spells      GBA      2003-01-01      Platform   \n",
      "16714            Winning Post 8 2016      PSV      2016-01-01    Simulation   \n",
      "\n",
      "       na_sales  eu_sales  jp_sales  other_sales  critic_score  user_score  \\\n",
      "1         29.08      3.58      6.81         0.77          <NA>         NaN   \n",
      "4         11.27      8.89     10.22         1.00          <NA>         NaN   \n",
      "5         23.20      2.26      4.22         0.58          <NA>         NaN   \n",
      "9         26.93      0.63      0.28         0.47          <NA>         NaN   \n",
      "10         9.05     10.95      1.93         2.74          <NA>         NaN   \n",
      "...         ...       ...       ...          ...           ...         ...   \n",
      "16710      0.00      0.00      0.01         0.00          <NA>         NaN   \n",
      "16711      0.00      0.01      0.00         0.00          <NA>         NaN   \n",
      "16712      0.00      0.00      0.01         0.00          <NA>         NaN   \n",
      "16713      0.01      0.00      0.00         0.00          <NA>         NaN   \n",
      "16714      0.00      0.00      0.01         0.00          <NA>         NaN   \n",
      "\n",
      "      rating  \n",
      "1        NaN  \n",
      "4        NaN  \n",
      "5        NaN  \n",
      "9        NaN  \n",
      "10       NaN  \n",
      "...      ...  \n",
      "16710    NaN  \n",
      "16711    NaN  \n",
      "16712    NaN  \n",
      "16713    NaN  \n",
      "16714    NaN  \n",
      "\n",
      "[9125 rows x 11 columns]\n",
      "\n",
      "Filas donde la columna 'rating' tiene valores nulos:\n",
      "                                name platform year_of_release         genre  \\\n",
      "1                  Super Mario Bros.      NES      1985-01-01      Platform   \n",
      "4           Pokemon Red/Pokemon Blue       GB      1996-01-01  Role-Playing   \n",
      "5                             Tetris       GB      1989-01-01        Puzzle   \n",
      "9                          Duck Hunt      NES      1984-01-01       Shooter   \n",
      "10                        Nintendogs       DS      2005-01-01    Simulation   \n",
      "...                              ...      ...             ...           ...   \n",
      "16710  Samurai Warriors: Sanada Maru      PS3      2016-01-01        Action   \n",
      "16711               LMA Manager 2007     X360      2006-01-01        Sports   \n",
      "16712        Haitaka no Psychedelica      PSV      2016-01-01     Adventure   \n",
      "16713               Spirits & Spells      GBA      2003-01-01      Platform   \n",
      "16714            Winning Post 8 2016      PSV      2016-01-01    Simulation   \n",
      "\n",
      "       na_sales  eu_sales  jp_sales  other_sales  critic_score  user_score  \\\n",
      "1         29.08      3.58      6.81         0.77          <NA>         NaN   \n",
      "4         11.27      8.89     10.22         1.00          <NA>         NaN   \n",
      "5         23.20      2.26      4.22         0.58          <NA>         NaN   \n",
      "9         26.93      0.63      0.28         0.47          <NA>         NaN   \n",
      "10         9.05     10.95      1.93         2.74          <NA>         NaN   \n",
      "...         ...       ...       ...          ...           ...         ...   \n",
      "16710      0.00      0.00      0.01         0.00          <NA>         NaN   \n",
      "16711      0.00      0.01      0.00         0.00          <NA>         NaN   \n",
      "16712      0.00      0.00      0.01         0.00          <NA>         NaN   \n",
      "16713      0.01      0.00      0.00         0.00          <NA>         NaN   \n",
      "16714      0.00      0.00      0.01         0.00          <NA>         NaN   \n",
      "\n",
      "      rating  \n",
      "1        NaN  \n",
      "4        NaN  \n",
      "5        NaN  \n",
      "9        NaN  \n",
      "10       NaN  \n",
      "...      ...  \n",
      "16710    NaN  \n",
      "16711    NaN  \n",
      "16712    NaN  \n",
      "16713    NaN  \n",
      "16714    NaN  \n",
      "\n",
      "[6766 rows x 11 columns]\n"
     ]
    }
   ],
   "source": [
    "columnas_a_verificar = ['name', 'year_of_release', 'genre', 'critic_score', 'user_score', 'rating']\n",
    "\n",
    "for columna in columnas_a_verificar:\n",
    "    filas_con_nulos = data[data[columna].isnull()]\n",
    "    if not filas_con_nulos.empty:\n",
    "        print(f\"\\nFilas donde la columna '{columna}' tiene valores nulos:\")\n",
    "        print(filas_con_nulos)\n",
    "    else:\n",
    "        print(f\"\\nNo se encontraron valores nulos en la columna '{columna}'.\")"
   ]
  },
  {
   "cell_type": "markdown",
   "metadata": {},
   "source": [
    "#### Tipo de relleno de valores ausentes"
   ]
  },
  {
   "cell_type": "markdown",
   "metadata": {},
   "source": [
    "✔️ **Columna o serie year_of_release a datetime**\n",
    "- Los valores ausentes en esta columna se mantuvieron como NaN popr tratarse de una serie de años. La razón es el posible sesgo si se rellena con el promedio de las fechas un tanto dispersas, esto porque el lanzamiento es una característica intrínseca del juego.\n",
    "\n",
    "✔️ **Columna critic_score (calificación crítica):**\n",
    "- También se mantienen los valores ausentes como NaN. Esta calificación es una evaluación subjetiva y específica. Rellenarlos con la media o mediana distorsionaría la distribución de crítica real.\n",
    "\n",
    "✔️ **Columna user_score (Calificación del usuario):**\n",
    "- Se mantienen como NaN, máxime después de haber reemplazado la abreviatura TBD (To Be Determined) con NaN. La calificación del usuario al igual que la de la crítica externa obedece a una opinión individual subjetiva y propia de los jugadores, dificultando ser estimada de forma precisa.\n",
    "\n",
    "✔️ **Columna \"genre\" y columna \"name\" solo tienen dos filas con Missing value**\n",
    "    \n",
    "- Filas donde las columnas 'genre' y 'name' tienen valores nulos como se observa a continuación:\n",
    "\n",
    "|      | name    | platform | year_of_release   | genre   |   na_sales |   eu_sales |   jp_sales |   other_sales |   critic_score | user_score   | rating   |\n",
    "|-----:|:--------|:---------|:------------------|:--------|-----------:|-----------:|-----------:|--------------:|---------------:|:-------------|:---------|\n",
    "|  659 | NaN     | GEN      | 1993| NaN     |       1.78 |       0.53 |       0    |          0.08 |           <NA> | NaN          | NaN      |\n",
    "| 14244| NaN     | GEN      | 1993 | NaN     |       0    |       0    |       0.03 |          0    |           <NA> | NaN          | NaN      |"
   ]
  },
  {
   "cell_type": "markdown",
   "metadata": {},
   "source": [
    "#### Causas posibles de los valores asusentes"
   ]
  },
  {
   "cell_type": "markdown",
   "metadata": {},
   "source": [
    "💡**Posibles razones para la ausencia de valores:**\n",
    "\n",
    "  - Error al recolectar los datos (fallo técnicos o error humano)\n",
    "  - Disponibilidad: Datos no disponibles en las fuentes originales (calificaciones críticas o de usuarios pudiesen no existir para juegos más antiguos o no tan populares).\n",
    "  - Omisión intencional: Juego no clasificado por la ESRB en ciertas regiones.\n",
    "  - Inconsistencias: Fuentes de datos distintas con diferentes detalle o convenciones para registro. "
   ]
  },
  {
   "cell_type": "markdown",
   "metadata": {},
   "source": [
    "####  Tratamiento de la abreviatura tbd (\"to be determined\")"
   ]
  },
  {
   "cell_type": "markdown",
   "metadata": {},
   "source": [
    "💡 **Manejo de abreviatura tbd (\"to be determined\"):**\n",
    "  - Sólo está en la columna user_score como una calificación aún no registrada cuandos se recopilan.\n",
    "  - Se tratan como valores ausentes y se reemplazaron con NaN. \n",
    "  - Este proceder es debifo a que \"a determinar\" no es  una calificación numérica válida para análisis cuantitativos. \n",
    "  - NaN permite excluirlos con técnicas de imputación de ser necesario en etapas posteriores.\n",
    "    \n",
    "    _**Antes y después de convertir \"tbd\" a NaN**_\n",
    "\n",
    "| Característica                 | Antes                    | Después                   |\n",
    "|--------------------------------|--------------------------|---------------------------|\n",
    "| **DATA SUMMARY**               |                          |                           |\n",
    "| Data shape                     | 16,715 rows x 11 columns | 16,715 rows x 11 columns  |\n",
    "| Columns                        | 11                       | 11                        |\n",
    "| **ROWS**                       |                          |                           | \n",
    "| Rows                           | 16,715                   | 16,715                    |\n",
    "| Rows with missing values       | 8,837 (52.9%)            | **9,889 (59.2%)**         |\n",
    "| Duplicate rows                 | 0 (0.0%)                 | 0 (0.0%)                  |\n",
    "| **MISSING VALUES (by column)** |                          |                           |\n",
    "| Total missing values           | 22,318                   | **24,742**                |\n",
    "| name                           | 2                        | 2                         |\n",
    "| year_of_release                | 269                      | 269                       |\n",
    "| genre                          | 2                        | 2                         |\n",
    "| critic_score                   | 8,578                    | 8,578                     |\n",
    "| user_score                     | 6,701                    | **9,125**                 |\n",
    "| rating                         | 6,766                    | 6,766                     |\n",
    "\n",
    "Se ve claro un aumento de Missing value de 8,837 (52.9%) a 9,889 (59.2%) con respecto al total de 16,715; en donde, aumenta la serie de \"user_score\" de 6,701 a 9,125 en valores NaN.       "
   ]
  },
  {
   "cell_type": "markdown",
   "metadata": {},
   "source": [
    "### Tratamiento de valores ausentes"
   ]
  },
  {
   "cell_type": "markdown",
   "metadata": {},
   "source": [
    "#### Cálculo de las ventas totales (suma de ventas en todas las regiones para cada juego)"
   ]
  },
  {
   "cell_type": "code",
   "execution_count": 13,
   "metadata": {
    "trusted": true
   },
   "outputs": [
    {
     "name": "stdout",
     "output_type": "stream",
     "text": [
      "                        name  na_sales  eu_sales  jp_sales  other_sales  \\\n",
      "0                 Wii Sports     41.36     28.96      3.77         8.45   \n",
      "1          Super Mario Bros.     29.08      3.58      6.81         0.77   \n",
      "2             Mario Kart Wii     15.68     12.76      3.79         3.29   \n",
      "3          Wii Sports Resort     15.61     10.93      3.28         2.95   \n",
      "4   Pokemon Red/Pokemon Blue     11.27      8.89     10.22         1.00   \n",
      "5                     Tetris     23.20      2.26      4.22         0.58   \n",
      "6      New Super Mario Bros.     11.28      9.14      6.50         2.88   \n",
      "7                   Wii Play     13.96      9.18      2.93         2.84   \n",
      "8  New Super Mario Bros. Wii     14.44      6.94      4.70         2.24   \n",
      "9                  Duck Hunt     26.93      0.63      0.28         0.47   \n",
      "\n",
      "   total_sales  \n",
      "0        82.54  \n",
      "1        40.24  \n",
      "2        35.52  \n",
      "3        32.77  \n",
      "4        31.38  \n",
      "5        30.26  \n",
      "6        29.80  \n",
      "7        28.91  \n",
      "8        28.32  \n",
      "9        28.31  \n"
     ]
    }
   ],
   "source": [
    "# Ventas por región: \"na_sales\", \"eu_sales\", \"jp_sales\" y \"other_sales\"\n",
    "\n",
    "data['total_sales'] = data['na_sales'] + data['eu_sales'] + data['jp_sales'] + data['other_sales']\n",
    "\n",
    "# Ordenar de mayor a menor por \"total_sales\"\n",
    "data_ordenado = data.sort_values(by='total_sales', ascending=False)\n",
    "\n",
    "print(data[['name', 'na_sales', 'eu_sales', 'jp_sales', 'other_sales', 'total_sales']].head(10))"
   ]
  },
  {
   "cell_type": "code",
   "execution_count": 14,
   "metadata": {
    "trusted": true
   },
   "outputs": [
    {
     "name": "stdout",
     "output_type": "stream",
     "text": [
      "genre       Action  Adventure  Fighting      Misc  Platform    Puzzle  \\\n",
      "platform                                                                \n",
      "2600      0.479508   0.850000  0.620000  0.714000  1.473333  1.335455   \n",
      "3DO       0.000000   0.060000  0.000000  0.000000  0.000000  0.020000   \n",
      "3DS       0.309787   0.129474  0.754286  0.203519  1.161786  0.278500   \n",
      "DC        0.420000   0.227273  0.152500  0.000000  1.265000  0.000000   \n",
      "DS        0.331118   0.193151  0.196667  0.346905  0.833297  0.349492   \n",
      "GB        1.321667   3.430000  0.000000  1.668750  2.890000  3.164667   \n",
      "GBA       0.333293   0.385000  0.180870  0.328091  0.550775  0.312439   \n",
      "GC        0.373267   0.296500  0.438810  0.464444  0.391644  0.360769   \n",
      "GEN       0.913333   0.095000  1.178000  0.030000  2.205714  0.000000   \n",
      "GG        0.000000   0.000000  0.000000  0.000000  0.040000  0.000000   \n",
      "N64       0.777368   0.112500  0.762414  0.622222  1.203333  0.282500   \n",
      "NES       2.211538   4.380000  1.635000  1.795000  3.420714  1.499286   \n",
      "NG        0.000000   0.000000  0.129091  0.000000  0.000000  0.000000   \n",
      "PC        0.185647   0.154154  0.048333  0.355417  0.041818  0.036400   \n",
      "PCFX      0.000000   0.000000  0.000000  0.000000  0.000000  0.000000   \n",
      "PS        0.809045   0.303333  0.673519  0.590526  1.003438  0.376875   \n",
      "PS2       0.783649   0.108367  0.617400  0.455360  0.704272  0.330000   \n",
      "PS3       0.793658   0.301486  0.672500  0.374880  0.805405  0.196667   \n",
      "PS4       0.667361   0.226429  0.480556  0.409500  0.640833  0.020000   \n",
      "PSP       0.288423   0.050094  0.294865  0.130943  0.474167  0.123864   \n",
      "PSV       0.114228   0.041290  0.163750  0.184583  0.284444  0.060000   \n",
      "SAT       0.216667   0.160000  0.275161  0.080000  0.152000  0.200000   \n",
      "SCD       0.000000   0.000000  0.000000  0.045000  1.500000  0.000000   \n",
      "SNES      0.840000   0.375000  1.077600  0.295294  2.525000  0.490769   \n",
      "TG16      0.000000   0.140000  0.000000  0.000000  0.000000  0.000000   \n",
      "WS        0.000000   0.000000  0.000000  0.000000  0.000000  0.000000   \n",
      "Wii       0.482954   0.214458  0.556905  0.772179  1.533103  0.278727   \n",
      "WiiU      0.297969   0.056667  1.254000  0.566364  1.266471  0.330000   \n",
      "X360      0.741950   0.310208  0.574154  0.721024  0.451600  0.124286   \n",
      "XB        0.317871   0.116154  0.281875  0.206304  0.196531  0.058571   \n",
      "XOne      0.438941   0.191429  0.350000  0.391053  0.186000  0.000000   \n",
      "\n",
      "genre       Racing  Role-Playing   Shooter  Simulation    Sports  Strategy  \n",
      "platform                                                                    \n",
      "2600      0.485000      0.000000  1.102917    0.440000  0.287500  0.000000  \n",
      "3DO       0.000000      0.000000  0.000000    0.020000  0.000000  0.000000  \n",
      "3DS       1.360000      0.957159  0.184286    0.885484  0.237308  0.139333  \n",
      "DC        0.441667      0.170000  0.110000    0.520000  0.365000  0.000000  \n",
      "DS        0.567164      0.622250  0.187143    0.459293  0.212027  0.188228  \n",
      "GB        2.275000      4.201905  1.190000    0.710000  1.006667  1.151429  \n",
      "GBA       0.293906      0.879452  0.089000    0.330000  0.185455  0.414444  \n",
      "GC        0.347143      0.487407  0.283542    0.717500  0.230364  0.389091  \n",
      "GEN       0.260000      0.090000  0.130000    0.000000  1.070000  0.190000  \n",
      "GG        0.000000      0.000000  0.000000    0.000000  0.000000  0.000000  \n",
      "N64       0.701930      0.418750  0.802500    1.018000  0.409375  1.148889  \n",
      "NES       2.445000      1.707273  5.088571    0.000000  1.917143  0.000000  \n",
      "NG        0.000000      0.000000  0.000000    0.000000  0.020000  0.000000  \n",
      "PC        0.065902      0.458365  0.305200    0.437583  0.239400  0.243617  \n",
      "PCFX      0.000000      0.030000  0.000000    0.000000  0.000000  0.000000  \n",
      "PS        0.711793      0.808247  0.409688    0.422333  0.544820  0.306761  \n",
      "PS2       0.724028      0.500267  0.678062    0.473889  0.683700  0.212394  \n",
      "PS3       0.784022      0.619412  1.234231    0.334839  0.625140  0.202083  \n",
      "PS4       0.638947      0.568431  2.160000    0.205000  1.208913  0.103333  \n",
      "PSP       0.544921      0.254688  0.530541    0.222857  0.310149  0.174500  \n",
      "PSV       0.228182      0.144302  0.776000    0.020000  0.182174  0.050000  \n",
      "SAT       0.300000      0.221176  0.180455    0.161429  0.174375  0.180000  \n",
      "SCD       0.070000      0.060000  0.000000    0.000000  0.000000  0.140000  \n",
      "SNES      1.498889      0.729000  0.606000    0.625556  0.364490  0.332000  \n",
      "TG16      0.000000      0.000000  0.020000    0.000000  0.000000  0.000000  \n",
      "WS        0.000000      0.305000  0.000000    0.000000  0.000000  0.100000  \n",
      "Wii       0.646882      0.391714  0.431846    0.412644  1.109769  0.200800  \n",
      "WiiU      2.623333      0.412857  0.601000    0.200000  0.395000  0.413333  \n",
      "X360      0.624808      0.951867  1.364138    0.354750  0.637512  0.357500  \n",
      "XB        0.255122      0.587391  0.481364    0.296250  0.318294  0.130476  \n",
      "XOne      0.489500      0.753571  1.587632    0.172500  0.703684  0.140000  \n"
     ]
    }
   ],
   "source": [
    "pivot_ventas = pd.pivot_table(data,\n",
    "                               index='platform',\n",
    "                               columns='genre',\n",
    "                               values='total_sales',\n",
    "                               aggfunc='mean',\n",
    "                               fill_value=0)  # NaN con 0 si es necesario\n",
    "\n",
    "print(pivot_ventas)"
   ]
  },
  {
   "cell_type": "markdown",
   "metadata": {},
   "source": [
    "<div class=\"alert alert-block alert-success\">\n",
    "<b>Comentario del revisor</b> <a class=\"tocSkip\"></a><br />\n",
    "Bien hecho!<br/>\n",
    "\n",
    "Hiciste un buen trabajo al cambiar los nombres de las columnas, sus tipos de datos y reemplazar los valores ausentes\n",
    "</div>\n"
   ]
  },
  {
   "cell_type": "markdown",
   "metadata": {},
   "source": [
    "## Analiza los datos"
   ]
  },
  {
   "cell_type": "markdown",
   "metadata": {},
   "source": [
    "### ¿Cuántos juegos se lanzan en distintos años?\n",
    "- ¿Son significativos los datos de cada período?"
   ]
  },
  {
   "cell_type": "code",
   "execution_count": 15,
   "metadata": {
    "trusted": true
   },
   "outputs": [
    {
     "name": "stdout",
     "output_type": "stream",
     "text": [
      "Cantidad de juegos lanzados por año:\n",
      "1980-01-01       9\n",
      "1981-01-01      46\n",
      "1982-01-01      36\n",
      "1983-01-01      17\n",
      "1984-01-01      14\n",
      "1985-01-01      14\n",
      "1986-01-01      21\n",
      "1987-01-01      16\n",
      "1988-01-01      15\n",
      "1989-01-01      17\n",
      "1990-01-01      16\n",
      "1991-01-01      41\n",
      "1992-01-01      43\n",
      "1993-01-01      62\n",
      "1994-01-01     121\n",
      "1995-01-01     219\n",
      "1996-01-01     263\n",
      "1997-01-01     289\n",
      "1998-01-01     379\n",
      "1999-01-01     338\n",
      "2000-01-01     350\n",
      "2001-01-01     482\n",
      "2002-01-01     829\n",
      "2003-01-01     775\n",
      "2004-01-01     762\n",
      "2005-01-01     939\n",
      "2006-01-01    1006\n",
      "2007-01-01    1197\n",
      "2008-01-01    1427\n",
      "2009-01-01    1426\n",
      "2010-01-01    1255\n",
      "2011-01-01    1136\n",
      "2012-01-01     653\n",
      "2013-01-01     544\n",
      "2014-01-01     581\n",
      "2015-01-01     606\n",
      "2016-01-01     502\n",
      "Name: year_of_release, dtype: int64\n"
     ]
    }
   ],
   "source": [
    "# Conteo por año\n",
    "conteo_juegos_por_año = data['year_of_release'].value_counts().sort_index()\n",
    "\n",
    "print(\"Cantidad de juegos lanzados por año:\")\n",
    "print(conteo_juegos_por_año)"
   ]
  },
  {
   "cell_type": "code",
   "execution_count": 16,
   "metadata": {
    "trusted": true
   },
   "outputs": [
    {
     "name": "stdout",
     "output_type": "stream",
     "text": [
      "Juegos lanzados por año según cantidad:\n",
      "2008-01-01    1427\n",
      "2009-01-01    1426\n",
      "2010-01-01    1255\n",
      "2007-01-01    1197\n",
      "2011-01-01    1136\n",
      "2006-01-01    1006\n",
      "2005-01-01     939\n",
      "2002-01-01     829\n",
      "2003-01-01     775\n",
      "2004-01-01     762\n",
      "2012-01-01     653\n",
      "2015-01-01     606\n",
      "2014-01-01     581\n",
      "2013-01-01     544\n",
      "2016-01-01     502\n",
      "2001-01-01     482\n",
      "1998-01-01     379\n",
      "2000-01-01     350\n",
      "1999-01-01     338\n",
      "1997-01-01     289\n",
      "1996-01-01     263\n",
      "1995-01-01     219\n",
      "1994-01-01     121\n",
      "1993-01-01      62\n",
      "1981-01-01      46\n",
      "1992-01-01      43\n",
      "1991-01-01      41\n",
      "1982-01-01      36\n",
      "1986-01-01      21\n",
      "1989-01-01      17\n",
      "1983-01-01      17\n",
      "1990-01-01      16\n",
      "1987-01-01      16\n",
      "1988-01-01      15\n",
      "1985-01-01      14\n",
      "1984-01-01      14\n",
      "1980-01-01       9\n",
      "Name: year_of_release, dtype: int64\n"
     ]
    }
   ],
   "source": [
    "# Conteo por cantidad\n",
    "conteo_juegos_por_año = data['year_of_release'].value_counts().sort_index().sort_values(ascending=False)\n",
    "print(\"Juegos lanzados por año según cantidad:\")\n",
    "print(conteo_juegos_por_año)"
   ]
  },
  {
   "cell_type": "markdown",
   "metadata": {},
   "source": [
    "🚀 Significancia de los datos por período:<br><br>\n",
    "- Tendencia histórica: \n",
    "  - Crecimiento exponencial en la cantidad de lanzamientos desde los 80´s y hasta finales de la decada del año 2000; producto de: \n",
    "    - Expansión de la industria\n",
    "    - Aparición de nuevas plataformas\n",
    "    - Avance tecnológico\n",
    "    - Creciente popularidad de estos productos de entretenimiento.\n",
    "<br><br>\n",
    "- Puntos de inflexión:\n",
    "  - Un aumento importante de lanzamientos que inicia a mediados de los 90´s que coincide con el posicionamiento de las consolas (32 y  64 bits) y la moda de los juegos para PC. \n",
    "  - El pico alrededor entre el 2008 y 2009 puede obedecer al éxito de plataformas como Xbox 360, PlayStation 3 y Nintendo Wii; conjuntamente con el impacto dentro del mercado de juegos tpo casual o portatil (Nintendo DS y PSP).\n",
    "<br><br>\n",
    "- Declive reciente: Posterior al pico mencionado anteriormente se observa una reducción significativa en el número de lanzamientos desde el 2012. Estos hallazgos son primordiales para comprender las tendencias actuales de la industria, debido talvez a:\n",
    "  - Aumento de costos de desarrollo\n",
    "  - Enfoque inclinado a juegos de mayor calidad y no tanto en cantidad\n",
    "  - Crecimiento del mercado con respecto a los juegos digitales\n",
    "  - Consolidación de los estudios en desarrollo para videojuegos. \n",
    "<br><br>\n",
    "- Plataformas y géneros: Los períodos están interrelacionados a las plataformas y géneros que eran populares en ese momento específico. \n",
    "  - Esto ayuda a entender la evolución de gustos, necesidades y preferencias del cliente ideal\n",
    "  - Aporta datos sobre el ciclo de vida de las consolas.\n",
    "<br><br>\n",
    "- Análisis por período: \n",
    "  - Propicia analizar el impacto de un hecho específico o aislado, como:\n",
    "    - Lanzamiento de una nueva consola en un año específico.\n",
    "    - Los datos sobre ese período en particular\n",
    "    - Los datos sobre los años circundantes.\n",
    "<br><br>\n",
    "- Consideraciones significativas:\n",
    "  - Volumen absoluto vs. impacto: \n",
    "    - Los años con mayor cantidad de lanzamientos tienen más datos\n",
    "    - Los juegos que se lanzaron en períodos con menor cantidad de lanzamientos pudiesen haber tenido un impacto cultural o comercial mayor.\n",
    "<br><br>\n",
    "- Calidad vs. cantidad: \n",
    "  - La cantidad de lanzamientos no significa una fuerte correlación con la calidad o éxito del juego.\n",
    "  - Amerita un análisis profundo que considere distintas métricas como:\n",
    "    - Ventas\n",
    "    - Calificaciones\n",
    "    - Recepción crítica.\n",
    "<br><br>\n",
    "**Los datos de los períodos ayuda a entender la trayectoria e impacto sobre la industria de videojuegos en el tiempo. Esto nos permite identificar tendencias, puntos de inflexión y variaciones con relación a cambios sobre la cantidad de lanzamientos."
   ]
  },
  {
   "cell_type": "markdown",
   "metadata": {},
   "source": [
    "<div class=\"alert alert-block alert-success\">\n",
    "<b>Comentario del revisor</b> <a class=\"tocSkip\"></a><br />\n",
    "Correcto!<br/>\n",
    "\n",
    "Buena manera de presentar los datos, podemos ver claramente la tendencia de los videojuegos \n",
    "</div>\n"
   ]
  },
  {
   "cell_type": "markdown",
   "metadata": {},
   "source": [
    "### Variación de ventas entre plataformas. "
   ]
  },
  {
   "cell_type": "markdown",
   "metadata": {},
   "source": [
    "#### Elige las plataformas con las mayores ventas totales"
   ]
  },
  {
   "cell_type": "code",
   "execution_count": 17,
   "metadata": {
    "trusted": true
   },
   "outputs": [
    {
     "name": "stdout",
     "output_type": "stream",
     "text": [
      "Plataformas con mayores ventas (en millones USD) son:\n",
      "platform\n",
      "PS2     1255.77\n",
      "X360     971.42\n",
      "PS3      939.65\n",
      "Wii      907.51\n",
      "DS       806.12\n",
      "PS       730.86\n",
      "GBA      317.85\n",
      "PS4      314.14\n",
      "PSP      294.05\n",
      "PC       259.52\n",
      "3DS      259.00\n",
      "XB       257.74\n",
      "GB       255.46\n",
      "NES      251.05\n",
      "N64      218.68\n",
      "SNES     200.04\n",
      "GC       198.93\n",
      "XOne     159.32\n",
      "2600      96.98\n",
      "WiiU      82.19\n",
      "PSV       54.07\n",
      "SAT       33.59\n",
      "GEN       30.77\n",
      "DC        15.95\n",
      "SCD        1.86\n",
      "NG         1.44\n",
      "WS         1.42\n",
      "TG16       0.16\n",
      "3DO        0.10\n",
      "GG         0.04\n",
      "PCFX       0.03\n",
      "Name: total_sales, dtype: float64\n"
     ]
    }
   ],
   "source": [
    "# Plataforma y ventas totales\n",
    "ventas_por_plataforma = data.groupby('platform')['total_sales'].sum()\n",
    "\n",
    "# Ordenar de mayor a menor\n",
    "plataformas_mas_vendidas = ventas_por_plataforma.sort_values(ascending=False)\n",
    "\n",
    "print(\"Plataformas con mayores ventas (en millones USD) son:\")\n",
    "print(plataformas_mas_vendidas)"
   ]
  },
  {
   "cell_type": "markdown",
   "metadata": {},
   "source": [
    "<div class=\"alert alert-block alert-success\">\n",
    "<b>Comentario del revisor</b> <a class=\"tocSkip\"></a><br />\n",
    "Correcto!<br/>\n",
    "\n",
    "Buena manera de agrupar y mostrar los datos de forma descendente\n",
    "</div>\n"
   ]
  },
  {
   "cell_type": "markdown",
   "metadata": {},
   "source": [
    "#### Distribución basada en los datos de cada año. "
   ]
  },
  {
   "cell_type": "code",
   "execution_count": 18,
   "metadata": {
    "trusted": true
   },
   "outputs": [
    {
     "name": "stdout",
     "output_type": "stream",
     "text": [
      "\\Distribución de ventas anuales para plataformas con más ventas:\n",
      "platform             DS     PS2     PS3     Wii    X360\n",
      "year_of_release                                        \n",
      "1985-01-01         0.02    0.00    0.00    0.00    0.00\n",
      "2000-01-01         0.00   39.17    0.00    0.00    0.00\n",
      "2001-01-01         0.00  166.43    0.00    0.00    0.00\n",
      "2002-01-01         0.00  205.38    0.00    0.00    0.00\n",
      "2003-01-01         0.00  184.31    0.00    0.00    0.00\n",
      "2004-01-01        17.27  211.81    0.00    0.00    0.00\n",
      "2005-01-01       130.14  160.66    0.00    0.00    8.25\n",
      "2006-01-01       119.81  103.42   20.96  137.15   51.62\n",
      "2007-01-01       146.94   75.99   73.19  152.77   95.41\n",
      "2008-01-01       145.31   53.90  118.52  171.32  135.26\n",
      "2009-01-01       119.54   26.40  130.93  206.97  120.29\n",
      "2010-01-01        85.02    5.64  142.17  127.95  170.03\n",
      "2011-01-01        26.18    0.45  156.78   59.65  143.84\n",
      "2012-01-01        11.01    0.00  107.36   21.71   99.74\n",
      "2013-01-01         1.54    0.00  113.25    8.59   88.58\n",
      "2014-01-01         0.00    0.00   47.76    3.75   34.74\n",
      "2015-01-01         0.00    0.00   16.82    1.14   11.96\n",
      "2016-01-01         0.00    0.00    3.60    0.18    1.52\n"
     ]
    }
   ],
   "source": [
    "# Plataformas más vendidas (top 5)\n",
    "top_n = 5\n",
    "plataformas_top = data.groupby('platform')['total_sales'].sum().nlargest(top_n).index.tolist()\n",
    "\n",
    "# Filtro top\n",
    "data_top_plataformas = data[data['platform'].isin(plataformas_top)]\n",
    "\n",
    "# Año y plataforma con ventas totales\n",
    "ventas_anuales_por_plataforma = data_top_plataformas.groupby(['year_of_release', 'platform'])['total_sales'].sum().unstack(fill_value=0)\n",
    "\n",
    "print(\"\\Distribución de ventas anuales para plataformas con más ventas:\")\n",
    "print(ventas_anuales_por_plataforma)"
   ]
  },
  {
   "cell_type": "markdown",
   "metadata": {},
   "source": [
    "<div class=\"alert alert-block alert-success\">\n",
    "<b>Comentario del revisor</b> <a class=\"tocSkip\"></a><br />\n",
    "Bien hecho!<br/>\n",
    "\n",
    "Podemos observar como en los últimos años la separación entre consolas cada vez es menor\n",
    "</div>\n"
   ]
  },
  {
   "cell_type": "markdown",
   "metadata": {},
   "source": [
    "#### Plataformas que solían ser populares pero que ahora no tienen ventas. \n",
    "  - Construye una distribución basada en los datos de cada año. "
   ]
  },
  {
   "cell_type": "code",
   "execution_count": 19,
   "metadata": {
    "trusted": true
   },
   "outputs": [
    {
     "name": "stdout",
     "output_type": "stream",
     "text": [
      "\n",
      "Plataformas que solían ser populares pero ahora no tienen ventas (aprox.):\n",
      "['NES', 'GB', 'SNES', 'GBA', 'N64', 'PS', 'XB', '2600', 'GC', 'GEN', 'DC', 'SAT']\n"
     ]
    }
   ],
   "source": [
    "plataformas_desaparecidas = []\n",
    "ultimo_año = data['year_of_release'].max()\n",
    "\n",
    "for plataforma in data['platform'].unique():\n",
    "    ventas_recientes = data[(data['platform'] == plataforma) & (data['year_of_release'] >= ultimo_año - pd.DateOffset(years=5))]['total_sales'].sum()\n",
    "    ventas_antiguas = data[(data['platform'] == plataforma) & (data['year_of_release'] <= ultimo_año - pd.DateOffset(years=10))]['total_sales'].sum()\n",
    "    if ventas_antiguas > 10 and ventas_recientes == 0:  # márgenes\n",
    "        plataformas_desaparecidas.append(plataforma)\n",
    "\n",
    "print(\"\\nPlataformas que solían ser populares pero ahora no tienen ventas (aprox.):\")\n",
    "print(plataformas_desaparecidas)"
   ]
  },
  {
   "cell_type": "markdown",
   "metadata": {},
   "source": [
    "#### ¿Cuánto tardan generalmente las nuevas plataformas en aparecer y las antiguas en desaparecer?"
   ]
  },
  {
   "cell_type": "code",
   "execution_count": 20,
   "metadata": {
    "trusted": true
   },
   "outputs": [
    {
     "name": "stdout",
     "output_type": "stream",
     "text": [
      "\n",
      "Vida útil de las plataformas (aproximación):\n",
      "     Primer Año Último Año Duración (años)\n",
      "PC   1985-01-01 2016-01-01      11322 days\n",
      "DS   1985-01-01 2013-01-01      10227 days\n",
      "GB   1988-01-01 2001-01-01       4749 days\n",
      "PS2  2000-01-01 2011-01-01       4018 days\n",
      "PSP  2004-01-01 2015-01-01       4018 days\n",
      "NES  1983-01-01 1994-01-01       4018 days\n",
      "X360 2005-01-01 2016-01-01       4017 days\n",
      "Wii  2006-01-01 2016-01-01       3652 days\n",
      "PS3  2006-01-01 2016-01-01       3652 days\n",
      "DC   1998-01-01 2008-01-01       3652 days\n",
      "2600 1980-01-01 1989-01-01       3288 days\n",
      "SNES 1990-01-01 1999-01-01       3287 days\n",
      "PS   1994-01-01 2003-01-01       3287 days\n",
      "XB   2000-01-01 2008-01-01       2922 days\n",
      "GBA  2000-01-01 2007-01-01       2557 days\n",
      "N64  1996-01-01 2002-01-01       2192 days\n",
      "GC   2001-01-01 2007-01-01       2191 days\n",
      "3DS  2011-01-01 2016-01-01       1826 days\n",
      "PSV  2011-01-01 2016-01-01       1826 days\n",
      "SAT  1994-01-01 1999-01-01       1826 days\n",
      "WiiU 2012-01-01 2016-01-01       1461 days\n",
      "GEN  1990-01-01 1994-01-01       1461 days\n",
      "PS4  2013-01-01 2016-01-01       1095 days\n",
      "XOne 2013-01-01 2016-01-01       1095 days\n",
      "NG   1993-01-01 1996-01-01       1095 days\n",
      "WS   1999-01-01 2001-01-01        731 days\n",
      "SCD  1993-01-01 1994-01-01        365 days\n",
      "3DO  1994-01-01 1995-01-01        365 days\n",
      "TG16 1995-01-01 1995-01-01          0 days\n",
      "GG   1992-01-01 1992-01-01          0 days\n",
      "PCFX 1996-01-01 1996-01-01          0 days\n"
     ]
    }
   ],
   "source": [
    "vida_util_plataformas = {}\n",
    "for plataforma in data['platform'].unique():\n",
    "    ventas_plataforma = data[data['platform'] == plataforma]\n",
    "    if not ventas_plataforma.empty:\n",
    "        primer_año = ventas_plataforma['year_of_release'].min()\n",
    "        ultimo_año = ventas_plataforma['year_of_release'].max()\n",
    "        vida_util_plataformas[plataforma] = (primer_año, ultimo_año, ultimo_año - primer_año)\n",
    "\n",
    "vida_util_df = pd.DataFrame.from_dict(vida_util_plataformas, orient='index', columns=['Primer Año', 'Último Año', 'Duración (años)'])\n",
    "print(\"\\nVida útil de las plataformas (aproximación):\")\n",
    "print(vida_util_df.sort_values(by='Duración (años)', ascending=False))"
   ]
  },
  {
   "cell_type": "markdown",
   "metadata": {},
   "source": [
    "- Hay una variabilidad de acuerdo a su longevidad:\n",
    "  - Algunas tiene un ciclo corto entre 5 y 10 años\n",
    "  - Otras (en especial las consolas domésticas) de compañías más destacadas se extienden aún más entre 10 y hasta 20 años o más.\n",
    "  - Las nuevas plataformas coinciden con avances tecnológicos comúnmente\n",
    "    - Nuevos modelos de negocio y actores al mercado pueden generar un aumento en la cantidad de juegos disponibles para esas plataformas en los años posteriores.\n",
    "\n",
    "- La desaparición de plataformas antiguas conlleva una disminución paulatina en sus lanzamientos hasta ser nulos\n",
    "  - Este proceso es gradual e impulsado por:\n",
    "    - Obsolescencia tecnológica\n",
    "    - Falta de soporte de los desarrolladores\n",
    "    - Cambio en las preferencias de los consumidores\n",
    "    - Competencia de plataformas nuevas y atractivas.\n",
    "\n",
    "El ciclo de vida de las plataformas pareciese estar influenciado por el efecto innovación-tecnología, aunado a la aceptación de los consumidores y el contexto del desarrollo de software. El tiempo entre la aparición y declive de una plataforma exitosa es variable debido a su dinamismo comercial y competitivo."
   ]
  },
  {
   "cell_type": "markdown",
   "metadata": {},
   "source": [
    "<div class=\"alert alert-block alert-success\">\n",
    "<b>Comentario del revisor</b> <a class=\"tocSkip\"></a><br />\n",
    "Correcto!<br/>\n",
    "\n",
    "Es interesante la grafica ya que nos da una idea clara del tiempo de vida de cada una de las consolas y es fácil hacer la comparación contra sus similares\n",
    "</div>\n"
   ]
  },
  {
   "cell_type": "markdown",
   "metadata": {},
   "source": [
    "### Determina para qué período debes tomar datos. \n",
    "- Para hacerlo mira tus respuestas a las preguntas anteriores. \n",
    "- Los datos deberían permitirte construir un modelo para 2017."
   ]
  },
  {
   "cell_type": "markdown",
   "metadata": {},
   "source": [
    "### Trabaja solo con los datos que consideras relevantes. \n",
    "- Ignora los datos de años anteriores."
   ]
  },
  {
   "cell_type": "markdown",
   "metadata": {},
   "source": [
    "**Consideraciones del punto 3.3 y 3.4:**\n",
    "\n",
    "- Tendencia de Lanzamientos: \n",
    "  - Crecimiento importante en la cantidad de lanzamientos entre 2008-2009\n",
    "    - Luego un descenso hasta 2016.\n",
    "  - Los patrones de la industria cambian con el tiempo.\n",
    "\n",
    "- Vida útil de las plataformas: \n",
    "  - Ciclos de vida variables, marcados entre 5 y 20 años como lanzamientos activos. \n",
    "    - Las plataformas populares en 2017 seguramente ya existían en años anteriores.\n",
    "\n",
    "- Disponibilidad de datos: \n",
    "  - Los datos están hasta el 2016. \n",
    "    - Necesitamos datos que capturen las tendencias más recientes y relevantes para el próximo año.\n",
    "\n",
    "- Determinación del período de datos:\n",
    "  - El modelo predictivo hacia el 2017 puede ser de:\n",
    "    - Ventas\n",
    "    - Popularidad de géneros\n",
    "    - Otros\n",
    "  - Los datos de los últimos 5 o 10 años previos al 2017 serían los más relevantes.\n",
    "    - Período entre 2007 hasta 2016 aprox.\n",
    "\n",
    "**Razones:**\n",
    "\n",
    "- Capturar las tendencias recientes incluye tanto el pico de lanzamientos y el inicio del declive. Esto permite observar la dinámica del mercado más reciente.\n",
    "- Las plataformas populares en el 2017 probablemente tienen un historial de lanzamientos y ventas importante para este periodo.\n",
    "- Son suficientes datos para entrenar un modelo, máxime por la gran cantidad de lanzamientos en estos años.\n",
    "- Se evitan datos obsoletos antiguos (80´s y 90´s) que pudiesen contener patrones irrelevantes para el 2017.\n",
    "- El periodo podría ajustarse según el modelo o variable a predecir para el 2017\n",
    "  - Un modelo de ventas se beneficia más a nivel actual\n",
    "  - Un modelo de ciclo de vida de plataformas pudiese requerir mayor amplitud.\n",
    "\n",
    "**En resumen, se utilizarán datos entre 2007 y 2016, período durante el cual se proporciona un equilibrio entre tres aspectos:**\n",
    "- Tendencias recientes.\n",
    "- Relevancia de las plataformas.\n",
    "- Volumen de datos suficiente."
   ]
  },
  {
   "cell_type": "markdown",
   "metadata": {},
   "source": [
    "### Elige varias plataformas potencialmente rentables."
   ]
  },
  {
   "cell_type": "markdown",
   "metadata": {},
   "source": [
    "#### ¿Qué plataformas son líderes en ventas?"
   ]
  },
  {
   "cell_type": "code",
   "execution_count": 21,
   "metadata": {
    "trusted": true
   },
   "outputs": [
    {
     "name": "stdout",
     "output_type": "stream",
     "text": [
      "Plataformas líderes en ventas totales (en millones de dólares USD):\n",
      "platform\n",
      "PS2     1255.77\n",
      "X360     971.42\n",
      "PS3      939.65\n",
      "Wii      907.51\n",
      "DS       806.12\n",
      "PS       730.86\n",
      "GBA      317.85\n",
      "PS4      314.14\n",
      "PSP      294.05\n",
      "PC       259.52\n",
      "3DS      259.00\n",
      "XB       257.74\n",
      "GB       255.46\n",
      "NES      251.05\n",
      "N64      218.68\n",
      "SNES     200.04\n",
      "GC       198.93\n",
      "XOne     159.32\n",
      "2600      96.98\n",
      "WiiU      82.19\n",
      "PSV       54.07\n",
      "SAT       33.59\n",
      "GEN       30.77\n",
      "DC        15.95\n",
      "SCD        1.86\n",
      "NG         1.44\n",
      "WS         1.42\n",
      "TG16       0.16\n",
      "3DO        0.10\n",
      "GG         0.04\n",
      "PCFX       0.03\n",
      "Name: total_sales, dtype: float64\n"
     ]
    }
   ],
   "source": [
    "# Plataforma y ventas totales\n",
    "ventas_por_plataforma = data.groupby('platform')['total_sales'].sum()\n",
    "\n",
    "# Ordenar por ventas totales de mayor a menor\n",
    "plataformas_lideres_ventas = ventas_por_plataforma.sort_values(ascending=False)\n",
    "\n",
    "print(\"Plataformas líderes en ventas totales (en millones de dólares USD):\")\n",
    "print(plataformas_lideres_ventas)"
   ]
  },
  {
   "cell_type": "markdown",
   "metadata": {},
   "source": [
    "#### Distribución de ventas en el tiempo"
   ]
  },
  {
   "cell_type": "code",
   "execution_count": 22,
   "metadata": {
    "trusted": true
   },
   "outputs": [
    {
     "name": "stdout",
     "output_type": "stream",
     "text": [
      "Ventas anuales de las plataformas líderes (millones USD):\n",
      "platform            PS2    X360     PS3     Wii      DS     PS4    PSP     PC  \\\n",
      "year_of_release                                                                 \n",
      "1980-01-01         0.00    0.00    0.00    0.00    0.00    0.00   0.00   0.00   \n",
      "1981-01-01         0.00    0.00    0.00    0.00    0.00    0.00   0.00   0.00   \n",
      "1982-01-01         0.00    0.00    0.00    0.00    0.00    0.00   0.00   0.00   \n",
      "1983-01-01         0.00    0.00    0.00    0.00    0.00    0.00   0.00   0.00   \n",
      "1984-01-01         0.00    0.00    0.00    0.00    0.00    0.00   0.00   0.00   \n",
      "1985-01-01         0.00    0.00    0.00    0.00    0.02    0.00   0.00   0.04   \n",
      "1986-01-01         0.00    0.00    0.00    0.00    0.00    0.00   0.00   0.00   \n",
      "1987-01-01         0.00    0.00    0.00    0.00    0.00    0.00   0.00   0.00   \n",
      "1988-01-01         0.00    0.00    0.00    0.00    0.00    0.00   0.00   0.03   \n",
      "1989-01-01         0.00    0.00    0.00    0.00    0.00    0.00   0.00   0.00   \n",
      "1990-01-01         0.00    0.00    0.00    0.00    0.00    0.00   0.00   0.00   \n",
      "1991-01-01         0.00    0.00    0.00    0.00    0.00    0.00   0.00   0.00   \n",
      "1992-01-01         0.00    0.00    0.00    0.00    0.00    0.00   0.00   3.03   \n",
      "1993-01-01         0.00    0.00    0.00    0.00    0.00    0.00   0.00   0.00   \n",
      "1994-01-01         0.00    0.00    0.00    0.00    0.00    0.00   0.00  12.87   \n",
      "1995-01-01         0.00    0.00    0.00    0.00    0.00    0.00   0.00   4.22   \n",
      "1996-01-01         0.00    0.00    0.00    0.00    0.00    0.00   0.00  10.58   \n",
      "1997-01-01         0.00    0.00    0.00    0.00    0.00    0.00   0.00  11.27   \n",
      "1998-01-01         0.00    0.00    0.00    0.00    0.00    0.00   0.00   3.26   \n",
      "1999-01-01         0.00    0.00    0.00    0.00    0.00    0.00   0.00   4.74   \n",
      "2000-01-01        39.17    0.00    0.00    0.00    0.00    0.00   0.00   4.66   \n",
      "2001-01-01       166.43    0.00    0.00    0.00    0.00    0.00   0.00   5.47   \n",
      "2002-01-01       205.38    0.00    0.00    0.00    0.00    0.00   0.00   8.57   \n",
      "2003-01-01       184.31    0.00    0.00    0.00    0.00    0.00   0.00   8.84   \n",
      "2004-01-01       211.81    0.00    0.00    0.00   17.27    0.00   7.06  10.39   \n",
      "2005-01-01       160.66    8.25    0.00    0.00  130.14    0.00  43.84   4.37   \n",
      "2006-01-01       103.42   51.62   20.96  137.15  119.81    0.00  55.32   2.85   \n",
      "2007-01-01        75.99   95.41   73.19  152.77  146.94    0.00  46.93   9.28   \n",
      "2008-01-01        53.90  135.26  118.52  171.32  145.31    0.00  34.55  12.42   \n",
      "2009-01-01        26.40  120.29  130.93  206.97  119.54    0.00  37.78  16.91   \n",
      "2010-01-01         5.64  170.03  142.17  127.95   85.02    0.00  35.04  24.28   \n",
      "2011-01-01         0.45  143.84  156.78   59.65   26.18    0.00  17.82  35.03   \n",
      "2012-01-01         0.00   99.74  107.36   21.71   11.01    0.00   7.69  23.22   \n",
      "2013-01-01         0.00   88.58  113.25    8.59    1.54   25.99   3.14  12.38   \n",
      "2014-01-01         0.00   34.74   47.76    3.75    0.00  100.00   0.24  13.28   \n",
      "2015-01-01         0.00   11.96   16.82    1.14    0.00  118.90   0.12   8.52   \n",
      "2016-01-01         0.00    1.52    3.60    0.18    0.00   69.25   0.00   5.25   \n",
      "\n",
      "platform           3DS   XOne  \n",
      "year_of_release                \n",
      "1980-01-01        0.00   0.00  \n",
      "1981-01-01        0.00   0.00  \n",
      "1982-01-01        0.00   0.00  \n",
      "1983-01-01        0.00   0.00  \n",
      "1984-01-01        0.00   0.00  \n",
      "1985-01-01        0.00   0.00  \n",
      "1986-01-01        0.00   0.00  \n",
      "1987-01-01        0.00   0.00  \n",
      "1988-01-01        0.00   0.00  \n",
      "1989-01-01        0.00   0.00  \n",
      "1990-01-01        0.00   0.00  \n",
      "1991-01-01        0.00   0.00  \n",
      "1992-01-01        0.00   0.00  \n",
      "1993-01-01        0.00   0.00  \n",
      "1994-01-01        0.00   0.00  \n",
      "1995-01-01        0.00   0.00  \n",
      "1996-01-01        0.00   0.00  \n",
      "1997-01-01        0.00   0.00  \n",
      "1998-01-01        0.00   0.00  \n",
      "1999-01-01        0.00   0.00  \n",
      "2000-01-01        0.00   0.00  \n",
      "2001-01-01        0.00   0.00  \n",
      "2002-01-01        0.00   0.00  \n",
      "2003-01-01        0.00   0.00  \n",
      "2004-01-01        0.00   0.00  \n",
      "2005-01-01        0.00   0.00  \n",
      "2006-01-01        0.00   0.00  \n",
      "2007-01-01        0.00   0.00  \n",
      "2008-01-01        0.00   0.00  \n",
      "2009-01-01        0.00   0.00  \n",
      "2010-01-01        0.00   0.00  \n",
      "2011-01-01       63.20   0.00  \n",
      "2012-01-01       51.36   0.00  \n",
      "2013-01-01       56.57  18.96  \n",
      "2014-01-01       43.76  54.07  \n",
      "2015-01-01       27.78  60.14  \n",
      "2016-01-01       15.14  26.15  \n"
     ]
    }
   ],
   "source": [
    "# Ventas totales por año y plataforma\n",
    "ventas_anuales_por_plataforma = data.groupby(['year_of_release', 'platform'])['total_sales'].sum().unstack(fill_value=0)\n",
    "\n",
    "# Plataformas líderes\n",
    "plataformas_lideres = ['PS2', 'X360', 'PS3', 'Wii', 'DS', 'PS4', 'PSP', 'PC', '3DS', 'XOne']\n",
    "ventas_lideres_anuales = ventas_anuales_por_plataforma[plataformas_lideres].fillna(0)\n",
    "\n",
    "print(\"Ventas anuales de las plataformas líderes (millones USD):\")\n",
    "print(ventas_lideres_anuales)"
   ]
  },
  {
   "cell_type": "markdown",
   "metadata": {},
   "source": [
    "#### Selección de plataformas según ventas y periodo dentro del rango de análisis (2007 - 2016)"
   ]
  },
  {
   "cell_type": "markdown",
   "metadata": {},
   "source": [
    "Se escogieron las primeras 18 plataformas con mayor ingreso global:\n",
    "\n",
    "- 1-  PS2......1255.77\n",
    "- 2-  X360......971.42\n",
    "- 3-  PS30......939.65\n",
    "- 4-  Wii..........907.51\n",
    "- 5-  DS..........806.12\n",
    "- 6-  PS..........730.86\n",
    "- 7-  GBA.......317.85\n",
    "- 8-  PS4........314.14\n",
    "- 9-  PSP........294.05\n",
    "- 10- PC........259.52\n",
    "- 11- 3DS......259.00\n",
    "- 12- XB........257.74\n",
    "- 13- GB........255.46\n",
    "- 14- NES......251.05\n",
    "- 15- N64.......218.68\n",
    "- 16- SNES....200.04\n",
    "- 17- GC........198.93\n",
    "- 18- XOne....159.32\n",
    "\n",
    "**Se descartan las siguientes debido a que su cliclo de vida está fuera del rango elegido de 2007 a 2016:**\n",
    "\n",
    "|   #   | **Plataforma** | **Ventas Totales** | **Análisis**   |\n",
    "|------:|----------------|--------------------|----------------|\n",
    "| **6** | **PS**         | **730.86**         | **Descartado** |\n",
    "| **7** | **GBA**        | **317.85**         | **Descartado** |\n",
    "| **12**| **XB**         | **257.74**         | **Descartado** |\n",
    "| **13**| **GB**         | **255.46**         | **Descartado** |\n",
    "| **14**| **NES**        | **251.05**         | **Descartado** |\n",
    "| **15**| **N64**        | **218.68**         | **Descartado** |\n",
    "| **16**| **SNES**       | **200.04**         | **Descartado** |\n",
    "| **17**| **GC**         | **198.93**         | **Descartado** |"
   ]
  },
  {
   "cell_type": "markdown",
   "metadata": {},
   "source": [
    "#### ¿Cuáles crecen y cuáles se reducen? "
   ]
  },
  {
   "cell_type": "markdown",
   "metadata": {},
   "source": [
    "| year_of_release   |   PS2 |   X360 |   PS3 |    Wii |    DS |   PS4 |   PSP |    PC |   3DS |  XOne |\n",
    "|:------------------|------:|-------:|------:|-------:|------:|------:|------:|------:|------:|------:|\n",
    "| **2007-01-01** |  **75.99** |  **95.41** | **73.19** | **152.77** | **145.31** |  **0** | **46.93** | **3.4** |  **0** |  **0** |\n",
    "| **2008-01-01** |  **53.9** | **135.26** | **118.52** | **171.32** | **145.31** |  **0** | **34.55** | **12.42** |  **0** |  **0** |\n",
    "| **2009-01-01** |  **26.4** | **120.29** | **130.93** | **206.97** | **119.54** |  **0** | **37.78** | **34.55** |  **0** |  **0** |\n",
    "| **2010-01-01** |   **5.64** | **170.03** | **142.17** | **127.95** |  **85.02** |  **0** | **35.04** | **24.28** |  **0** |  **0** |\n",
    "| **2011-01-01** |   **0.45** | **143.84** | **156.78** |  **59.65** |  **26.18** |  **0** | **17.82** | **35.03** | **63.2** |  **0** |\n",
    "| **2012-01-01** |   **0** |  **99.74** | **107.36** |  **21.71** |  **11.01** |  **0** |  **7.69** | **16.91** | **51.36** |  **0** |\n",
    "| **2013-01-01** |   **0** |  **88.58** | **113.25** |   **8.59** |   **1.54** | **25.99** |  **3.14** | **12.38** | **56.57** | **18.96** |\n",
    "| **2014-01-01** |   **0** |  **34.74** |  **47.76** |   **3.75** |   **0** | **100** |  **0.24** | **13.28** | **43.76** | **54.07** |\n",
    "| **2015-01-01** |   **0** |  **11.96** |  **16.82** |   **1.14** |   **0** | **118.96** |  **0.12** |  **8.52** | **27.78** | **60.14** |\n",
    "| **2016-01-01** |   **0** |   **1.52** |   **3.6** |   **0.18** |   **0** |  **69.25** |  **0.01** |  **5.25** | **15.14** | **26.15** |"
   ]
  },
  {
   "cell_type": "markdown",
   "metadata": {},
   "source": [
    "**Rango de análisis seleccionado (2007-2016) y ciclos de vida (10 años aprox.):**\n",
    "\n",
    "- 10 Años: Entre el 2007-2016 vemos la madurez y declive de plataformas lanzadas alrededor de 2007 (Wii y PS3) en donde PS3 refleja un ciclo un poco más extendido. \n",
    "- Vemos el declive de plataformas lanzadas antes de 2007 (PS2 y DS) y por otro lado, se observa el ascenso de plataformas lanzadas cerca del final del rango (PS4 y XOne). Valida la idea de un ciclo de vida comercial principal de 10 años aprox.\n",
    "\n",
    "- PC: Es continua y evolutiva, atípica al ciclo de vida de 10 años, pero si contiene dos ciclos de vida de 10 años. Caracterizados por avances tecnológicos importantes y cambios en el mercado de juegos para PC.\n",
    "\n",
    "2017:\n",
    "- 2007-2016 muestra una transición de la generación PS3/X360 a PS4/XOne. \n",
    "  - Modelar 2017 amerita incluir la trayectoria de crecimiento de PS4 y XOne y la disminución de PS3 y X360.\n",
    "  - El fin de ciclo importa, aunque plataformas como Wii y DS estan en fuerte declive, todavía pueden otorgar una base de usuarios activa que genere algunas ventas en 2017, aunque en volúmenes menores.\n",
    "  - PC demuestra ser una plataforma resiliente y con ventas continuas.\n",
    "    - Su comportamiento en años finales al rango (2014-2016) probablemente continúen en 2017.\n",
    "\n",
    "- Portátiles en Declive (PSP y 3DS) entre repuntes tardíos tienen ciclos de vida influenciados por la aparición de nuevas portátiles y mercado de juegos móviles.\n",
    "\n",
    "El rango 2007-2016 es adecuado para observar el ciclo de vida de consolas y la naturaleza continua de la plataforma PC. \n",
    "\n",
    "Al modelar 2017, debemos considerar:\n",
    "\n",
    "- Fuerte tendencia de crecimiento en consolas de \"nueva generación\" (PS4, XOne).\n",
    "- Disminución gradual de consolas de la generación anterior (PS3, X360).\n",
    "- Contribución residual de plataformas en declive (Wii, DS, PSP).\n",
    "- Estabilidad o tendencias específicas del mercado de PC.\n",
    "- Trayectoria de plataformas portátiles como 3DS."
   ]
  },
  {
   "cell_type": "markdown",
   "metadata": {},
   "source": [
    "#### Seleccciona las potencialmente rentables"
   ]
  },
  {
   "cell_type": "markdown",
   "metadata": {},
   "source": [
    "✏️**Análisis de Tendencias de Ventas por Plataforma:**\n",
    "\n",
    "| Plataforma | Año de lanzamiento | Año del ciclo de vida en 2007 | Años restantes estimados (hasta declive visible en 2016) | Inferencia relevante para modelar 2017                                                                                                                                                                                             |\n",
    "|------------|-----------------------------|-------------------------------|---------------------------------------------------------------|------------------------------------------------------------------------------------------------------------------------------------------------------------------------------------------------------------------------------------|\n",
    "| PS2        | 2000                        | Año 7                         | 0 (ya en declive significativo)                             | Influencia mínima en 2017; enfocar en su legado o transición de base de usuarios.                                                                                                                                                  |\n",
    "| X360       | 2005                        | Año 2                         | 4-5 (pico alrededor de 2008-2011, declive visible hacia 2016) | Aún tendría una base instalada considerable en 2017, pero su influencia estaría disminuyendo gradualmente a medida que avanzaba la nueva generación.                                                                             |\n",
    "| Wii        | 2006                        | Año 1                         | 2-3 (pico muy alto entre 2007-2009, declive rápido después)     | Podría tener una contribución residual en 2017, pero su mercado principal ya habría pasado. Enfocarse en el factor nostalgia o juegos casuales específicos.                                                                     |\n",
    "| PS3        | 2006                        | Año 1                         | 5-6 (crecimiento hasta 2011-2012, declive gradual después)     | Aún sería una plataforma relevante en 2017 con una base de usuarios activa, aunque su potencial de crecimiento sería limitado en comparación con la nueva generación.                                                              |\n",
    "| DS         | 2004(estimado)                        | Año 3                         | 4-5 (pico entre 2007-2009, declive significativo después)     | Su mercado portátil estaría siendo canibalizado por smartphones y nuevas portátiles. Su influencia en 2017 sería baja.                                                                                                            |\n",
    "| PS4        | 2013                        | N/A (Inicia ciclo dentro del rango) | 7-8 (en fuerte crecimiento hacia 2016)                       | Sería una plataforma clave para 2017, mostrando un fuerte crecimiento en ventas de software y hardware. Priorizar su modelado.                                                                                                   |\n",
    "| XOne       | 2013                        | N/A (Inicia ciclo dentro del rango) | 7-8 (en crecimiento hacia 2016)                             | Sería una plataforma clave competidora de PS4 para 2017, también mostrando un fuerte crecimiento. Importante modelar su cuota de mercado y tendencias.                                                                        |\n",
    "| PSP        | 2004                        | Año 3                         | 0-1 (en declive constante durante el rango)                 | Su influencia en 2017 sería muy baja o nula, con el mercado portátil moviéndose hacia otras opciones.                                                                                                                             |\n",
    "| 3DS        | 2011                        | N/A (Inicia ciclo dentro del rango) | 5-6 (muestra un repunte tardío hacia el final del rango)     | Podría tener un nicho de mercado portátil en 2017, aunque enfrentando la competencia de móviles. Su rendimiento al final del rango sería crucial para modelar.                                                                 |\n",
    "| PC         | Varía (1985-2016)           | Ciclos múltiples              | Continuo                                                    | Plataforma constante con ventas continuas. Modelar su tendencia específica (crecimiento, estabilidad, ligero declive) observada en los años finales del rango.                                                                   |"
   ]
  },
  {
   "cell_type": "markdown",
   "metadata": {},
   "source": [
    "**-Explicación de la nomenclatura de las columnas:**\n",
    "\n",
    "- Año de lanzamiento estimado: Año en que se lanza al mercado por primera vez como punto de partida dentro del ciclo de vida típico de los 10 años.\n",
    "\n",
    "- Estimado: En DS se indica estimado porque en 1985 parece tener ingresos pero muy bajos.\n",
    "\n",
    "- Año del ciclo de vida en 2007: Como nuestro rango del 2007 al 16 y el ciclo de vida estimado de las plataformas es de 10 años aproximadamente, entonces se indica en qué año de su ciclo de vida se encuentra para el 2007.\n",
    "- N/A: Es porque el lanzamiento ocurre dentro del rango de análisis (2007 - 2016)como por ejemplo: PS4, XOne y 3DS. \n",
    "- PC tiene un ciclos múltiples pues inicia de 1985, lo curioso es que posee dos ciclos de 10 años consecutivos o fases de evolución y popularidad, validando este fenómeno de 10 años.\n",
    "- Años restantes estimados (hasta declive visible en 2016): Es una estimación de cuántos años le restan para cumplir con el ciclo de vida comercial desde el año 2007 o punto de declive en ventas hacia el 2016.\n",
    "- 0: Se encuentra ya en declive significativo para el incicio de nuestro rango en 2007."
   ]
  },
  {
   "cell_type": "markdown",
   "metadata": {},
   "source": [
    "### Diagrama de caja sobre ventas totales de juegos desglozados por plataforma. "
   ]
  },
  {
   "cell_type": "code",
   "execution_count": 26,
   "metadata": {
    "scrolled": false,
    "trusted": true
   },
   "outputs": [
    {
     "data": {
      "image/png": "[encoded data removed]",
      "text/plain": [
       "<Figure size 1200x800 with 1 Axes>"
      ]
     },
     "metadata": {},
     "output_type": "display_data"
    }
   ],
   "source": [
    "import seaborn as sns\n",
    "import matplotlib.pyplot as plt\n",
    "import pandas as pd\n",
    "\n",
    "# Plataformas potenciales en ventas y perido\n",
    "plataformas_seleccionadas = ['PS2', 'X360', 'PS3', 'Wii', 'DS', 'PS4', 'PSP', 'PC', '3DS', 'XOne']\n",
    "\n",
    "# Filtro de plataformas\n",
    "data_filtrada = data[data['platform'].isin(plataformas_seleccionadas)]\n",
    "\n",
    "plt.figure(figsize=(12, 8))\n",
    "sns.boxplot(x='platform', y='total_sales', data=data_filtrada)\n",
    "plt.title('Diagrama de Caja de Ventas Globales por Plataforma (Seleccionadas)')\n",
    "plt.xlabel('Plataforma')\n",
    "plt.ylabel('Ventas Globales (millones de USD)')\n",
    "plt.xticks(rotation=45, ha='right')\n",
    "plt.tight_layout()\n",
    "plt.show()"
   ]
  },
  {
   "cell_type": "markdown",
   "metadata": {},
   "source": [
    "<div class=\"alert alert-block alert-success\">\n",
    "<b>Comentario del revisor</b> <a class=\"tocSkip\"></a><br />\n",
    "Bien hecho!\n",
    "\n",
    "El diagrama de caja nos muestra como en algunas consolas las ventas estan consolidadas mientras que en otras consolas las ventas son muy disparejas lo que incrementa el rango intercuartil\n",
    "</div>\n"
   ]
  },
  {
   "cell_type": "markdown",
   "metadata": {},
   "source": [
    "<div class=\"alert alert-block alert-warning\">\n",
    "<b>Comentario del revisor</b> <a class=\"tocSkip\"></a><br />\n",
    "\n",
    "\n",
    "Recomendaría usar `plt.ylim([0,2])` para limitar los datos en el eje `y` y que de esta manera las cajas se muestren de una mejor manera\n",
    "</div>\n"
   ]
  },
  {
   "cell_type": "code",
   "execution_count": 27,
   "metadata": {
    "trusted": true
   },
   "outputs": [
    {
     "data": {
      "image/png": "[encoded data removed]",
      "text/plain": [
       "<Figure size 1200x800 with 1 Axes>"
      ]
     },
     "metadata": {},
     "output_type": "display_data"
    }
   ],
   "source": [
    "\n",
    "plt.figure(figsize=(12, 8))\n",
    "sns.boxplot(x='platform', y='total_sales', data=data_filtrada)\n",
    "plt.title('Diagrama de Caja de Ventas Globales por Plataforma (Seleccionadas)')\n",
    "plt.xlabel('Plataforma')\n",
    "plt.ylabel('Ventas Globales (millones de USD)')\n",
    "plt.xticks(rotation=45, ha='right')\n",
    "plt.tight_layout()\n",
    "plt.ylim([0,2])\n",
    "plt.show()\n"
   ]
  },
  {
   "cell_type": "markdown",
   "metadata": {},
   "source": [
    "#### ¿Son significativas las diferencias en las ventas?"
   ]
  },
  {
   "cell_type": "markdown",
   "metadata": {},
   "source": [
    "##### Estadística más detallada de cada plataforma"
   ]
  },
  {
   "cell_type": "code",
   "execution_count": 28,
   "metadata": {
    "trusted": true
   },
   "outputs": [
    {
     "name": "stdout",
     "output_type": "stream",
     "text": [
      "Estadísticas Descriptivas de Ventas Totales por Plataforma:\n",
      "--------------------------------------------------------------------------------\n",
      "          Máximo  Mínimo  Varianza  Moda     Media  Mediana  \\\n",
      "platform                                                      \n",
      "3DS        14.60    0.01  2.047406  0.03  0.498077     0.12   \n",
      "DS         29.80    0.01  2.034764  0.02  0.374765     0.11   \n",
      "PC          8.01    0.01  0.456404  0.02  0.266448     0.05   \n",
      "PS2        20.81    0.00  1.294878  0.02  0.581106     0.23   \n",
      "PS3        21.05    0.00  1.936966  0.02  0.705973     0.27   \n",
      "PS4        14.63    0.01  2.590350  0.02  0.801378     0.20   \n",
      "PSP         7.68    0.01  0.270618  0.02  0.243218     0.09   \n",
      "Wii        82.54    0.01  9.775681  0.02  0.687508     0.19   \n",
      "X360       21.82    0.01  2.610403  0.02  0.769746     0.28   \n",
      "XOne        7.39    0.01  1.073584  0.01  0.645020     0.22   \n",
      "\n",
      "          Percentil 25 (Q1)  Percentil 50 (Mediana)  Percentil 75 (Q3)  \n",
      "platform                                                                \n",
      "3DS                    0.05                    0.12             0.3300  \n",
      "DS                     0.05                    0.11             0.2700  \n",
      "PC                     0.02                    0.05             0.1700  \n",
      "PS2                    0.08                    0.23             0.5600  \n",
      "PS3                    0.11                    0.27             0.7500  \n",
      "PS4                    0.06                    0.20             0.7300  \n",
      "PSP                    0.03                    0.09             0.2300  \n",
      "Wii                    0.08                    0.19             0.4825  \n",
      "X360                   0.11                    0.28             0.7575  \n",
      "XOne                   0.06                    0.22             0.6850  \n"
     ]
    }
   ],
   "source": [
    "# Plataformas\n",
    "plataformas_seleccionadas = ['PS2', 'X360', 'PS3', 'Wii', 'DS', 'PS4', 'PSP', 'PC', '3DS', 'XOne']\n",
    "\n",
    "# Filtro\n",
    "data_filtrada = data[data['platform'].isin(plataformas_seleccionadas)]\n",
    "\n",
    "# Plataforma y estadística\n",
    "estadisticas_por_plataforma = data_filtrada.groupby('platform')['total_sales'].agg(['max', 'min', 'var',\n",
    "                                                                                     pd.Series.mode, 'mean', 'median',\n",
    "                                                                                     lambda x: x.quantile(0.25),\n",
    "                                                                                     lambda x: x.quantile(0.50),\n",
    "                                                                                     lambda x: x.quantile(0.75)])\n",
    "# Renombrar las columnas para mayor claridad\n",
    "estadisticas_por_plataforma.columns = ['Máximo', 'Mínimo', 'Varianza', 'Moda', 'Media', 'Mediana',\n",
    "                                       'Percentil 25 (Q1)', 'Percentil 50 (Mediana)', 'Percentil 75 (Q3)']\n",
    "\n",
    "print(\"Estadísticas Descriptivas de Ventas Totales por Plataforma:\")\n",
    "print(\"-\" * 80)\n",
    "print(estadisticas_por_plataforma)"
   ]
  },
  {
   "cell_type": "markdown",
   "metadata": {},
   "source": [
    "1. Rango de ventas (min y max):\n",
    "\n",
    "- El valor máximo varía mucho entre plataformas. Por ejemplo, en Wii hay un máximo de 82.54 millones, mientras que en PC tenemos un máximo de solo 8.01 millones. \n",
    "  - Sugiere que algunos juegos de ciertas plataformas como Wii alcanzaron niveles de éxito comercial muy altos que algunos juegos más vendidos en otras plataformas como PC por ejemplo. <br> <br>\n",
    "- El valor mínimo es bajo 0.01 o 0 para todas las plataformas (ventas muy bajas o reportadas como cero)\n",
    "\n",
    "\n",
    "<br> <br>\n",
    "2. Tendencia central (media y mediana):\n",
    "\n",
    "- La media de ventas totales denota también gran diferencia.\n",
    "  - PS4 tiene una media de 0.80 millones, considerablemente mayor que la media de PC de 0.27 millones, o la de PSP de 0.24 millones. Sugiriendo que en promedio los juegos en PS4 venden más a nivel total que PC o PSP.<br> <br>\n",
    "\n",
    "- La mediana o valor central (Q2 percentil 50) es más bajo que la media en casi todas las plataformas.\n",
    "  - Indica una distribución sesgada hacia la derecha.\n",
    "    - Pocos juegos venden mucho y la mayoría venden menos. <br> <br>\n",
    "  - Pero las medianas también varían entre plataformas, reforzando las diferencias en rendimiento comercial típico. \n",
    "    - La mediana de Wii de 0.19 millones es más alta que la de PC de 0.05 millones.\n",
    "\n",
    "<br> <br>\n",
    "3. Dispersión (varianza y rango intercuartílico):\n",
    "- La varianza mide la dispersión de los datos en torno a la media.\n",
    "  - Plataformas de varianza altas como Wii y PS4 tienen mayor variabilidad en ventas.\n",
    "    - Mezcla amplia de éxitos masivos y fracasos relativos.\n",
    "    - Plataformas con varianza baja como PC tienen ventas más consistentes en torno a su media.<br> <br>\n",
    "    \n",
    "  - Percentiles (Q1, Mediana, Q3), rango intercuartílico (IQR = Q3 - Q1) o 50% central de las ventas. \n",
    "    - Diferencias de valores Q1 y Q3 entre plataformas denotan distintos rangos típicos de ventas.\n",
    "      - El IQR de PS4 (0.73 - 0.06 = 0.67) es mayor que el de PC (0.17 - 0.02 = 0.15), es decirm, existe mayor dispersión en las ventas típicas de PS4.\n",
    "\n",
    "\n",
    "<br> <br>\n",
    "4. Moda:\n",
    "- La moda (valor más frecuente), es relativamenmte baja, entre 0.02 o 0.03 para la mayoría de plataformas.\n",
    "  - La mayoría de juegos venden cantidades un tanto pequeñas y los grandes éxitos son atípicos. -Pero la consistencia de la moda no es contraria a las diferencias sobre los extremos superior e inferior de las ventas.\n",
    "\n",
    "<br> <br>\n",
    "Conclusión:\n",
    "\n",
    "Existen diferencias entre máximo, media, mediana y dispersión (varianza y percentiles) de ventas totales entre las plataformas. Significa que el rendimiento comercial típico y el logro potencial de éxito es variable entre plataformas. La plataforma Wii y PS4 muestran mayor potencial de ventas y muy altas, caracterizadas por valores máximos y dispersión; mientras que por su parte, una plataforma como PC se inclina a ventas más bajas en promedio y con menor variabilidad. Si nos fundamentamos en las estadísticas descriptivas, es clara la diferencia entre las ventas."
   ]
  },
  {
   "cell_type": "markdown",
   "metadata": {},
   "source": [
    "#### ¿Qué sucede con las ventas promedio en varias plataformas?"
   ]
  },
  {
   "cell_type": "code",
   "execution_count": 29,
   "metadata": {
    "scrolled": false,
    "trusted": true
   },
   "outputs": [
    {
     "name": "stdout",
     "output_type": "stream",
     "text": [
      "Plataforma NA_Sales   EU_Sales   JP_Sales   Other_Sales\n",
      "------------------------------------------------------------\n",
      "PS2        0.27       0.16       0.06       0.09      \n",
      "X360       0.48       0.21       0.01       0.07      \n",
      "PS3        0.30       0.25       0.06       0.10      \n",
      "Wii        0.38       0.20       0.05       0.06      \n",
      "DS         0.18       0.09       0.08       0.03      \n",
      "PS4        0.28       0.36       0.04       0.12      \n",
      "PSP        0.09       0.06       0.06       0.03      \n",
      "PC         0.10       0.15       0.00       0.02      \n",
      "3DS        0.16       0.12       0.19       0.03      \n",
      "XOne       0.38       0.21       0.00       0.06      \n"
     ]
    }
   ],
   "source": [
    "# Plataformas\n",
    "data_filtrada = data[data['platform'].isin(plataformas_seleccionadas)]\n",
    "\n",
    "print(f\"{'Plataforma':<10} {'NA_Sales':<10} {'EU_Sales':<10} {'JP_Sales':<10} {'Other_Sales':<10}\")\n",
    "print(\"-\" * 60)\n",
    "\n",
    "for plataforma in plataformas_seleccionadas:\n",
    "    promedios = data_filtrada[data_filtrada['platform'] == plataforma][['na_sales', 'eu_sales', 'jp_sales', 'other_sales']].mean()\n",
    "    print(f\"{plataforma:<10} {promedios['na_sales']:<10.2f} {promedios['eu_sales']:<10.2f} {promedios['jp_sales']:<10.2f} {promedios['other_sales']:<10.2f}\")"
   ]
  },
  {
   "cell_type": "markdown",
   "metadata": {},
   "source": [
    "#### Hallazgos"
   ]
  },
  {
   "cell_type": "markdown",
   "metadata": {},
   "source": [
    "**Tendencias por región:**\n",
    "\n",
    "- Norteamérica (na_sales):\n",
    "  - Promedios de ventas más altos:\n",
    "    - PS2\n",
    "    - X360\n",
    "    - PS3\n",
    "    - Wii\n",
    "    - PS4. \n",
    "\n",
    "El mercado norteamericano contribuye mucho a las ventas promedio de estas consolas.<br><br>\n",
    "\n",
    "\n",
    "- Europa (eu_sales): Posee promedios de ventas sólidos y cercanos a los de Norteamérica, lo cual le hace un mercado fuerte.<br><br>\n",
    "\n",
    "- Japón (jp_sales): Promedios de ventas más bajos en comparación con Norteamérica y Europa con relación a las consolas occidentales mencionadas nateriormente (PS2, X360, PS3, Wii, PS4, XOne). Pero plataformas como DS y 3DS denotan unos promedios de ventas considerablemente altos en Japón.\n",
    "   - Esto indica una preferencia del mercado japonés por consolas portátiles de Nintendo. <br><br>\n",
    "\n",
    "- Otras Regiones (other_Sales): Son los promedios de ventas más bajos pero no dejan de contribuir a las ventas totales.<br><br>\n",
    "\n",
    "\n",
    "\n",
    "**Comportamiento por plataforma:**\n",
    "\n",
    "- Grandes consolas de sobremesa (PS2, X360, PS3, Wii, PS4, XOne): Estas plataformas muestran una fuerte dependencia de los mercados de Norteamérica y Europa para sus ventas promedio más altas. Japón tiene una contribución menor en comparación.\n",
    "\n",
    "- Consolas Portátiles de Nintendo (DS, 3DS): Si bien también tienen ventas significativas en Norteamérica y Europa, su rendimiento promedio en Japón es relativamente más fuerte en comparación con las consolas de sobremesa occidentales. Esto subraya la importancia del mercado japonés para las plataformas portátiles de Nintendo.\n",
    "\n",
    "- PSP: Patrón similar a consolas de sobremesa (promedios más altos en Norteamérica y Europa que en Japón).\n",
    "\n",
    "- PC: Promedios de ventas bajos en todas las regiones (forma de rastreo de ventas por descarga digital - no completo).<br><br>\n",
    "\n",
    "\n",
    "**Resumen:**\n",
    "\n",
    "Las ventas promedio varían entre plataformas y regiones. Consolas de sobremesa occidentales con mayores promedios de ventas en Norteamérica y Europa, mientras que consolas portátiles de Nintendo con más rendimiento en Japón. PC con promedios de ventas modestos en todas las regiones. Las diferencias reflejan preferencias regionales de consumidores y popularidad de las plataformas en el mercado."
   ]
  },
  {
   "cell_type": "markdown",
   "metadata": {},
   "source": [
    "### Mira cómo las reseñas de usuarios y profesionales afectan las ventas de una plataforma popular \n",
    "- Crea un gráfico de dispersión (correlación entre las reseñas y las ventas)"
   ]
  },
  {
   "cell_type": "markdown",
   "metadata": {},
   "source": [
    "#### Gráfico de dispersión (correlación entre las reseñas y las ventas de PS3)"
   ]
  },
  {
   "cell_type": "code",
   "execution_count": 30,
   "metadata": {
    "scrolled": false,
    "trusted": true
   },
   "outputs": [
    {
     "name": "stdout",
     "output_type": "stream",
     "text": [
      "Número de filas en ps3_data después de filtrar y eliminar NaN: 790\n",
      "--------------------------------------------------------------------------------\n",
      "Valores únicos en total_sales: 339\n",
      "--------------------------------------------------------------------------------\n",
      "Valores únicos en user_score_scaled: 70\n",
      "--------------------------------------------------------------------------------\n",
      "Valores únicos en critic_score: 70\n"
     ]
    }
   ],
   "source": [
    "import matplotlib.pyplot as plt\n",
    "import seaborn as sns\n",
    "import pandas as pd\n",
    "\n",
    "ps3_data = data[data['platform'] == 'PS3'].dropna(subset=['total_sales', 'user_score', 'critic_score'])\n",
    "\n",
    "# User_score a la misma escala de critic_score (* 10)\n",
    "ps3_data['user_score_scaled'] = ps3_data['user_score'] * 10\n",
    "\n",
    "print(f\"Número de filas en ps3_data después de filtrar y eliminar NaN: {len(ps3_data)}\")\n",
    "print(\"-\" * 80)\n",
    "print(f\"Valores únicos en total_sales: {ps3_data['total_sales'].nunique()}\")\n",
    "print(\"-\" * 80)\n",
    "print(f\"Valores únicos en user_score_scaled: {ps3_data['user_score_scaled'].nunique()}\")\n",
    "print(\"-\" * 80)\n",
    "print(f\"Valores únicos en critic_score: {ps3_data['critic_score'].nunique()}\")"
   ]
  },
  {
   "cell_type": "code",
   "execution_count": 31,
   "metadata": {
    "trusted": true
   },
   "outputs": [
    {
     "name": "stdout",
     "output_type": "stream",
     "text": [
      "user_score_scaled: float64\n",
      "total_sales: float64\n",
      "critic_score: Int64\n",
      "--------------------------------------------------------------------------------\n",
      "Número de filas para correlación user_sales: 790\n",
      "Número de filas para correlación critic_sales: 790\n",
      "--------------------------------------------------------------------------------\n",
      "Valores únicos en temp_user_sales['user_score_scaled']: 70\n",
      "Valores únicos en temp_user_sales['total_sales']: 339\n",
      "Valores únicos en temp_critic_sales['critic_score']: 70\n",
      "Valores únicos en temp_critic_sales['total_sales']: 339\n",
      "--------------------------------------------------------------------------------\n",
      "Correlación entre Reseña de Usuarios y Ventas Totales (PS3): 0.14\n",
      "--------------------------------------------------------------------------------\n",
      "Correlación entre Reseña de Críticos y Ventas Totales (PS3): 0.43\n"
     ]
    }
   ],
   "source": [
    "if len(ps3_data) > 1:\n",
    "    \n",
    "    # Verificar dtype\n",
    "    print(f\"user_score_scaled: {ps3_data['user_score_scaled'].dtype}\")\n",
    "    print(f\"total_sales: {ps3_data['total_sales'].dtype}\")\n",
    "    print(f\"critic_score: {ps3_data['critic_score'].dtype}\")\n",
    "    print(\"-\" * 80)\n",
    "    \n",
    "    # DF´s temporales para correlación\n",
    "    temp_user_sales = ps3_data[['user_score_scaled', 'total_sales']].dropna()\n",
    "    temp_critic_sales = ps3_data[['critic_score', 'total_sales']].dropna().copy() # Usar .copy() para evitar SettingWithCopyWarning\n",
    "\n",
    "    # Convertir critic_score a float64\n",
    "    temp_critic_sales['critic_score'] = temp_critic_sales['critic_score'].astype('float64')\n",
    "    \n",
    "    print(f\"Número de filas para correlación user_sales: {len(temp_user_sales)}\")\n",
    "    print(f\"Número de filas para correlación critic_sales: {len(temp_critic_sales)}\")\n",
    "    print(\"-\" * 80)\n",
    "    \n",
    "    print(f\"Valores únicos en temp_user_sales['user_score_scaled']: {temp_user_sales['user_score_scaled'].nunique()}\")\n",
    "    print(f\"Valores únicos en temp_user_sales['total_sales']: {temp_user_sales['total_sales'].nunique()}\")\n",
    "    print(f\"Valores únicos en temp_critic_sales['critic_score']: {temp_critic_sales['critic_score'].nunique()}\")\n",
    "    print(f\"Valores únicos en temp_critic_sales['total_sales']: {temp_critic_sales['total_sales'].nunique()}\")\n",
    "    print(\"-\" * 80)\n",
    "    \n",
    "    if len(temp_user_sales) > 1 and temp_user_sales['user_score_scaled'].nunique() > 1 and temp_user_sales['total_sales'].nunique() > 1:\n",
    "        correlation_user_sales = temp_user_sales['user_score_scaled'].corr(temp_user_sales['total_sales'])\n",
    "        print(f\"Correlación entre Reseña de Usuarios y Ventas Totales (PS3): {correlation_user_sales:.2f}\")\n",
    "    else:\n",
    "        print(\"Advertencia: No hay suficientes datos únicos para calcular la correlación entre reseña de usuarios y ventas totales.\")\n",
    "    print(\"-\" * 80)\n",
    "  \n",
    "    if len(temp_critic_sales) > 1 and temp_critic_sales['critic_score'].nunique() > 1 and temp_critic_sales['total_sales'].nunique() > 1:\n",
    "        correlation_critic_sales = temp_critic_sales['critic_score'].corr(temp_critic_sales['total_sales'])\n",
    "        print(f\"Correlación entre Reseña de Críticos y Ventas Totales (PS3): {correlation_critic_sales:.2f}\")\n",
    "    else:\n",
    "        print(\"Advertencia: No hay suficientes datos únicos para calcular la correlación entre reseña de críticos y ventas totales.\")\n",
    "\n",
    "else:\n",
    "    print(\"No hay suficientes datos iniciales para la PS3.\")"
   ]
  },
  {
   "cell_type": "markdown",
   "metadata": {},
   "source": [
    "##### Ventas Totales vs. Reseña de Usuarios (PS3)"
   ]
  },
  {
   "cell_type": "code",
   "execution_count": 33,
   "metadata": {
    "scrolled": false,
    "trusted": true
   },
   "outputs": [
    {
     "data": {
      "image/png": "[encoded data removed]",
      "text/plain": [
       "<Figure size 1000x600 with 1 Axes>"
      ]
     },
     "metadata": {},
     "output_type": "display_data"
    }
   ],
   "source": [
    "if len(ps3_data) > 1:\n",
    "    plt.figure(figsize=(10, 6))\n",
    "    sns.scatterplot(x='user_score_scaled', y='total_sales', data=ps3_data)\n",
    "    plt.title('Ventas Totales vs. Reseña de Usuarios (PS3)')\n",
    "    plt.xlabel('Puntuación de Usuarios (Escala 0-100)')\n",
    "    plt.ylabel('Ventas Totales (millones de USD)')\n",
    "    #plt.grid(True)\n",
    "    plt.show()\n",
    "else:\n",
    "    print(\"No hay suficientes datos para generar el gráfico de dispersión de Ventas vs. Reseña de Usuarios para la PS3 con las columnas seleccionadas.\")"
   ]
  },
  {
   "cell_type": "markdown",
   "metadata": {},
   "source": [
    "📊  Correlación entre Reseña de Usuarios y Ventas Totales (PS3): 0.14\n",
    "- Un coeficiente de correlación de 0.14:\n",
    "  - Correlación positiva muy débil tomando en cuenta la puntuación de usuarios escalada de 0 a 100 y las ventas totales de los juegos de PlayStation 3.\n",
    "  \n",
    "- Significancias: \n",
    "  - Tendencia muy leve: Muy débil tendencia de que los juegos con alta puntuación vendan un poco más.\n",
    "  - Mucha dispersión: Gran cantidad de dispersión.\n",
    "    - Juegos con puntuaciones de usuario similar tienen ventas muy distintas \n",
    "    - Juegos con ventas similares pueden tener puntuaciones de usuario muy variadas.\n",
    "    \n",
    "Las ventas totales deben estar impulsadas por factores como el género de juego, popularidad de la franquicia, campaña de marketing, precio, disponibilidad, publicidad oral y reseñas de críticos como se observa en la siguiente correlación.\n",
    "\n",
    "La opinión promedio de usuarios individualmente no es un decisor fuerte sobre el éxito comercial de un juego de PS3.\n",
    "\n",
    "La reseña promedio de usuarios tiene un impacto muy pequeño y poco confiable sobre las ventas totales de juegos PS3. "
   ]
  },
  {
   "cell_type": "markdown",
   "metadata": {},
   "source": [
    "##### Ventas Totales vs. Reseña de Críticos (PS3)"
   ]
  },
  {
   "cell_type": "code",
   "execution_count": 35,
   "metadata": {
    "trusted": true
   },
   "outputs": [
    {
     "data": {
      "image/png": "[encoded data removed]",
      "text/plain": [
       "<Figure size 1000x600 with 1 Axes>"
      ]
     },
     "metadata": {},
     "output_type": "display_data"
    }
   ],
   "source": [
    "if len(ps3_data) > 1:\n",
    "    plt.figure(figsize=(10, 6))\n",
    "    sns.scatterplot(x='critic_score', y='total_sales', data=ps3_data)\n",
    "    plt.title('Ventas Totales vs. Reseña de Críticos (PS3)')\n",
    "    plt.xlabel('Puntuación de Críticos (Escala 0-100)')\n",
    "    plt.ylabel('Ventas Totales (millones de USD)')\n",
    "    #plt.grid(True)\n",
    "    plt.show()\n",
    "else:\n",
    "    print(\"No hay suficientes datos para generar el gráfico de dispersión de Ventas vs. Reseña de Críticos para la PS3 con las columnas seleccionadas.\")"
   ]
  },
  {
   "cell_type": "markdown",
   "metadata": {},
   "source": [
    "📊 Correlación entre Reseña de Críticos y Ventas Totales (PS3): 0.43\n",
    "\n",
    "- Coeficiente de correlación de 0.43, positivo y moderada entre la puntuación de críticos, escala de 0 a 100 y las ventas totales de juegos P3.\n",
    "  - Tendencia más clara que la correlación anterior. Aún hay dispersión pero es más notable que los juegos reciban puntuaciones más altas de los críticos y tiendan a vender más unidades. una relación más fuerte que con las puntuaciones de usuarios.\n",
    "    - Aún hay cierta dispersión:\n",
    "      - Juegos con puntuaciones de críticos similar pueden tener rangos de ventas\n",
    "      - Juegos con puntuaciones de críticos más bajas pueden alcanzar ventas significativas (menos común en extremo superior)\n",
    "      \n",
    "- La opinión de los críticos parece tener influencia más fuerte en el éxito comercial de los juegos de PS3 con respecto a la opinión los usuarios. Talvez porque las reseñas de críticos influyen en:\n",
    "  - Percepción inicial del juego\n",
    "  - Cobertura mediática\n",
    "  - Decisiones de compra de algunos consumidores, particularmente en el lanzamiento.\n",
    "  \n",
    "Aunque tiene una correlación moderada, existen otros factores como el marketing, franquicia, género y disponibilidad; como aspectos importantes en las ventas totales. El buen puntaje de crítica aumenta la probabilidad de mayores ventas, pero no lo asegura por completo.\n",
    "\n",
    "La crítica muestra correlación positiva moderada con las ventas de PS3, es una influencia mucho más significativa en el éxito comercial, que la opinión de los usuarios."
   ]
  },
  {
   "cell_type": "markdown",
   "metadata": {},
   "source": [
    "<div class=\"alert alert-block alert-success\">\n",
    "<b>Comentario del revisor</b> <a class=\"tocSkip\"></a><br />\n",
    "Bien hecho!\n",
    "\n",
    "Las observaciones que haces respecto a la relación entre las reseñas y las ventas me parecen acertadas\n",
    "</div>\n"
   ]
  },
  {
   "cell_type": "markdown",
   "metadata": {},
   "source": [
    "#### Conclusiones:"
   ]
  },
  {
   "cell_type": "markdown",
   "metadata": {},
   "source": [
    "- Ventas varían mucho por plataforma:\n",
    "  - Algunas como Wii, DS con más éxitos masivos. \n",
    "  - Preferencias regionale es clave, Norteamérica y Europa fuertes en consolas de sobremesa occidentales y Japón en portátiles de Nintendo.\n",
    "\n",
    "- PS3 y reseñas de críticos tuienen correlación positiva moderada de 0.43, sobre las ventas totales y es más fuerte que la correlación positiva muy débil de los usuarios con 0.14.\n",
    "\n",
    "El éxito depende de múltiples factores como:\n",
    "- Calidad\n",
    "- Marca\n",
    "- Marketing\n",
    "- Precio\n",
    "- Plataforma\n",
    "- Región\n",
    "- Reseñas\n",
    "\n",
    "La opinión crítica tiene mayor peso sobre las ventas que la de los usuarios para PS3. Cualquier estrategias deben considerar además las preferencias regionales."
   ]
  },
  {
   "cell_type": "markdown",
   "metadata": {},
   "source": [
    "### Comparar ventas de los mismos juegos en otras plataformas\n",
    "- Con base a las conclusiones anteriores "
   ]
  },
  {
   "cell_type": "markdown",
   "metadata": {},
   "source": [
    "#### Instalar \"r\" para expresiones irregulares y limpiar generando DF clean_named"
   ]
  },
  {
   "cell_type": "code",
   "execution_count": 36,
   "metadata": {
    "trusted": true
   },
   "outputs": [],
   "source": [
    "import re #re para expresiones regulares (para limpiar los nombres de los juegos).\n",
    "import numpy as np\n",
    "import matplotlib.pyplot as plt\n",
    "import seaborn as sns"
   ]
  },
  {
   "cell_type": "code",
   "execution_count": 37,
   "metadata": {
    "trusted": true
   },
   "outputs": [],
   "source": [
    "data['name_cleaned'] = data['name'].astype(str).apply(lambda x: re.sub(r'[^a-zA-Z0-9\\s]', '', x))"
   ]
  },
  {
   "cell_type": "code",
   "execution_count": 38,
   "metadata": {
    "trusted": true
   },
   "outputs": [
    {
     "name": "stdout",
     "output_type": "stream",
     "text": [
      "<class 'pandas.core.frame.DataFrame'>\n",
      "RangeIndex: 16715 entries, 0 to 16714\n",
      "Data columns (total 13 columns):\n",
      " #   Column           Non-Null Count  Dtype         \n",
      "---  ------           --------------  -----         \n",
      " 0   name             16713 non-null  object        \n",
      " 1   platform         16715 non-null  object        \n",
      " 2   year_of_release  16446 non-null  datetime64[ns]\n",
      " 3   genre            16713 non-null  object        \n",
      " 4   na_sales         16715 non-null  float64       \n",
      " 5   eu_sales         16715 non-null  float64       \n",
      " 6   jp_sales         16715 non-null  float64       \n",
      " 7   other_sales      16715 non-null  float64       \n",
      " 8   critic_score     8137 non-null   Int64         \n",
      " 9   user_score       7590 non-null   float64       \n",
      " 10  rating           9949 non-null   object        \n",
      " 11  total_sales      16715 non-null  float64       \n",
      " 12  name_cleaned     16715 non-null  object        \n",
      "dtypes: Int64(1), datetime64[ns](1), float64(6), object(5)\n",
      "memory usage: 1.7+ MB\n",
      "None\n"
     ]
    }
   ],
   "source": [
    "print(data.info())"
   ]
  },
  {
   "cell_type": "markdown",
   "metadata": {},
   "source": [
    "#### Agrupar y contar por nombre ya limpio"
   ]
  },
  {
   "cell_type": "code",
   "execution_count": null,
   "metadata": {
    "trusted": true
   },
   "outputs": [],
   "source": [
    "plataformas_interes = ['PS2', 'X360', 'PS3', 'Wii', 'DS', 'PS4', 'PSP', 'PC', '3DS', 'XOne']\n",
    "\n",
    "# Filtro año y plataforma\n",
    "data_filtrado = data[(data['year_of_release'].dt.year >= 2007) & (data['year_of_release'].dt.year <= 2016) & (data['platform'].isin(plataformas_interes))]\n",
    "\n",
    "# Agrupar y contar\n",
    "platform_counts_filtrado = data_filtrado.groupby('name_cleaned')['platform'].nunique()\n",
    "\n",
    "print(\"Número de plataformas por juego (primeros 20, filtrado):\\n\")\n",
    "print(platform_counts_filtrado.head(20).to_markdown(numalign=\"left\", stralign=\"left\"))"
   ]
  },
  {
   "cell_type": "code",
   "execution_count": 34,
   "metadata": {
    "trusted": true
   },
   "outputs": [
    {
     "name": "stdout",
     "output_type": "stream",
     "text": [
      "\n",
      "Número de juegos multiplataforma (filtrado): 1551\n"
     ]
    }
   ],
   "source": [
    "# Filto multiplataforma\n",
    "multiplatform_games_filtrado = platform_counts_filtrado[platform_counts_filtrado > 1]\n",
    "\n",
    "print(f\"\\nNúmero de juegos multiplataforma (filtrado): {len(multiplatform_games_filtrado)}\")"
   ]
  },
  {
   "cell_type": "markdown",
   "metadata": {},
   "source": [
    "⭐ El total de juegos multiplataforma o que están presentes en más de una plataforma asciende a: **1551**\n",
    "\n",
    "⭐ Recordar que estamos dentro del rango elegido de 2007 a 2016, porque si fuese el total de años del dataframe serían **2815**"
   ]
  },
  {
   "cell_type": "markdown",
   "metadata": {},
   "source": [
    "#### Histograma para visualizar cuántos juegos aparecen en 2, 3, 4 o más plataformas."
   ]
  },
  {
   "cell_type": "code",
   "execution_count": 35,
   "metadata": {
    "trusted": true
   },
   "outputs": [
    {
     "data": {
      "image/png": "[encoded data removed]",
      "text/plain": [
       "<Figure size 1000x600 with 1 Axes>"
      ]
     },
     "metadata": {},
     "output_type": "display_data"
    }
   ],
   "source": [
    "import matplotlib.pyplot as plt\n",
    "import seaborn as sns\n",
    "\n",
    "plt.figure(figsize=(10, 6))\n",
    "sns.histplot(multiplatform_games_filtrado, bins=range(2, multiplatform_games_filtrado.max() + 2), discrete=True)\n",
    "plt.title('Distribución del Número de Plataformas por Juego Multiplataforma (2007-2016, Plataformas Seleccionadas)')\n",
    "plt.xlabel('Número de Plataformas')\n",
    "plt.ylabel('Número de Juegos')\n",
    "plt.grid(True)\n",
    "plt.show()"
   ]
  },
  {
   "cell_type": "markdown",
   "metadata": {},
   "source": [
    "#### Prueba comparativa de ventas del Grand Theft Auto V en distintas plataformas"
   ]
  },
  {
   "cell_type": "code",
   "execution_count": 36,
   "metadata": {
    "trusted": true
   },
   "outputs": [
    {
     "name": "stdout",
     "output_type": "stream",
     "text": [
      "\n",
      "Ventas de 'Grand Theft Auto V' por plataforma (2007-2016, Plataformas Seleccionadas):\n",
      "\n",
      "| platform   | na_sales   | eu_sales   | jp_sales   | other_sales   | total_sales   |\n",
      "|:-----------|:-----------|:-----------|:-----------|:--------------|:--------------|\n",
      "| PS3        | 7.02       | 9.09       | 0.98       | 3.96          | 21.05         |\n",
      "| X360       | 9.66       | 5.14       | 0.06       | 1.41          | 16.27         |\n",
      "| PS4        | 3.96       | 6.31       | 0.38       | 1.97          | 12.62         |\n",
      "| XOne       | 2.81       | 2.19       | 0          | 0.47          | 5.47          |\n",
      "| PC         | 0.39       | 0.69       | 0          | 0.09          | 1.17          |\n"
     ]
    }
   ],
   "source": [
    "# Juego de prueba 'Grand Theft Auto V'\n",
    "juego_seleccionado_filtrado = 'Grand Theft Auto V'\n",
    "\n",
    "# Filtro\n",
    "ventas_juego_seleccionado_filtrado = data_filtrado[data_filtrado['name_cleaned'] == juego_seleccionado_filtrado]\n",
    "\n",
    "print(f\"\\nVentas de '{juego_seleccionado_filtrado}' por plataforma (2007-2016, Plataformas Seleccionadas):\\n\")\n",
    "print(ventas_juego_seleccionado_filtrado[['platform', 'na_sales', 'eu_sales', 'jp_sales', 'other_sales', 'total_sales']].to_markdown(index=False, numalign=\"left\", stralign=\"left\"))"
   ]
  },
  {
   "cell_type": "markdown",
   "metadata": {},
   "source": [
    "#### Comparar ventas de juegos multiplataforma"
   ]
  },
  {
   "cell_type": "code",
   "execution_count": 37,
   "metadata": {
    "trusted": true
   },
   "outputs": [
    {
     "name": "stdout",
     "output_type": "stream",
     "text": [
      "\n",
      "Ventas de 'FIFA 15' por plataforma (2007-2016, Plataformas Seleccionadas):\n",
      "\n",
      "| platform   | na_sales   | eu_sales   | jp_sales   | other_sales   | total_sales   |\n",
      "|:-----------|:-----------|:-----------|:-----------|:--------------|:--------------|\n",
      "| PS4        | 0.8        | 4.33       | 0.05       | 0.9           | 6.08          |\n",
      "| PS3        | 0.58       | 3.02       | 0.04       | 0.64          | 4.28          |\n",
      "| X360       | 0.79       | 1.92       | 0          | 0.21          | 2.92          |\n",
      "| XOne       | 0.6        | 1.42       | 0          | 0.16          | 2.18          |\n",
      "| Wii        | 0.15       | 0.37       | 0          | 0.04          | 0.56          |\n",
      "| 3DS        | 0.09       | 0.34       | 0          | 0.03          | 0.46          |\n",
      "| PC         | 0          | 0.27       | 0          | 0.02          | 0.29          |\n",
      "\n",
      "Ventas de 'Minecraft' por plataforma (2007-2016, Plataformas Seleccionadas):\n",
      "\n",
      "| platform   | na_sales   | eu_sales   | jp_sales   | other_sales   | total_sales   |\n",
      "|:-----------|:-----------|:-----------|:-----------|:--------------|:--------------|\n",
      "| X360       | 5.7        | 2.65       | 0.02       | 0.81          | 9.18          |\n",
      "| PS3        | 2.03       | 2.37       | 0          | 0.87          | 5.27          |\n",
      "| PS4        | 1.48       | 2.02       | 0.14       | 0.68          | 4.32          |\n",
      "| XOne       | 1.61       | 0.9        | 0          | 0.25          | 2.76          |\n",
      "\n",
      "Ventas de 'Call of Duty Black Ops' por plataforma (2007-2016, Plataformas Seleccionadas):\n",
      "\n",
      "| platform   | na_sales   | eu_sales   | jp_sales   | other_sales   | total_sales   |\n",
      "|:-----------|:-----------|:-----------|:-----------|:--------------|:--------------|\n",
      "| X360       | 9.7        | 3.68       | 0.11       | 1.13          | 14.62         |\n",
      "| PS3        | 5.99       | 4.37       | 0.48       | 1.79          | 12.63         |\n",
      "| Wii        | 0.8        | 0.45       | 0          | 0.12          | 1.37          |\n",
      "| DS         | 0.5        | 0.04       | 0          | 0.04          | 0.58          |\n"
     ]
    }
   ],
   "source": [
    "def comparar_ventas_juego_filtrado(df, nombre_juego):\n",
    "    ventas = df[df['name_cleaned'] == nombre_juego]\n",
    "    if not ventas.empty:\n",
    "        print(f\"\\nVentas de '{nombre_juego}' por plataforma (2007-2016, Plataformas Seleccionadas):\\n\")\n",
    "        print(ventas[['platform', 'na_sales', 'eu_sales', 'jp_sales', 'other_sales', 'total_sales']].to_markdown(index=False, numalign=\"left\", stralign=\"left\"))\n",
    "    else:\n",
    "        print(f\"\\nNo se encontraron datos para '{nombre_juego}'.\")\n",
    "\n",
    "# Lista multiplataforma\n",
    "juegos_a_comparar_filtrado = ['FIFA 15', 'Minecraft', 'Call of Duty Black Ops']\n",
    "\n",
    "# Iterar\n",
    "for juego in juegos_a_comparar_filtrado:\n",
    "    comparar_ventas_juego_filtrado(data_filtrado, juego)"
   ]
  },
  {
   "cell_type": "markdown",
   "metadata": {},
   "source": [
    "**Conclusiones:**\n",
    "\n",
    "| Juego                     | Plataforma   | NA_sales   | EU_sales   | JP_sales   | Other_sales   | Total_sales   |\n",
    "|---------------------------|--------------|------------|------------|------------|---------------|---------------|\n",
    "| Grand Theft Auto V        | PS3          | 7.02       | 9.09       | 0.98       | 3.96          | 21.05         |\n",
    "| Grand Theft Auto V        | X360         | 9.66       | 5.14       | 0.06       | 1.41          | 16.27         |\n",
    "| Grand Theft Auto V        | PS4          | 3.96       | 6.31       | 0.38       | 1.97          | 12.62         |\n",
    "| Grand Theft Auto V        | XOne         | 2.81       | 2.19       | 0          | 0.47          | 5.47          |\n",
    "| Grand Theft Auto V        | PC           | 0.39       | 0.69       | 0          | 0.09          | 1.17          |\n",
    "| FIFA 15                   | PS4          | 0.8        | 4.33       | 0.05       | 0.9           | 6.08          |\n",
    "| FIFA 15                   | PS3          | 0.58       | 3.02       | 0.04       | 0.64          | 4.28          |\n",
    "| FIFA 15                   | X360         | 0.79       | 1.92       | 0          | 0.21          | 2.92          |\n",
    "| FIFA 15                   | XOne         | 0.6        | 1.42       | 0          | 0.16          | 2.18          |\n",
    "| FIFA 15                   | Wii          | 0.15       | 0.37       | 0          | 0.04          | 0.56          |\n",
    "| FIFA 15                   | 3DS          | 0.09       | 0.34       | 0          | 0.03          | 0.46          |\n",
    "| FIFA 15                   | PC           | 0          | 0.27       | 0          | 0.02          | 0.29          |\n",
    "| Minecraft                 | X360         | 5.7        | 2.65       | 0.02       | 0.81          | 9.18          |\n",
    "| Minecraft                 | PS3          | 2.03       | 2.37       | 0          | 0.87          | 5.27          |\n",
    "| Minecraft                 | PS4          | 1.48       | 2.02       | 0.14       | 0.68          | 4.32          |\n",
    "| Minecraft                 | XOne         | 1.61       | 0.9        | 0          | 0.25          | 2.76          |\n",
    "| Call of Duty Black Ops   | X360         | 9.7        | 3.68       | 0.11       | 1.13          | 14.62         |\n",
    "| Call of Duty Black Ops   | PS3          | 5.99       | 4.37       | 0.48       | 1.79          | 12.63         |\n",
    "| Call of Duty Black Ops   | Wii          | 0.8        | 0.45       | 0          | 0.12          | 1.37          |\n",
    "| Call of Duty Black Ops   | DS           | 0.5        | 0.04       | 0          | 0.04          | 0.58          |\n",
    "\n",
    "\n",
    "**1. Grand Theft Auto V (GTA V):**\n",
    "- Dominio de consolas de sobremesa: GTA V indica preferencia del mercado por  consolas de sobremesa durante el 2007-2016. \n",
    "- PS3 y X360 lideran las ventas sugiriendo una fuerte presencia en el mercado para este periodo.\n",
    "- Transición a nueva generación: Ventas de PS4 y XOne aunque menos que PS3/X360, indican una migración de jugadores a consolas de nueva generación como PS4 y XOne gradualmente.\n",
    "- PC - nicho: Versión PC con las ventas más bajas para este período, mientras que GTA V era un juego de consola.<br><br>\n",
    "\n",
    "**2. FIFA 15:**\n",
    "\n",
    "- Fuerte PlayStation: PS4 y PS3 con ventaja en ventas de FIFA 15. Talvez una base de fans más grande de FIFA en consolas PlayStation o gracias a mejores estrategias de marketing.\n",
    "- Xbox: Xbox con X360 y XOne detrás de las ventas de PlayStation.\n",
    "- Portátiles y Wii menores: Ventas en Wii y 3DS mucho menores, indicando que los juegos deportivos pudiesen no ser tan impactantes en estas plataformas o, las versiones son diferentes en contenido y calidad.\n",
    "- PC rezagado: Versión de PC con las ventas más bajas recalcando que FIFA es principalmente un juego de consola.\n",
    "\n",
    "**3. Minecraft:**\n",
    "\n",
    "- Éxito con Xbox 360: Xbox 360 lidera las ventas de Minecraft, curioso pues Minecraft tuvo éxito generalizado en muchas plataformas.\n",
    "- PlayStation fuerte: PS3 y PS4 con ventas significativas, popular en ambas marcas de consolas.\n",
    "- Ausencia de PC: PC ausente debido al modo de registro de ventas o que la versión se vendió comercializó mediante canales digitales no contabilizados.\n",
    "\n",
    "**4. Call of Duty: Black Ops:**\n",
    "\n",
    "- Dominio de consolas de sobremesa: Como con GTA, Call of Duty: Black Ops, tiene un fuerte impacto en consolas de sobremesa (Xbox 360 y PS3).\n",
    "- Xbox un poco adelante: Xbox 360 con ligera ventaja sobre PS3, indicando una base de fans más grande de Call of Duty en la plataforma Xbox pa este perido.\n",
    "- Wii y DS menores: Ventas en Wii y DS un tanto menores, la experiencia de juego talvez fue diferente en estas plataformas o no tan atractiva para los jugadores de Call of Duty.\n",
    "\n",
    "**Inferencia General:**\n",
    "\n",
    "-Consolas de sobremesa lideran: Entre 2007 y 2016 las consolas PS3, Xbox 360, PS4, Xbox One fueron las plataformas dominantes para juegos AAA como GTA, FIFA y Call of Duty.\n",
    "\n",
    "- PlayStation y Xbox como Competidores: PlayStation y Xbox como principales competidores en el mercado de consolas.\n",
    "\n",
    "- PC como plataforma nicho (en casos aislados): PC a menudo representando un mercado pequeño en comparación a las otras consolas.\n",
    "\n",
    "- Portátiles y Wii como mercados distintos: Consolas como DS y PSP; y la Wii comúnmente en un mercado diferente, con distintos tipos de juego o niveles de éxito en juegos AAA.\n",
    "\n",
    "- Transición de deneración: Hay una transición de la 7ma generación en PS3, Xbox 360, Wii a la 8va generación PS4, Xbox One dentro del período analizado.\n",
    "\n",
    "-Limitaciones: Estamos analizando sólo ventas físicas pero obviando las ventas digitales, muy populares durante este período y que no están incluidas. Por lo tanto, los datos pudiesen no ser muy precisos o completos y las tendencias pudiesen variar en distintas regiones."
   ]
  },
  {
   "cell_type": "markdown",
   "metadata": {},
   "source": [
    "<div class=\"alert alert-block alert-success\">\n",
    "<b>Comentario del revisor</b> <a class=\"tocSkip\"></a><br />\n",
    "Correcto!\n",
    "\n",
    "Muy buena manera de presentar el analisis sobre los juegos multiplataforma, odemos ver claramente las variaciones en ventas en las distintas consolas\n",
    "</div>\n"
   ]
  },
  {
   "cell_type": "markdown",
   "metadata": {},
   "source": [
    "### Distribución general de los juegos por género."
   ]
  },
  {
   "cell_type": "markdown",
   "metadata": {},
   "source": [
    "#### Cantidad de juegos por género y por plataformas potenciales (2007-2016). "
   ]
  },
  {
   "cell_type": "code",
   "execution_count": 40,
   "metadata": {
    "trusted": true
   },
   "outputs": [
    {
     "name": "stdout",
     "output_type": "stream",
     "text": [
      "Distribución de juegos por género:\n",
      "\n",
      "Action          1980\n",
      "Misc            1096\n",
      "Sports          1088\n",
      "Adventure        854\n",
      "Role-Playing     794\n",
      "Shooter          652\n",
      "Simulation       544\n",
      "Racing           473\n",
      "Strategy         341\n",
      "Fighting         337\n",
      "Puzzle           316\n",
      "Platform         260\n",
      "Name: genre, dtype: int64\n"
     ]
    }
   ],
   "source": [
    "genre_counts = data_filtrado['genre'].value_counts()\n",
    "print(\"Distribución de juegos por género:\\n\")\n",
    "print(genre_counts)"
   ]
  },
  {
   "cell_type": "markdown",
   "metadata": {},
   "source": [
    "#### Ventas totales por género y por plataformas potenciales (2007-2016)."
   ]
  },
  {
   "cell_type": "code",
   "execution_count": 41,
   "metadata": {
    "trusted": true
   },
   "outputs": [
    {
     "name": "stdout",
     "output_type": "stream",
     "text": [
      "\n",
      "Ventas totales por género (2007-2016, plataformas seleccionadas):\n",
      "\n",
      "genre\n",
      "Action          1012.19\n",
      "Shooter          668.89\n",
      "Sports           650.08\n",
      "Misc             469.77\n",
      "Role-Playing     449.99\n",
      "Racing           254.81\n",
      "Platform         206.36\n",
      "Simulation       198.85\n",
      "Fighting         157.11\n",
      "Adventure        125.72\n",
      "Puzzle            77.68\n",
      "Strategy          67.40\n",
      "Name: total_sales, dtype: float64\n"
     ]
    }
   ],
   "source": [
    "# Ventas totales por género\n",
    "genre_sales_filtrado = data_filtrado.groupby('genre')['total_sales'].sum().sort_values(ascending=False)\n",
    "print(\"\\nVentas totales por género (2007-2016, plataformas seleccionadas):\\n\")\n",
    "print(genre_sales_filtrado)"
   ]
  },
  {
   "cell_type": "markdown",
   "metadata": {},
   "source": [
    "#### Combinación de ambas ordenada por cantidad (cantidad y ventas)."
   ]
  },
  {
   "cell_type": "code",
   "execution_count": 42,
   "metadata": {
    "trusted": true
   },
   "outputs": [
    {
     "name": "stdout",
     "output_type": "stream",
     "text": [
      "              Cantidad de Juegos  Ventas Totales\n",
      "Action                      1980         1012.19\n",
      "Shooter                      652          668.89\n",
      "Sports                      1088          650.08\n",
      "Misc                        1096          469.77\n",
      "Role-Playing                 794          449.99\n",
      "Racing                       473          254.81\n",
      "Platform                     260          206.36\n",
      "Simulation                   544          198.85\n",
      "Fighting                     337          157.11\n",
      "Adventure                    854          125.72\n",
      "Puzzle                       316           77.68\n",
      "Strategy                     341           67.40\n"
     ]
    }
   ],
   "source": [
    "# Combinar\n",
    "tabla_combinada = pd.DataFrame({\n",
    "    'Cantidad de Juegos': genre_counts,\n",
    "    'Ventas Totales': genre_sales_filtrado\n",
    "})\n",
    "\n",
    "# Ordenar por ventas totales\n",
    "tabla_combinada = tabla_combinada.sort_values(by='Ventas Totales', ascending=False)\n",
    "\n",
    "print(tabla_combinada)"
   ]
  },
  {
   "cell_type": "markdown",
   "metadata": {},
   "source": [
    "#### Combinación de ambas ordenada por ventas (cantidad y ventas)."
   ]
  },
  {
   "cell_type": "markdown",
   "metadata": {},
   "source": [
    "**¿Qué se puede decir de los géneros más rentables?**\n",
    "\n",
    "- Géneros de acción, deportes y armas-disparos, son los de alto volumen de ventas.\n",
    "- sugiere fuerte atractivo y rentabilidad en el mercado. \n",
    "- Pero la rentabilidad pudiese afectarse por costos de producción y elementos clave no capturados dentro de los datos de venta.\n",
    "\n",
    "**¿Puedes generalizar acerca de los géneros con ventas altas y bajas?**\n",
    "\n",
    "- Géneros con alta venta suelen correlacionarse con el atractivo, como en caso de deportes o acción.\n",
    "- Por su parte, las ventas más bajas pudiesen indicar géneros de nicho o títulos de menor penetración en el mercado.\n",
    "- El éxito pudiese depender de la plataforma ya que el rendimiento de un género podría variar entre distintas consolas."
   ]
  },
  {
   "cell_type": "markdown",
   "metadata": {},
   "source": [
    "<div class=\"alert alert-block alert-success\">\n",
    "<b>Comentario del revisor</b> <a class=\"tocSkip\"></a><br />\n",
    "Correcto!\n",
    "\n",
    "Buena manera de presentar los datos, podemos ver claramente cuales son los generos preferidos de las personas, las observaciones que haces me parecen buenas también\n",
    "</div>\n"
   ]
  },
  {
   "cell_type": "markdown",
   "metadata": {},
   "source": [
    "## Crea un perfil de usuario para cada región (NA, UE, JP):"
   ]
  },
  {
   "cell_type": "markdown",
   "metadata": {},
   "source": [
    "### Las 5 plataformas principales"
   ]
  },
  {
   "cell_type": "code",
   "execution_count": 43,
   "metadata": {
    "trusted": true
   },
   "outputs": [],
   "source": [
    "# Función para obtener las 5 plataformas principales por región\n",
    "def top_5_plataformas_por_region(data, region_col):\n",
    "    \"\"\"\n",
    "    Obtiene las 5 plataformas principales para una región específica, ordenadas por ventas.\n",
    "\n",
    "    Args:\n",
    "        df (pd.DataFrame): DataFrame con los datos de videojuegos.\n",
    "        region_col (str): Nombre de la columna de la región ('na_sales', 'eu_sales', 'jp_sales').\n",
    "\n",
    "    Returns:\n",
    "        pd.Series: Serie con las 5 plataformas principales y sus ventas.\n",
    "    \"\"\"\n",
    "\n",
    "    top_platforms = data.groupby('platform')[region_col].sum().sort_values(ascending=False).head(5)\n",
    "    return top_platforms"
   ]
  },
  {
   "cell_type": "markdown",
   "metadata": {},
   "source": [
    "#### Paso 1 -  Las cinco plataformas principales."
   ]
  },
  {
   "cell_type": "code",
   "execution_count": null,
   "metadata": {
    "trusted": true
   },
   "outputs": [],
   "source": [
    "# Paso 1 -  Top 5 platforms.\n",
    "print(\"A. Perfiles de usuario por región\\n\")\n",
    "\n",
    "# Perfil Norteamérica (NA)\n",
    "top_na_platforms = top_5_plataformas_por_region(data_filtrado, 'na_sales')\n",
    "print(\"  - Norteamérica (NA):\\n\", top_na_platforms.to_markdown(numalign=\"left\", stralign=\"left\"))\n",
    "\n",
    "# Perfil Europa (EU)\n",
    "top_eu_platforms = top_5_plataformas_por_region(data_filtrado, 'eu_sales')\n",
    "print(\"\\n  - Europa (EU):\\n\", top_eu_platforms.to_markdown(numalign=\"left\", stralign=\"left\"))\n",
    "\n",
    "# Perfil Japón (JP)\n",
    "top_jp_platforms = top_5_plataformas_por_region(data_filtrado, 'jp_sales')\n",
    "print(\"\\n  - Japón (JP):\\n\", top_jp_platforms.to_markdown(numalign=\"left\", stralign=\"left\"))"
   ]
  },
  {
   "cell_type": "markdown",
   "metadata": {},
   "source": [
    "#### Describe las variaciones en sus cuotas de mercado de una región a otra."
   ]
  },
  {
   "cell_type": "markdown",
   "metadata": {},
   "source": [
    "**Comparación del éxito:**\n",
    "\n",
    "1. Identificar plataformas líderes\n",
    "- Se identifican 5 plataformas principales en cada región (principales actores del mercado por zona).\n",
    "\n",
    "2. Cálculo de la cuota de mercado regional\n",
    "- Calcular el porcentaje de ventas totales en cada región para cada una de las 5 plataformas principales (conocer el grado de dominio de una plataforma en una región en concreto).\n",
    "\n",
    "3. Comparación de las cuotas de mercado entre regiones\n",
    "- Comparar porcentajes de cuota de mercado para cada plataforma entre NA, EU y JP (conocer donde la plataforma es fuerte o débil).\n",
    "\n",
    "4. Elementos descriptivos clave\n",
    "- Identificar plataformas con fuerte dominio en una región particular (cuota significativamente mayor que otra en la región).\n",
    "- Consistencia: Se mantienen con una cuota de mercado consistente en todas las regiones.\n",
    "- Preferencias regionales: Fuertes preferencias regionales (plataforma muy popular en una región o menos en otra).\n",
    "- Cambios en el poder: Cambios de una región a otra (plataforma es la No.1 en NA pero No.3 en EU).\n",
    "- Mercados nicho: Si tiene mercado nicho en alguna región específica.\n",
    "\n",
    "**Norteamérica (NA):**\n",
    "- X360 domina el mercado con participación del 31,94%\n",
    "- Le sigue Wii con 24,00% y PS3 con 21,99%. \n",
    "- La DS alcanza un 15,80%.\n",
    "- Mientras que PS4 tiene una presencia más modesta del 6,27%. \n",
    "\n",
    "El mercado NA muestra clara preferencia por consolas de sobremesa como la X360 y Wii. <br><br>\n",
    "\n",
    "**Europa (EU):**\n",
    "- Lidera PS3 con el 30,39% de la cuota de mercado\n",
    "- Les igue de cerca X360 con 24,42%. \n",
    "- Wii mantiene una sólida posición con 20,40%.\n",
    "- PS4 y DS tienen cuotas más pequeñas, de 13,46% y 11,39% respectivamente\n",
    "\n",
    "Es un mercado más repartido en comparación a Norteamérica.<br><br>\n",
    "\n",
    "**Japón (JP):**\n",
    "- Dominio de las consolas portátiles. \n",
    "- DS lidera con un 25,27%\n",
    "- Le sigue de cerca 3DS con el 24,71%.\n",
    "- PS3 alcanza el 19,23%\n",
    "- Mientras que PSP y Wii tienen cuotas de 16,28% y 14,52% respectivamente. \n",
    "\n",
    "A diferencia de NA y EU, los dispositivos portátiles tienen una fuerte preferencia entre los consumidores.<br><br>\n",
    "\n",
    "**Conclusiones clave:**\n",
    "\n",
    "- Dominio regional\n",
    "\n",
    "| Región         | Plataforma líder | Cuota de mercado (%) |\n",
    "|:---------------|:-----------------|:---------------------|\n",
    "| Norteamérica   | X360              | 31,94%               |\n",
    "| Europa         | PS3               | 30,39%               |\n",
    "| Japón          | DS                | 25,27%               |\n",
    "\n",
    "<p align=\"center\"><b>Conclusión:</b> El dominio regional muestra que la X360 lidera Norteamérica, la PS3 lidera Europa y la DS lidera Japón, reflejando distintas preferencias de mercado en cada región.</p>\n",
    "\n",
    "---\n",
    "\n",
    "- Consistencia entre regiones\n",
    "\n",
    "| Plataforma | Norteamérica | Europa | Japón  |\n",
    "|:-----------|:-------------|:-------|:-------|\n",
    "| PS3        | 21,99%        | 30,39% | 19,23% |\n",
    "| Wii        | 24,00%        | 20,40% | 14,52% |\n",
    "| DS         | 15,80%        | 11,39% | 25,27% |\n",
    "\n",
    "<p align=\"center\"><b>Conclusión:</b> La PS3, Wii y DS muestran una fuerte consistencia, manteniendo cuotas relevantes en las tres regiones analizadas.</p>\n",
    "\n",
    "---\n",
    "\n",
    "- Preferencias regionales\n",
    "\n",
    "| Plataforma | Observación |\n",
    "|:-----------|:------------|\n",
    "| DS         | Mucho más popular en Japón (25,27%) que en Europa (11,39%) |\n",
    "| 3DS        | Alta participación solo en Japón (24,71%) |\n",
    "| PSP        | Relevante en Japón (16,28%), casi nula en NA y EU |\n",
    "\n",
    "<p align=\"center\"><b>Conclusión:</b> Las plataformas como DS, 3DS y PSP evidencian fuertes preferencias regionales, especialmente hacia las consolas portátiles en Japón.</p>\n",
    "\n",
    "---\n",
    "\n",
    "- Mercados de nicho\n",
    "\n",
    "| Plataforma | Región donde destaca | Cuota (%) |\n",
    "|:-----------|:----------------------|:---------:|\n",
    "| PSP        | Japón                  | 16,28%    |\n",
    "| 3DS        | Japón                  | 24,71%    |\n",
    "\n",
    "<p align=\"center\"><b>Conclusión:</b> Algunas plataformas como PSP y 3DS tienen éxito mayormente en mercados de nicho, particularmente en Japón.</p>"
   ]
  },
  {
   "cell_type": "markdown",
   "metadata": {},
   "source": [
    "<div class=\"alert alert-block alert-success\">\n",
    "<b>Comentario del revisor</b> <a class=\"tocSkip\"></a><br />\n",
    "Correcto!\n",
    "\n",
    "Esta grafica nos cuenta cosas muy interesantes, Europa y Norteamerica con comportamientos algo similares mientras que Japón con una tendencia diferente en las ventas\n",
    "</div>\n"
   ]
  },
  {
   "cell_type": "markdown",
   "metadata": {},
   "source": [
    "### Los 5 géneros principales."
   ]
  },
  {
   "cell_type": "code",
   "execution_count": 43,
   "metadata": {
    "trusted": true
   },
   "outputs": [
    {
     "name": "stdout",
     "output_type": "stream",
     "text": [
      "genre\n",
      "Action          477.08\n",
      "Shooter         346.29\n",
      "Sports          320.73\n",
      "Misc            252.09\n",
      "Role-Playing    172.22\n",
      "Racing          108.43\n",
      "Platform        100.43\n",
      "Simulation       97.04\n",
      "Fighting         77.54\n",
      "Adventure        55.59\n",
      "Puzzle           37.43\n",
      "Strategy         25.90\n",
      "Name: na_sales, dtype: float64\n",
      "\n",
      "genre\n",
      "Action          323.97\n",
      "Shooter         226.92\n",
      "Sports          209.00\n",
      "Misc            122.64\n",
      "Racing          100.99\n",
      "Role-Playing    100.62\n",
      "Simulation       63.58\n",
      "Platform         62.21\n",
      "Fighting         36.11\n",
      "Adventure        34.60\n",
      "Puzzle           25.27\n",
      "Strategy         22.88\n",
      "Name: eu_sales, dtype: float64\n",
      "\n",
      "genre\n",
      "Role-Playing    141.88\n",
      "Action           88.36\n",
      "Misc             44.03\n",
      "Sports           38.71\n",
      "Adventure        24.54\n",
      "Fighting         24.10\n",
      "Platform         22.25\n",
      "Simulation       20.86\n",
      "Shooter          15.66\n",
      "Strategy         12.64\n",
      "Racing           10.87\n",
      "Puzzle            8.76\n",
      "Name: jp_sales, dtype: float64\n"
     ]
    }
   ],
   "source": [
    "genre_sales_na = data_filtrado.groupby('genre')['na_sales'].sum().sort_values(ascending=False)\n",
    "top_genres_na = genre_sales_na.head(10)\n",
    "\n",
    "genre_sales_eu = data_filtrado.groupby('genre')['eu_sales'].sum().sort_values(ascending=False)\n",
    "top_genres_eu = genre_sales_eu.head(10)\n",
    "\n",
    "genre_sales_jp = data_filtrado.groupby('genre')['jp_sales'].sum().sort_values(ascending=False)\n",
    "top_genres_jp = genre_sales_jp.head(10)\n",
    "\n",
    "print(genre_sales_na)\n",
    "print()\n",
    "print(genre_sales_eu)\n",
    "print()\n",
    "print(genre_sales_jp)"
   ]
  },
  {
   "cell_type": "code",
   "execution_count": 44,
   "metadata": {
    "trusted": true
   },
   "outputs": [
    {
     "name": "stdout",
     "output_type": "stream",
     "text": [
      "Perfil de usuario - NA Sales:\n",
      "         Género  Ventas Totales (NA)\n",
      "0        Action               477.08\n",
      "1       Shooter               346.29\n",
      "2        Sports               320.73\n",
      "3          Misc               252.09\n",
      "4  Role-Playing               172.22\n",
      "5        Racing               108.43\n",
      "6      Platform               100.43\n",
      "7    Simulation                97.04\n",
      "8      Fighting                77.54\n",
      "9     Adventure                55.59\n",
      "\n",
      "Perfil de usuario - EU Sales:\n",
      "         Género  Ventas Totales (EU)\n",
      "0        Action               323.97\n",
      "1       Shooter               226.92\n",
      "2        Sports               209.00\n",
      "3          Misc               122.64\n",
      "4        Racing               100.99\n",
      "5  Role-Playing               100.62\n",
      "6    Simulation                63.58\n",
      "7      Platform                62.21\n",
      "8      Fighting                36.11\n",
      "9     Adventure                34.60\n",
      "\n",
      "Perfil de usuario - JP Sales:\n",
      "         Género  Ventas Totales (JP)\n",
      "0  Role-Playing               141.88\n",
      "1        Action                88.36\n",
      "2          Misc                44.03\n",
      "3        Sports                38.71\n",
      "4     Adventure                24.54\n",
      "5      Fighting                24.10\n",
      "6      Platform                22.25\n",
      "7    Simulation                20.86\n",
      "8       Shooter                15.66\n",
      "9      Strategy                12.64\n"
     ]
    }
   ],
   "source": [
    "# Perfil de usuario para NA Sales\n",
    "perfil_na_df = pd.DataFrame({\n",
    "    'Género': top_genres_na.index,\n",
    "    'Ventas Totales (NA)': top_genres_na.values\n",
    "})\n",
    "\n",
    "# Perfil de EU Sales\n",
    "perfil_eu_df = pd.DataFrame({\n",
    "    'Género': top_genres_eu.index,\n",
    "    'Ventas Totales (EU)': top_genres_eu.values\n",
    "})\n",
    "\n",
    "# Perfil de JP Sales\n",
    "perfil_jp_df = pd.DataFrame({\n",
    "    'Género': top_genres_jp.index,\n",
    "    'Ventas Totales (JP)': top_genres_jp.values\n",
    "})\n",
    "\n",
    "# Imprimir las tablas de cada perfil\n",
    "print(\"Perfil de usuario - NA Sales:\")\n",
    "print(perfil_na_df)\n",
    "print(\"\\nPerfil de usuario - EU Sales:\")\n",
    "print(perfil_eu_df)\n",
    "print(\"\\nPerfil de usuario - JP Sales:\")\n",
    "print(perfil_jp_df)"
   ]
  },
  {
   "cell_type": "markdown",
   "metadata": {},
   "source": [
    "#### Diferencia entre los géneros"
   ]
  },
  {
   "cell_type": "markdown",
   "metadata": {},
   "source": [
    "Diferencias principales por región:\n",
    "- NA (América del Norte): Action - Shooter - Sports - Misc\n",
    "\n",
    "\n",
    "- EU (Europa): Action - Shooter - Sports - Misc\n",
    "Mayor presencia de géneros como Racing y Role-Playing.\n",
    "El tipo RPG es significativos (Rol), interés por la narrativa y personalización de personajes.\n",
    "\n",
    "- JP (Japón): Role-Playing - Action - Misc - Sports     \n",
    "  - Destaca en Role-Playing (RPG) tradicional en la región como las grandes franquicias de Final Fantasy y Dragon Quest.\n",
    "  - También acción y aventura aunque los más comerciales de disparos y deportes tienen menor relevancia.\n",
    "\n",
    "Resumen de la diferencia:\n",
    "- NA: Acción rápida, disparos y deportes.\n",
    "\n",
    "- EU: Mezcla de acción, disparos, deportes y enfoque en carreras y RPGs.\n",
    "\n",
    "- JP: Énfasis en RPG, mezcla de aventura, acción y otros géneros como simulación.\n"
   ]
  },
  {
   "cell_type": "markdown",
   "metadata": {},
   "source": [
    "<div class=\"alert alert-block alert-success\">\n",
    "<b>Comentario del revisor</b> <a class=\"tocSkip\"></a><br />\n",
    "Bien hecho!\n",
    "\n",
    "Una vez más el mercado japones marcando una tendencia única\n",
    "</div>\n"
   ]
  },
  {
   "cell_type": "markdown",
   "metadata": {},
   "source": [
    "### Afectación de las clasificaciones de ESRB sobre las ventas en regiones individuales."
   ]
  },
  {
   "cell_type": "markdown",
   "metadata": {},
   "source": [
    "\n",
    "**La clasificación ESRB sí afecta las ventas en diferentes regiones de la siguientes manera:**\n",
    "\n",
    "- Norteamérica (NA): Los clasificados como M (Mature) y T (Teen) dominan las ventas. El público adulto es un mercado importante y los títulos para audiencias maduras tienen altas cifras de ventas.\n",
    "\n",
    "- Europa (EU): Igual que Norteamérica los clasificados como T (Teen) y M (Mature) tienen buenas ventas. Pero Europa muestra mayor aceptación hacia juegos E (Everyone) en comparación con NA seguramente por preferencias culturales más amplias dentro del mercado familiar.\n",
    "\n",
    "- Japón (JP): Presenta un patrón diferente ya que los juegos clasificados como E (Everyone) y T (Teen) lideran las ventas. Se alinea con la fuerte preferencia japonesa por títulos portátiles, familiares y de géneros accesibles, como los de oaventuras y RPGs.\n",
    "\n",
    "\n",
    "**Conclusión:**\n",
    "La clasificación ESRB si influye de forma importante sobre las ventas, pero en cada región varía:\n",
    "- En NA y EU: Juegos para adolescentes y adultos (T y M) dominan.\n",
    "- En JP: Juegos más accesibles a todas las edades (E) tienen mayor recepción.\n",
    "\n",
    "Las estrategias de marketing deben considerar no solo la calidad del juego y su reseña crítica, sino también el \"rating\" ESRB y preferencias culturales de cada mercado.\n",
    "\n",
    "Resumen rating ESRB\t- Región donde es más fuerte\n",
    "- M (Mature)\tNorteamérica\n",
    "- T (Teen)    \tEuropa\n",
    "- E (Everyone)\tJapón"
   ]
  },
  {
   "cell_type": "markdown",
   "metadata": {},
   "source": [
    "## Prueba las siguientes hipótesis"
   ]
  },
  {
   "cell_type": "markdown",
   "metadata": {},
   "source": [
    "### Formulación de las hipótesis"
   ]
  },
  {
   "cell_type": "markdown",
   "metadata": {},
   "source": [
    "#### **Hipótesis 1 (Plataformas XOne vs PC):**"
   ]
  },
  {
   "cell_type": "markdown",
   "metadata": {},
   "source": [
    "- Hipótesis Nula (H₀): No existe diferencia significativa entre las calificaciones promedio de los usuarios para las plataformas Xbox One y PC. Matemáticamente: μ XOne=μPC.<br><br>\n",
    "\n",
    "- Hipótesis Alternativa (H₁): Existe una diferencia significativa entre las calificaciones promedio de los usuarios para las plataformas Xbox One y PC. Matemáticamente: μXOne=μPC. Esta es una prueba de dos colas porque la hipótesis original solo pregunta si son \"las mismas\", no si una es específicamente mayor o menor que la otra."
   ]
  },
  {
   "cell_type": "code",
   "execution_count": 51,
   "metadata": {
    "trusted": true
   },
   "outputs": [],
   "source": [
    "xbox_one_scores = data_filtrado[(data_filtrado['platform'] == 'XOne') & (data_filtrado['user_score'].notna())]['user_score']\n",
    "pc_scores = data_filtrado[(data_filtrado['platform'] == 'PC') & (data_filtrado['user_score'].notna())]['user_score']"
   ]
  },
  {
   "cell_type": "code",
   "execution_count": 52,
   "metadata": {
    "trusted": true
   },
   "outputs": [],
   "source": [
    "# Nivel de significancia (alfa)\n",
    "alpha = 0.05#### Cómo formulaste las hipótesis nula y alternativa."
   ]
  },
  {
   "cell_type": "markdown",
   "metadata": {},
   "source": [
    "#### Levene"
   ]
  },
  {
   "cell_type": "code",
   "execution_count": 53,
   "metadata": {
    "trusted": true
   },
   "outputs": [
    {
     "name": "stdout",
     "output_type": "stream",
     "text": [
      "--- Hipótesis 1: XOne vs PC ---\n",
      "Prueba de Levene para varianzas: Estadístico=2.411, p-valor=0.121\n",
      "No se rechaza H0 de Levene: Se asumen varianzas iguales.\n"
     ]
    }
   ],
   "source": [
    "from scipy import stats  # Import the stats module from scipy\n",
    "\n",
    "# H0: Las varianzas son iguales\n",
    "# H1: Las varianzas son diferentes\n",
    "levene_stat_plat, levene_p_plat = stats.levene(xbox_one_scores, pc_scores)\n",
    "print(f'--- Hipótesis 1: XOne vs PC ---')\n",
    "print(f'Prueba de Levene para varianzas: Estadístico={levene_stat_plat:.3f}, p-valor={levene_p_plat:.3f}')\n",
    "\n",
    "equal_variances_plat = levene_p_plat > alpha\n",
    "if equal_variances_plat:\n",
    "    print(\"No se rechaza H0 de Levene: Se asumen varianzas iguales.\")\n",
    "else:\n",
    "    print(\"Se rechaza H0 de Levene: Se asumen varianzas diferentes.\")\n"
   ]
  },
  {
   "cell_type": "markdown",
   "metadata": {},
   "source": [
    "#### \" t\" Student"
   ]
  },
  {
   "cell_type": "code",
   "execution_count": 55,
   "metadata": {
    "trusted": true
   },
   "outputs": [
    {
     "name": "stdout",
     "output_type": "stream",
     "text": [
      "Valor p: 0.056\n",
      "No podemos rechazar la hipótesis nula: No hay evidencia suficiente para decir que las calificaciones promedio son diferentes.\n",
      "Calificación promedio XOne: 6.52\n",
      "Calificación promedio PC: 6.77\n",
      "------------------------------\n"
     ]
    }
   ],
   "source": [
    "from scipy import stats\n",
    "\n",
    "# H0: media(XOne) = media(PC)\n",
    "# H1: media(XOne) != media(PC)\n",
    "results_plat = stats.ttest_ind(xbox_one_scores, pc_scores, equal_var=equal_variances_plat, nan_policy='omit')\n",
    "\n",
    "print(f'Valor p: {results_plat.pvalue:.3f}')\n",
    "\n",
    "if results_plat.pvalue < alpha:\n",
    "    print(\"Rechazamos la hipótesis nula: Las calificaciones promedio de los usuarios para Xbox One y PC son diferentes.\")\n",
    "else:\n",
    "    print(\"No podemos rechazar la hipótesis nula: No hay evidencia suficiente para decir que las calificaciones promedio son diferentes.\")\n",
    "\n",
    "print(f'Calificación promedio XOne: {xbox_one_scores.mean():.2f}')\n",
    "print(f'Calificación promedio PC: {pc_scores.mean():.2f}')\n",
    "print(\"-\" * 30)\n"
   ]
  },
  {
   "cell_type": "markdown",
   "metadata": {},
   "source": [
    "### Hipótesis 2 (Géneros Acción vs Deportes)"
   ]
  },
  {
   "cell_type": "markdown",
   "metadata": {},
   "source": [
    "- Hipótesis Nula (H₀): No existe diferencia significativa entre las calificaciones promedio de los usuarios para los géneros Acción y Deportes. Matemáticamente: μAcción=μDeportes.<br><br>\n",
    "- Hipótesis Alternativa (H₁): Existe una diferencia significativa entre las calificaciones promedio de los usuarios para los géneros Acción y Deportes. Matemáticamente: μAcción=μDeportes. Esta también es una prueba de dos colas porque la hipótesis original afirma que son \"diferentes\", sin especificar la dirección de la diferencia.\n"
   ]
  },
  {
   "cell_type": "code",
   "execution_count": 48,
   "metadata": {
    "trusted": true
   },
   "outputs": [],
   "source": [
    "# Preparar filtrar por género y eliminar NaNs en user_score\n",
    "action_scores = data_filtrado[(data_filtrado['genre'] == 'Action') & (data_filtrado['user_score'].notna())]['user_score']\n",
    "sports_scores = data_filtrado[(data_filtrado['genre'] == 'Sports') & (data_filtrado['user_score'].notna())]['user_score']"
   ]
  },
  {
   "cell_type": "markdown",
   "metadata": {},
   "source": [
    "#### Levene"
   ]
  },
  {
   "cell_type": "code",
   "execution_count": 56,
   "metadata": {
    "trusted": true
   },
   "outputs": [
    {
     "name": "stdout",
     "output_type": "stream",
     "text": [
      "--- Hipótesis 2: Acción vs Deportes ---\n",
      "Prueba de Levene para varianzas: Estadístico=24.258, p-valor=0.000\n",
      "Se rechaza H0 de Levene: Se asumen varianzas diferentes.\n"
     ]
    }
   ],
   "source": [
    "from scipy import stats as st  # Import scipy.stats as st\n",
    "\n",
    "# Filtrar las puntuaciones de usuario para los géneros Acción y Deportes\n",
    "action_scores = data_filtrado[(data_filtrado['genre'] == 'Action') & (data_filtrado['user_score'].notna())]['user_score']\n",
    "sports_scores = data_filtrado[(data_filtrado['genre'] == 'Sports') & (data_filtrado['user_score'].notna())]['user_score']\n",
    "\n",
    "# Alfa ya está establecido en 0.05\n",
    "\n",
    "# Varianzas\n",
    "levene_stat_genre, levene_p_genre = st.levene(action_scores, sports_scores)\n",
    "print(f'--- Hipótesis 2: Acción vs Deportes ---')\n",
    "print(f'Prueba de Levene para varianzas: Estadístico={levene_stat_genre:.3f}, p-valor={levene_p_genre:.3f}')\n",
    "\n",
    "equal_variances_genre = levene_p_genre > alpha\n",
    "if equal_variances_genre:\n",
    "    print(\"No se rechaza H0 de Levene: Se asumen varianzas iguales.\")\n",
    "else:\n",
    "    print(\"Se rechaza H0 de Levene: Se asumen varianzas diferentes.\")"
   ]
  },
  {
   "cell_type": "markdown",
   "metadata": {},
   "source": [
    "#### \" t\" Student"
   ]
  },
  {
   "cell_type": "code",
   "execution_count": 57,
   "metadata": {
    "trusted": true
   },
   "outputs": [
    {
     "name": "stdout",
     "output_type": "stream",
     "text": [
      "Valor p: 0.000\n",
      "Rechazamos la hipótesis nula: Las calificaciones promedio de los usuarios para Acción y Deportes son diferentes.\n",
      "Calificación promedio Acción: 6.82\n",
      "Calificación promedio Deportes: 6.31\n",
      "------------------------------\n"
     ]
    }
   ],
   "source": [
    "# Prueba t de Student (muestras independientes)\n",
    "# H0: media(Action) = media(Sports)\n",
    "# H1: media(Action) != media(Sports)\n",
    "results_genre = st.ttest_ind(action_scores, sports_scores, equal_var=equal_variances_genre, nan_policy='omit')\n",
    "\n",
    "\n",
    "print(f'Valor p: {results_genre.pvalue:.3f}')\n",
    "\n",
    "if results_genre.pvalue < alpha:\n",
    "    print(\"Rechazamos la hipótesis nula: Las calificaciones promedio de los usuarios para Acción y Deportes son diferentes.\")\n",
    "else:\n",
    "    print(\"No podemos rechazar la hipótesis nula: No hay evidencia suficiente para decir que las calificaciones promedio son diferentes.\")\n",
    "\n",
    "print(f'Calificación promedio Acción: {action_scores.mean():.2f}')\n",
    "print(f'Calificación promedio Deportes: {sports_scores.mean():.2f}')\n",
    "print(\"-\" * 30)"
   ]
  },
  {
   "cell_type": "markdown",
   "metadata": {},
   "source": [
    "<div class=\"alert alert-block alert-success\">\n",
    "<b>Comentario del revisor</b> <a class=\"tocSkip\"></a><br />\n",
    "\n",
    "\n",
    "El planteamiento de la hipótesis me parece correcto en ambos casos, bien hecho!\n",
    "</div>\n"
   ]
  },
  {
   "cell_type": "markdown",
   "metadata": {},
   "source": [
    "### Criterios a utilizar para probar las hipótesis"
   ]
  },
  {
   "cell_type": "markdown",
   "metadata": {},
   "source": [
    "#### Se eliminan NaN de user_score"
   ]
  },
  {
   "cell_type": "markdown",
   "metadata": {},
   "source": [
    "- Evita introducir sesgos artificiales (especialmente con el reemplazo por cero).\n",
    "- Mantiene la integridad de los datos al usar solo opiniones reales.\n",
    "- Evita la reducción artificial de la varianza que ocurre con la imputación por media/mediana."
   ]
  },
  {
   "cell_type": "markdown",
   "metadata": {},
   "source": [
    "#### Cómo formulaste las hipótesis nula y alternativa."
   ]
  },
  {
   "cell_type": "markdown",
   "metadata": {},
   "source": [
    "#### Las calificaciones promedio de los usuarios para las plataformas Xbox One y PC son las mismas."
   ]
  },
  {
   "cell_type": "markdown",
   "metadata": {},
   "source": [
    "**A - Prueba t de Student para Muestras Independientes (scipy.stats.ttest_ind):**\n",
    "    \n",
    "- Se utiliza este método para comparar las medias de las calificaciones de los usuarios de la columna o serie \"user_score\", como variable cuantitativa y entre dos grupos independientes.<br><br>\n",
    "\n",
    "**- En la Hipótesis 1 los grupos son:**\n",
    "  - Juegos de la plataforma 'XOne'\n",
    "  - Juegos de la plataforma 'PC'. \n",
    "  \n",
    "  Un juego pertenece a una plataforma u otra en esta comparación, por tanto, las muestras de las calificaciones son independientes.<br><br>\n",
    "\n",
    "**- En la Hipótesis 2 los grupos son:**\n",
    "  - Juegos del género 'Action'\n",
    "  - juegos del género 'Sports'. \n",
    "  \n",
    "  Si cada juego se clasifica en un género para este análisis, igualmente que en la hipótesis 1 las muestras de calificaciones también son independientes.<br>\n",
    "  \n",
    "- Funcionamiento: Esta prueba calcula un estadístico o valor \"t\", el cual mide la diferencia entre las medias de los grupos y con relación a la variabilidad dentro de estos. Posteriormente se calcula un valor p (p-value).<br><br><br>\n",
    " \n",
    "**B - Prueba de Levene (scipy.stats.levene):**\n",
    "\n",
    "- La prueba t de Student estándar, supone que las varianzas de los dos grupos por comparar son iguales (homocedasticidad). \n",
    "\n",
    "- La prueba de Levene se utiliza para verificarlo.\n",
    "\n",
    "- La hipótesis nula de la prueba de Levene es que las varianzas son iguales.\n",
    "\n",
    "- Si el p-valor de la prueba de Levene es mayor que alfa (p > 0.05), no se rechaza la H₀ de Levene y podemos asumir varianzas iguales (equal_var=True en ttest_ind).\n",
    "\n",
    "- Si el p-valor de la prueba de Levene es menor o igual que alfa (p <= 0.05), se rechaza la H₀ de Levene, es decir, las varianzas son diferentes. \n",
    "\n",
    "- En este caso se utiliza la corrección de Welch dentro de la prueba t (equal_var=False en ttest_ind), la cual que es más robusta cuando las varianzas son distintas entre sí o difieren."
   ]
  },
  {
   "cell_type": "markdown",
   "metadata": {},
   "source": [
    "### Valor del umbral alfa."
   ]
  },
  {
   "cell_type": "markdown",
   "metadata": {},
   "source": [
    "**Valor p (p-value).**\n",
    "\n",
    "  - Valor p: Este valor representa la probabilidad de observar una diferencia entre las medias, tan grande o más grande como la que se encuentre en las muestras, asumiendo que la hipótesis nula (H₀) es verdadera.<br><br>\n",
    "  \n",
    "- Significancia: Se compara el valor p con un nivel de significancia predefinido (alfa, α).\n",
    "  - Nivel de Significancia (Alfa, α): Se establece en α=0.05. Es un umbral comun en muchas disciplinas científica pues representa la probabilidad máxima que estamos dispuestos a aceptar o de cometer un Eror de Tipo I (rechazar la hipótesis nula cuando en realidad es verdadera).<br><br>\n",
    "\n",
    "- En este caso hay un 5% de riesgo de concluir que las medias son diferentes cuando en realidad no lo son.\n",
    "  - Si p≤α: Rechazamos la hipótesis nula (H₀). Debido a que existiría evidencia estadística suficiente para apoyar la hipótesis alternativa (H₁).\n",
    "  - Si p>α: No rechazamos la hipótesis nula (H₀). Por motivo de que no hay evidencia estadística suficiente para decir que las medias son diferentes. Es importante decir, que esto no prueba que sean iguales, sino que, no podemos afirmar que sean diferentes con el nivel de confianza elegido)."
   ]
  },
  {
   "cell_type": "markdown",
   "metadata": {},
   "source": [
    "## CONCLUSIONES PRINCIPALES\n",
    "### Tendencias del Mercado y Plataformas\n",
    "- El mercado de videojuegos ha mostrado cambios significativos a lo largo de los años, con un claro descenso en las ventas y lanzamientos a partir de 2017.\n",
    "\n",
    "- Se identificaron las plataformas más relevantes para el año 2017 y se analizó su ciclo de vida y potencial de ventas.\n",
    "\n",
    "- El mercado está en constante cambio, y las plataformas con un ciclo de vida corto son las más dinámicas, mientras que las de mayor longevidad ofrecen una base de usuarios más estable.\n",
    "\n",
    "### Perfiles de Usuario por Región\n",
    "- Existen claras diferencias en los gustos y preferencias de los jugadores en las principales regiones del mundo.\n",
    "\n",
    "- Norteamérica y Europa muestran similitudes en sus preferencias, con una alta demanda por plataformas como PlayStation y Xbox, y géneros como Acción y Disparos.\n",
    "\n",
    "- Japón tiene un perfil de usuario distintivo, con una fuerte preferencia por plataformas de Nintendo y un mayor interés en géneros como Juegos de rol.\n",
    "\n",
    "- La clasificación ESRB también muestra variaciones regionales, lo que es crucial para estrategias de marketing localizadas.\n",
    "\n",
    "### Resultados de las Pruebas de Hipótesis\n",
    "- Calificaciones por Plataforma: Las pruebas estadísticas confirman que las calificaciones promedio de los usuarios para Xbox One y PC son diferentes, lo que sugiere que los jugadores de cada plataforma tienen expectativas o experiencias distintas.\n",
    "\n",
    "- Calificaciones por Género: Se encontró que las calificaciones promedio de los usuarios para los géneros de Acción y Deportes también son diferentes, lo que valida la importancia de una estrategia de marketing y desarrollo específica para cada género.\n",
    "\n",
    "### Recomendaciones Estratégicas para 2017\n",
    "- Para la campaña publicitaria de 2017, la empresa debe enfocar sus esfuerzos en las plataformas que mostraron un mejor desempeño en años recientes, evitando aquellas con un ciclo de vida en declive.\n",
    "\n",
    "- Es fundamental adaptar la publicidad y la distribución de juegos a las preferencias regionales, promoviendo títulos de Acción en Norteamérica y Europa, y de Juegos de rol en Japón.\n",
    "\n",
    "- La inversión en marketing debe ser flexible y adaptarse a las tendencias de ventas y géneros que se han detectado."
   ]
  }
 ],
 "metadata": {
  "ExecuteTimeLog": [
   {
    "duration": 418,
    "start_time": "2025-04-26T16:27:53.247Z"
   },
   {
    "duration": 3,
    "start_time": "2025-04-26T16:27:55.037Z"
   },
   {
    "duration": 3,
    "start_time": "2025-04-26T16:28:11.063Z"
   },
   {
    "duration": 7,
    "start_time": "2025-04-26T16:29:59.529Z"
   },
   {
    "duration": 4,
    "start_time": "2025-04-26T16:30:06.745Z"
   },
   {
    "duration": 3,
    "start_time": "2025-04-26T16:30:13.634Z"
   },
   {
    "duration": 3,
    "start_time": "2025-04-26T16:31:02.763Z"
   },
   {
    "duration": 504,
    "start_time": "2025-04-26T16:31:13.879Z"
   },
   {
    "duration": 35,
    "start_time": "2025-04-26T16:31:35.629Z"
   },
   {
    "duration": 17,
    "start_time": "2025-04-26T16:31:54.960Z"
   },
   {
    "duration": 156,
    "start_time": "2025-04-26T18:37:34.528Z"
   },
   {
    "duration": 11,
    "start_time": "2025-04-26T18:38:24.587Z"
   },
   {
    "duration": 11,
    "start_time": "2025-04-26T18:38:36.412Z"
   },
   {
    "duration": 12,
    "start_time": "2025-04-26T18:38:51.667Z"
   },
   {
    "duration": 11,
    "start_time": "2025-04-26T18:38:57.333Z"
   },
   {
    "duration": 2070,
    "start_time": "2025-04-26T18:39:09.877Z"
   },
   {
    "duration": 36,
    "start_time": "2025-04-26T18:39:11.948Z"
   },
   {
    "duration": 18,
    "start_time": "2025-04-26T18:39:11.986Z"
   },
   {
    "duration": 9,
    "start_time": "2025-04-26T18:39:12.006Z"
   },
   {
    "duration": 11,
    "start_time": "2025-04-26T18:39:20.971Z"
   },
   {
    "duration": 3,
    "start_time": "2025-04-26T18:41:02.827Z"
   },
   {
    "duration": 10,
    "start_time": "2025-04-26T18:41:48.880Z"
   },
   {
    "duration": 16,
    "start_time": "2025-04-26T19:08:41.826Z"
   },
   {
    "duration": 237,
    "start_time": "2025-04-26T19:25:14.876Z"
   },
   {
    "duration": 12,
    "start_time": "2025-04-26T19:25:29.323Z"
   },
   {
    "duration": 5,
    "start_time": "2025-04-26T19:26:21.660Z"
   },
   {
    "duration": 4,
    "start_time": "2025-04-26T19:26:42.369Z"
   },
   {
    "duration": 5,
    "start_time": "2025-04-26T19:30:31.829Z"
   },
   {
    "duration": 13,
    "start_time": "2025-04-26T19:35:13.089Z"
   },
   {
    "duration": 14,
    "start_time": "2025-04-26T19:35:21.126Z"
   },
   {
    "duration": 4,
    "start_time": "2025-04-26T19:35:28.590Z"
   },
   {
    "duration": 6,
    "start_time": "2025-04-26T19:36:11.843Z"
   },
   {
    "duration": 5,
    "start_time": "2025-04-26T19:36:18.876Z"
   },
   {
    "duration": 5,
    "start_time": "2025-04-26T19:56:54.880Z"
   },
   {
    "duration": 5,
    "start_time": "2025-04-26T19:57:31.254Z"
   },
   {
    "duration": 4,
    "start_time": "2025-04-26T19:58:00.303Z"
   },
   {
    "duration": 4,
    "start_time": "2025-04-26T19:58:28.633Z"
   },
   {
    "duration": 7,
    "start_time": "2025-04-26T19:59:08.979Z"
   },
   {
    "duration": 12,
    "start_time": "2025-04-26T19:59:35.683Z"
   },
   {
    "duration": 15,
    "start_time": "2025-04-26T19:59:46.210Z"
   },
   {
    "duration": 7,
    "start_time": "2025-04-26T19:59:53.131Z"
   },
   {
    "duration": 6,
    "start_time": "2025-04-26T20:00:21.690Z"
   },
   {
    "duration": 5,
    "start_time": "2025-04-26T20:00:37.946Z"
   },
   {
    "duration": 6,
    "start_time": "2025-04-26T20:01:26.196Z"
   },
   {
    "duration": 6,
    "start_time": "2025-04-26T20:01:59.408Z"
   },
   {
    "duration": 40,
    "start_time": "2025-04-26T20:59:18.326Z"
   },
   {
    "duration": 33,
    "start_time": "2025-04-26T21:00:26.984Z"
   },
   {
    "duration": 14,
    "start_time": "2025-04-26T21:04:22.119Z"
   },
   {
    "duration": 4,
    "start_time": "2025-04-26T21:04:27.773Z"
   },
   {
    "duration": 33,
    "start_time": "2025-04-26T21:04:47.048Z"
   },
   {
    "duration": 27,
    "start_time": "2025-04-26T21:04:55.832Z"
   },
   {
    "duration": 29,
    "start_time": "2025-04-26T21:05:26.122Z"
   },
   {
    "duration": 33,
    "start_time": "2025-04-26T21:05:56.690Z"
   },
   {
    "duration": 32,
    "start_time": "2025-04-26T21:06:22.002Z"
   },
   {
    "duration": 36,
    "start_time": "2025-04-26T21:06:36.065Z"
   },
   {
    "duration": 31,
    "start_time": "2025-04-26T21:06:55.049Z"
   },
   {
    "duration": 14,
    "start_time": "2025-04-26T21:07:14.546Z"
   },
   {
    "duration": 16,
    "start_time": "2025-04-26T21:07:18.732Z"
   },
   {
    "duration": 9,
    "start_time": "2025-04-26T21:07:26.570Z"
   },
   {
    "duration": 21,
    "start_time": "2025-04-26T21:07:49.714Z"
   },
   {
    "duration": 11,
    "start_time": "2025-04-26T21:07:54.398Z"
   },
   {
    "duration": 10,
    "start_time": "2025-04-26T21:08:42.424Z"
   },
   {
    "duration": 170,
    "start_time": "2025-04-27T04:34:07.841Z"
   },
   {
    "duration": 183,
    "start_time": "2025-04-27T14:51:18.045Z"
   },
   {
    "duration": 2272,
    "start_time": "2025-04-27T14:51:25.587Z"
   },
   {
    "duration": 39,
    "start_time": "2025-04-27T14:51:27.862Z"
   },
   {
    "duration": 20,
    "start_time": "2025-04-27T14:51:27.903Z"
   },
   {
    "duration": 14,
    "start_time": "2025-04-27T14:51:27.926Z"
   },
   {
    "duration": 6,
    "start_time": "2025-04-27T14:51:27.942Z"
   },
   {
    "duration": 12,
    "start_time": "2025-04-27T14:51:27.950Z"
   },
   {
    "duration": 5,
    "start_time": "2025-04-27T14:51:27.987Z"
   },
   {
    "duration": 8,
    "start_time": "2025-04-27T18:09:37.393Z"
   },
   {
    "duration": 156,
    "start_time": "2025-04-27T18:09:49.625Z"
   },
   {
    "duration": 2151,
    "start_time": "2025-04-27T18:10:03.660Z"
   },
   {
    "duration": 35,
    "start_time": "2025-04-27T18:10:05.813Z"
   },
   {
    "duration": 18,
    "start_time": "2025-04-27T18:10:05.849Z"
   },
   {
    "duration": 11,
    "start_time": "2025-04-27T18:10:05.869Z"
   },
   {
    "duration": 5,
    "start_time": "2025-04-27T18:10:05.882Z"
   },
   {
    "duration": 11,
    "start_time": "2025-04-27T18:10:05.888Z"
   },
   {
    "duration": 5,
    "start_time": "2025-04-27T18:10:05.900Z"
   },
   {
    "duration": 41,
    "start_time": "2025-04-27T18:10:05.906Z"
   },
   {
    "duration": 5,
    "start_time": "2025-04-27T18:19:35.268Z"
   },
   {
    "duration": 4,
    "start_time": "2025-04-27T18:19:57.444Z"
   },
   {
    "duration": 7,
    "start_time": "2025-04-27T19:11:03.338Z"
   },
   {
    "duration": 7,
    "start_time": "2025-04-27T19:20:52.610Z"
   },
   {
    "duration": 180,
    "start_time": "2025-04-27T19:27:28.160Z"
   },
   {
    "duration": 8,
    "start_time": "2025-04-27T19:27:34.506Z"
   },
   {
    "duration": 20,
    "start_time": "2025-04-27T19:37:14.049Z"
   },
   {
    "duration": 14,
    "start_time": "2025-04-27T19:37:23.208Z"
   },
   {
    "duration": 37,
    "start_time": "2025-04-27T19:37:28.656Z"
   },
   {
    "duration": 2139,
    "start_time": "2025-04-28T02:54:48.306Z"
   },
   {
    "duration": 35,
    "start_time": "2025-04-28T02:54:50.449Z"
   },
   {
    "duration": 18,
    "start_time": "2025-04-28T02:54:50.486Z"
   },
   {
    "duration": 16,
    "start_time": "2025-04-28T02:54:50.506Z"
   },
   {
    "duration": 5,
    "start_time": "2025-04-28T02:54:50.523Z"
   },
   {
    "duration": 10,
    "start_time": "2025-04-28T02:54:50.530Z"
   },
   {
    "duration": 5,
    "start_time": "2025-04-28T02:54:50.541Z"
   },
   {
    "duration": 11,
    "start_time": "2025-04-28T02:54:50.547Z"
   },
   {
    "duration": 4,
    "start_time": "2025-04-28T02:54:50.560Z"
   },
   {
    "duration": 6,
    "start_time": "2025-04-28T02:54:50.566Z"
   },
   {
    "duration": 265,
    "start_time": "2025-04-28T02:54:50.574Z"
   },
   {
    "duration": 0,
    "start_time": "2025-04-28T02:54:50.841Z"
   },
   {
    "duration": 15,
    "start_time": "2025-04-28T02:55:11.769Z"
   },
   {
    "duration": 4,
    "start_time": "2025-04-28T03:05:25.399Z"
   },
   {
    "duration": 10,
    "start_time": "2025-04-28T03:06:17.715Z"
   },
   {
    "duration": 37,
    "start_time": "2025-04-28T03:07:48.012Z"
   },
   {
    "duration": 3,
    "start_time": "2025-04-28T03:09:45.124Z"
   },
   {
    "duration": 6,
    "start_time": "2025-04-28T03:10:37.447Z"
   },
   {
    "duration": 17,
    "start_time": "2025-04-28T03:11:45.883Z"
   },
   {
    "duration": 19,
    "start_time": "2025-04-28T03:11:53.689Z"
   },
   {
    "duration": 5,
    "start_time": "2025-04-28T03:12:27.655Z"
   },
   {
    "duration": 5,
    "start_time": "2025-04-28T03:12:34.488Z"
   },
   {
    "duration": 8,
    "start_time": "2025-04-28T03:13:31.250Z"
   },
   {
    "duration": 7,
    "start_time": "2025-04-28T03:13:43.266Z"
   },
   {
    "duration": 14,
    "start_time": "2025-04-28T03:15:39.605Z"
   },
   {
    "duration": 29,
    "start_time": "2025-04-28T03:16:02.838Z"
   },
   {
    "duration": 470,
    "start_time": "2025-04-28T03:16:28.059Z"
   },
   {
    "duration": 69,
    "start_time": "2025-04-28T03:16:28.531Z"
   },
   {
    "duration": 27,
    "start_time": "2025-04-28T03:16:28.602Z"
   },
   {
    "duration": 14,
    "start_time": "2025-04-28T03:16:28.632Z"
   },
   {
    "duration": 6,
    "start_time": "2025-04-28T03:16:28.649Z"
   },
   {
    "duration": 11,
    "start_time": "2025-04-28T03:16:28.657Z"
   },
   {
    "duration": 5,
    "start_time": "2025-04-28T03:16:28.670Z"
   },
   {
    "duration": 45,
    "start_time": "2025-04-28T03:16:28.677Z"
   },
   {
    "duration": 6,
    "start_time": "2025-04-28T03:16:28.725Z"
   },
   {
    "duration": 7,
    "start_time": "2025-04-28T03:16:28.735Z"
   },
   {
    "duration": 9,
    "start_time": "2025-04-28T03:16:28.744Z"
   },
   {
    "duration": 37,
    "start_time": "2025-04-28T03:16:28.755Z"
   },
   {
    "duration": 38,
    "start_time": "2025-04-28T03:16:28.794Z"
   },
   {
    "duration": 19,
    "start_time": "2025-04-28T03:16:28.834Z"
   },
   {
    "duration": 6,
    "start_time": "2025-04-28T03:16:28.855Z"
   },
   {
    "duration": 4,
    "start_time": "2025-04-28T03:16:28.863Z"
   },
   {
    "duration": 6,
    "start_time": "2025-04-28T03:16:28.869Z"
   },
   {
    "duration": 51,
    "start_time": "2025-04-28T03:16:28.877Z"
   },
   {
    "duration": 225,
    "start_time": "2025-04-28T03:16:28.931Z"
   },
   {
    "duration": 20,
    "start_time": "2025-04-28T03:16:50.952Z"
   },
   {
    "duration": 25,
    "start_time": "2025-04-28T03:17:56.638Z"
   },
   {
    "duration": 423,
    "start_time": "2025-04-28T03:18:11.176Z"
   },
   {
    "duration": 118,
    "start_time": "2025-04-28T03:18:11.603Z"
   },
   {
    "duration": 21,
    "start_time": "2025-04-28T03:18:11.724Z"
   },
   {
    "duration": 10,
    "start_time": "2025-04-28T03:18:11.748Z"
   },
   {
    "duration": 4,
    "start_time": "2025-04-28T03:18:11.760Z"
   },
   {
    "duration": 11,
    "start_time": "2025-04-28T03:18:11.766Z"
   },
   {
    "duration": 5,
    "start_time": "2025-04-28T03:18:11.779Z"
   },
   {
    "duration": 45,
    "start_time": "2025-04-28T03:18:11.785Z"
   },
   {
    "duration": 5,
    "start_time": "2025-04-28T03:18:11.832Z"
   },
   {
    "duration": 7,
    "start_time": "2025-04-28T03:18:11.839Z"
   },
   {
    "duration": 9,
    "start_time": "2025-04-28T03:18:11.848Z"
   },
   {
    "duration": 60,
    "start_time": "2025-04-28T03:18:11.859Z"
   },
   {
    "duration": 13,
    "start_time": "2025-04-28T03:18:11.922Z"
   },
   {
    "duration": 22,
    "start_time": "2025-04-28T03:18:11.936Z"
   },
   {
    "duration": 5,
    "start_time": "2025-04-28T03:18:11.961Z"
   },
   {
    "duration": 12,
    "start_time": "2025-04-28T03:18:11.969Z"
   },
   {
    "duration": 37,
    "start_time": "2025-04-28T03:18:11.984Z"
   },
   {
    "duration": 18,
    "start_time": "2025-04-28T03:18:12.023Z"
   },
   {
    "duration": 249,
    "start_time": "2025-04-28T03:18:12.043Z"
   },
   {
    "duration": 103,
    "start_time": "2025-04-28T03:20:17.137Z"
   },
   {
    "duration": 55,
    "start_time": "2025-04-28T03:20:47.918Z"
   },
   {
    "duration": 6,
    "start_time": "2025-04-28T03:28:31.870Z"
   },
   {
    "duration": 7,
    "start_time": "2025-04-28T03:30:55.270Z"
   },
   {
    "duration": 15,
    "start_time": "2025-04-28T03:37:38.431Z"
   },
   {
    "duration": 14,
    "start_time": "2025-04-28T03:38:31.664Z"
   },
   {
    "duration": 17,
    "start_time": "2025-04-28T03:39:16.848Z"
   },
   {
    "duration": 15,
    "start_time": "2025-04-28T03:40:03.237Z"
   },
   {
    "duration": 13,
    "start_time": "2025-04-28T03:40:16.596Z"
   },
   {
    "duration": 15,
    "start_time": "2025-04-28T04:11:41.099Z"
   },
   {
    "duration": 14,
    "start_time": "2025-04-28T04:12:26.187Z"
   },
   {
    "duration": 19,
    "start_time": "2025-04-28T04:13:10.814Z"
   },
   {
    "duration": 16,
    "start_time": "2025-04-28T04:13:49.872Z"
   },
   {
    "duration": 15,
    "start_time": "2025-04-28T04:15:26.466Z"
   },
   {
    "duration": 14,
    "start_time": "2025-04-28T04:53:07.910Z"
   },
   {
    "duration": 17,
    "start_time": "2025-04-28T04:53:43.929Z"
   },
   {
    "duration": 17,
    "start_time": "2025-04-28T04:55:48.758Z"
   },
   {
    "duration": 7,
    "start_time": "2025-04-28T04:58:22.487Z"
   },
   {
    "duration": 18,
    "start_time": "2025-04-28T04:59:23.465Z"
   },
   {
    "duration": 21,
    "start_time": "2025-04-28T05:00:07.700Z"
   },
   {
    "duration": 160,
    "start_time": "2025-04-28T15:05:44.161Z"
   },
   {
    "duration": 2134,
    "start_time": "2025-04-28T15:05:54.332Z"
   },
   {
    "duration": 38,
    "start_time": "2025-04-28T15:05:56.469Z"
   },
   {
    "duration": 18,
    "start_time": "2025-04-28T15:05:56.508Z"
   },
   {
    "duration": 12,
    "start_time": "2025-04-28T15:05:56.527Z"
   },
   {
    "duration": 5,
    "start_time": "2025-04-28T15:05:56.541Z"
   },
   {
    "duration": 10,
    "start_time": "2025-04-28T15:05:56.547Z"
   },
   {
    "duration": 4,
    "start_time": "2025-04-28T15:05:56.559Z"
   },
   {
    "duration": 11,
    "start_time": "2025-04-28T15:05:56.565Z"
   },
   {
    "duration": 4,
    "start_time": "2025-04-28T15:05:56.578Z"
   },
   {
    "duration": 46,
    "start_time": "2025-04-28T15:05:56.583Z"
   },
   {
    "duration": 9,
    "start_time": "2025-04-28T15:05:56.630Z"
   },
   {
    "duration": 36,
    "start_time": "2025-04-28T15:05:56.640Z"
   },
   {
    "duration": 10,
    "start_time": "2025-04-28T15:05:56.678Z"
   },
   {
    "duration": 43,
    "start_time": "2025-04-28T15:05:56.691Z"
   },
   {
    "duration": 5,
    "start_time": "2025-04-28T15:05:56.735Z"
   },
   {
    "duration": 5,
    "start_time": "2025-04-28T15:05:56.742Z"
   },
   {
    "duration": 6,
    "start_time": "2025-04-28T15:05:56.748Z"
   },
   {
    "duration": 11,
    "start_time": "2025-04-28T15:05:56.756Z"
   },
   {
    "duration": 130,
    "start_time": "2025-04-28T15:05:56.769Z"
   },
   {
    "duration": 60,
    "start_time": "2025-04-28T15:05:56.900Z"
   },
   {
    "duration": 6,
    "start_time": "2025-04-28T15:05:56.961Z"
   },
   {
    "duration": 14,
    "start_time": "2025-04-28T15:05:56.970Z"
   },
   {
    "duration": 808,
    "start_time": "2025-04-28T15:31:51.668Z"
   },
   {
    "duration": 582,
    "start_time": "2025-04-28T15:34:29.078Z"
   },
   {
    "duration": 46,
    "start_time": "2025-04-28T15:38:36.866Z"
   },
   {
    "duration": 355,
    "start_time": "2025-04-28T15:38:43.280Z"
   },
   {
    "duration": 336,
    "start_time": "2025-04-28T15:39:02.229Z"
   },
   {
    "duration": 469,
    "start_time": "2025-04-28T15:39:11.621Z"
   },
   {
    "duration": 314,
    "start_time": "2025-04-28T15:39:20.882Z"
   },
   {
    "duration": 300,
    "start_time": "2025-04-28T15:39:27.645Z"
   },
   {
    "duration": 330,
    "start_time": "2025-04-28T15:39:38.566Z"
   },
   {
    "duration": 337,
    "start_time": "2025-04-28T15:39:47.708Z"
   },
   {
    "duration": 326,
    "start_time": "2025-04-28T15:39:57.884Z"
   },
   {
    "duration": 311,
    "start_time": "2025-04-28T15:40:05.956Z"
   },
   {
    "duration": 443,
    "start_time": "2025-04-28T15:40:13.021Z"
   },
   {
    "duration": 386,
    "start_time": "2025-04-28T15:40:26.818Z"
   },
   {
    "duration": 31,
    "start_time": "2025-04-28T15:43:49.421Z"
   },
   {
    "duration": 36,
    "start_time": "2025-04-28T15:45:01.383Z"
   },
   {
    "duration": 28,
    "start_time": "2025-04-28T15:45:07.903Z"
   },
   {
    "duration": 402,
    "start_time": "2025-04-28T15:46:27.799Z"
   },
   {
    "duration": 366,
    "start_time": "2025-04-28T15:46:40.120Z"
   },
   {
    "duration": 305,
    "start_time": "2025-04-28T15:47:03.344Z"
   },
   {
    "duration": 362,
    "start_time": "2025-04-28T15:47:16.225Z"
   },
   {
    "duration": 242,
    "start_time": "2025-04-28T15:47:26.668Z"
   },
   {
    "duration": 321,
    "start_time": "2025-04-28T15:49:16.404Z"
   },
   {
    "duration": 27,
    "start_time": "2025-04-28T15:57:50.189Z"
   },
   {
    "duration": 8,
    "start_time": "2025-04-28T17:13:26.836Z"
   },
   {
    "duration": 4,
    "start_time": "2025-04-28T17:13:54.991Z"
   },
   {
    "duration": 419,
    "start_time": "2025-04-28T17:14:06.626Z"
   },
   {
    "duration": 56,
    "start_time": "2025-04-28T17:14:30.211Z"
   },
   {
    "duration": 700,
    "start_time": "2025-04-28T17:16:03.671Z"
   },
   {
    "duration": 609,
    "start_time": "2025-04-28T17:18:05.159Z"
   },
   {
    "duration": 5,
    "start_time": "2025-04-28T17:18:31.620Z"
   },
   {
    "duration": 463,
    "start_time": "2025-04-28T17:19:02.450Z"
   },
   {
    "duration": 5,
    "start_time": "2025-04-28T17:20:14.866Z"
   },
   {
    "duration": 463,
    "start_time": "2025-04-28T17:20:40.098Z"
   },
   {
    "duration": 469,
    "start_time": "2025-04-28T17:24:36.183Z"
   },
   {
    "duration": 448,
    "start_time": "2025-04-28T17:24:43.884Z"
   },
   {
    "duration": 1096,
    "start_time": "2025-04-28T17:26:04.935Z"
   },
   {
    "duration": 696,
    "start_time": "2025-04-28T17:26:34.512Z"
   },
   {
    "duration": 25,
    "start_time": "2025-04-28T17:28:06.208Z"
   },
   {
    "duration": 624,
    "start_time": "2025-04-28T18:01:27.992Z"
   },
   {
    "duration": 432,
    "start_time": "2025-04-28T18:04:37.682Z"
   },
   {
    "duration": 197,
    "start_time": "2025-04-28T18:05:12.540Z"
   },
   {
    "duration": 557,
    "start_time": "2025-04-28T18:05:23.999Z"
   },
   {
    "duration": 63,
    "start_time": "2025-04-28T18:05:41.882Z"
   },
   {
    "duration": 5,
    "start_time": "2025-04-28T18:07:36.446Z"
   },
   {
    "duration": 6,
    "start_time": "2025-04-28T18:07:54.421Z"
   },
   {
    "duration": 74,
    "start_time": "2025-04-28T18:09:15.602Z"
   },
   {
    "duration": 124,
    "start_time": "2025-04-28T18:10:23.659Z"
   },
   {
    "duration": 438,
    "start_time": "2025-04-28T18:10:31.261Z"
   },
   {
    "duration": 75,
    "start_time": "2025-04-28T18:10:31.701Z"
   },
   {
    "duration": 18,
    "start_time": "2025-04-28T18:10:31.778Z"
   },
   {
    "duration": 26,
    "start_time": "2025-04-28T18:10:31.799Z"
   },
   {
    "duration": 6,
    "start_time": "2025-04-28T18:10:31.827Z"
   },
   {
    "duration": 12,
    "start_time": "2025-04-28T18:10:31.835Z"
   },
   {
    "duration": 5,
    "start_time": "2025-04-28T18:10:31.849Z"
   },
   {
    "duration": 12,
    "start_time": "2025-04-28T18:10:31.857Z"
   },
   {
    "duration": 6,
    "start_time": "2025-04-28T18:10:31.871Z"
   },
   {
    "duration": 8,
    "start_time": "2025-04-28T18:10:31.881Z"
   },
   {
    "duration": 47,
    "start_time": "2025-04-28T18:10:31.890Z"
   },
   {
    "duration": 39,
    "start_time": "2025-04-28T18:10:31.939Z"
   },
   {
    "duration": 14,
    "start_time": "2025-04-28T18:10:31.981Z"
   },
   {
    "duration": 40,
    "start_time": "2025-04-28T18:10:31.996Z"
   },
   {
    "duration": 5,
    "start_time": "2025-04-28T18:10:32.038Z"
   },
   {
    "duration": 5,
    "start_time": "2025-04-28T18:10:32.045Z"
   },
   {
    "duration": 7,
    "start_time": "2025-04-28T18:10:32.053Z"
   },
   {
    "duration": 12,
    "start_time": "2025-04-28T18:10:32.061Z"
   },
   {
    "duration": 126,
    "start_time": "2025-04-28T18:10:32.075Z"
   },
   {
    "duration": 60,
    "start_time": "2025-04-28T18:10:32.203Z"
   },
   {
    "duration": 6,
    "start_time": "2025-04-28T18:10:32.265Z"
   },
   {
    "duration": 20,
    "start_time": "2025-04-28T18:10:32.273Z"
   },
   {
    "duration": 753,
    "start_time": "2025-04-28T18:10:32.294Z"
   },
   {
    "duration": 94,
    "start_time": "2025-04-28T18:10:33.049Z"
   },
   {
    "duration": 24,
    "start_time": "2025-04-28T18:10:33.146Z"
   },
   {
    "duration": 633,
    "start_time": "2025-04-28T18:10:33.173Z"
   },
   {
    "duration": 0,
    "start_time": "2025-04-28T18:10:33.808Z"
   },
   {
    "duration": 0,
    "start_time": "2025-04-28T18:10:33.810Z"
   },
   {
    "duration": 67,
    "start_time": "2025-04-28T18:10:53.069Z"
   },
   {
    "duration": 5,
    "start_time": "2025-04-28T18:10:53.997Z"
   },
   {
    "duration": 2,
    "start_time": "2025-04-28T18:12:32.903Z"
   },
   {
    "duration": 8,
    "start_time": "2025-04-28T18:13:14.280Z"
   },
   {
    "duration": 9,
    "start_time": "2025-04-28T18:13:24.741Z"
   },
   {
    "duration": 72,
    "start_time": "2025-04-28T18:14:21.914Z"
   },
   {
    "duration": 100,
    "start_time": "2025-04-28T18:21:22.428Z"
   },
   {
    "duration": 76,
    "start_time": "2025-04-28T18:23:20.499Z"
   },
   {
    "duration": 76,
    "start_time": "2025-04-28T18:23:54.901Z"
   },
   {
    "duration": 13,
    "start_time": "2025-04-28T18:26:13.969Z"
   },
   {
    "duration": 128,
    "start_time": "2025-04-28T18:27:33.886Z"
   },
   {
    "duration": 134,
    "start_time": "2025-04-28T18:27:50.468Z"
   },
   {
    "duration": 438,
    "start_time": "2025-04-28T18:28:39.926Z"
   },
   {
    "duration": 51,
    "start_time": "2025-04-28T18:28:40.367Z"
   },
   {
    "duration": 19,
    "start_time": "2025-04-28T18:28:40.423Z"
   },
   {
    "duration": 10,
    "start_time": "2025-04-28T18:28:40.445Z"
   },
   {
    "duration": 4,
    "start_time": "2025-04-28T18:28:40.458Z"
   },
   {
    "duration": 11,
    "start_time": "2025-04-28T18:28:40.464Z"
   },
   {
    "duration": 5,
    "start_time": "2025-04-28T18:28:40.476Z"
   },
   {
    "duration": 41,
    "start_time": "2025-04-28T18:28:40.483Z"
   },
   {
    "duration": 4,
    "start_time": "2025-04-28T18:28:40.527Z"
   },
   {
    "duration": 7,
    "start_time": "2025-04-28T18:28:40.533Z"
   },
   {
    "duration": 8,
    "start_time": "2025-04-28T18:28:40.541Z"
   },
   {
    "duration": 35,
    "start_time": "2025-04-28T18:28:40.551Z"
   },
   {
    "duration": 43,
    "start_time": "2025-04-28T18:28:40.587Z"
   },
   {
    "duration": 19,
    "start_time": "2025-04-28T18:28:40.634Z"
   },
   {
    "duration": 5,
    "start_time": "2025-04-28T18:28:40.655Z"
   },
   {
    "duration": 5,
    "start_time": "2025-04-28T18:28:40.661Z"
   },
   {
    "duration": 6,
    "start_time": "2025-04-28T18:28:40.668Z"
   },
   {
    "duration": 12,
    "start_time": "2025-04-28T18:28:40.676Z"
   },
   {
    "duration": 136,
    "start_time": "2025-04-28T18:28:40.690Z"
   },
   {
    "duration": 53,
    "start_time": "2025-04-28T18:28:40.828Z"
   },
   {
    "duration": 7,
    "start_time": "2025-04-28T18:28:40.883Z"
   },
   {
    "duration": 38,
    "start_time": "2025-04-28T18:28:40.893Z"
   },
   {
    "duration": 715,
    "start_time": "2025-04-28T18:28:40.933Z"
   },
   {
    "duration": 82,
    "start_time": "2025-04-28T18:28:41.650Z"
   },
   {
    "duration": 24,
    "start_time": "2025-04-28T18:28:41.733Z"
   },
   {
    "duration": 9,
    "start_time": "2025-04-28T18:28:41.758Z"
   },
   {
    "duration": 12,
    "start_time": "2025-04-28T18:28:41.768Z"
   },
   {
    "duration": 153,
    "start_time": "2025-04-28T18:28:41.782Z"
   },
   {
    "duration": 137,
    "start_time": "2025-04-28T18:28:41.939Z"
   },
   {
    "duration": 30,
    "start_time": "2025-04-28T18:30:59.335Z"
   },
   {
    "duration": 28,
    "start_time": "2025-04-28T18:31:04.600Z"
   },
   {
    "duration": 9,
    "start_time": "2025-04-28T18:31:34.684Z"
   },
   {
    "duration": 7,
    "start_time": "2025-04-28T18:32:08.204Z"
   },
   {
    "duration": 15,
    "start_time": "2025-04-28T18:32:13.845Z"
   },
   {
    "duration": 12,
    "start_time": "2025-04-28T18:33:07.541Z"
   },
   {
    "duration": 13,
    "start_time": "2025-04-28T18:33:36.357Z"
   },
   {
    "duration": 18,
    "start_time": "2025-04-28T18:33:51.265Z"
   },
   {
    "duration": 12,
    "start_time": "2025-04-28T18:34:24.127Z"
   },
   {
    "duration": 12,
    "start_time": "2025-04-28T18:35:00.268Z"
   },
   {
    "duration": 13,
    "start_time": "2025-04-28T18:38:29.537Z"
   },
   {
    "duration": 14,
    "start_time": "2025-04-28T19:16:07.012Z"
   },
   {
    "duration": 157,
    "start_time": "2025-04-29T01:03:50.337Z"
   },
   {
    "duration": 434,
    "start_time": "2025-04-29T01:03:59.528Z"
   },
   {
    "duration": 51,
    "start_time": "2025-04-29T01:03:59.964Z"
   },
   {
    "duration": 23,
    "start_time": "2025-04-29T01:04:00.017Z"
   },
   {
    "duration": 12,
    "start_time": "2025-04-29T01:04:00.042Z"
   },
   {
    "duration": 5,
    "start_time": "2025-04-29T01:04:00.055Z"
   },
   {
    "duration": 10,
    "start_time": "2025-04-29T01:04:00.061Z"
   },
   {
    "duration": 4,
    "start_time": "2025-04-29T01:04:00.074Z"
   },
   {
    "duration": 12,
    "start_time": "2025-04-29T01:04:00.079Z"
   },
   {
    "duration": 6,
    "start_time": "2025-04-29T01:04:00.125Z"
   },
   {
    "duration": 7,
    "start_time": "2025-04-29T01:04:00.136Z"
   },
   {
    "duration": 8,
    "start_time": "2025-04-29T01:04:00.144Z"
   },
   {
    "duration": 35,
    "start_time": "2025-04-29T01:04:00.153Z"
   },
   {
    "duration": 39,
    "start_time": "2025-04-29T01:04:00.190Z"
   },
   {
    "duration": 20,
    "start_time": "2025-04-29T01:04:00.230Z"
   },
   {
    "duration": 5,
    "start_time": "2025-04-29T01:04:00.251Z"
   },
   {
    "duration": 4,
    "start_time": "2025-04-29T01:04:00.258Z"
   },
   {
    "duration": 5,
    "start_time": "2025-04-29T01:04:00.264Z"
   },
   {
    "duration": 12,
    "start_time": "2025-04-29T01:04:00.271Z"
   },
   {
    "duration": 139,
    "start_time": "2025-04-29T01:04:00.285Z"
   },
   {
    "duration": 66,
    "start_time": "2025-04-29T01:04:00.426Z"
   },
   {
    "duration": 7,
    "start_time": "2025-04-29T01:04:00.494Z"
   },
   {
    "duration": 34,
    "start_time": "2025-04-29T01:04:00.504Z"
   },
   {
    "duration": 721,
    "start_time": "2025-04-29T01:04:00.540Z"
   },
   {
    "duration": 84,
    "start_time": "2025-04-29T01:04:01.263Z"
   },
   {
    "duration": 25,
    "start_time": "2025-04-29T01:04:01.349Z"
   },
   {
    "duration": 9,
    "start_time": "2025-04-29T01:04:01.375Z"
   },
   {
    "duration": 11,
    "start_time": "2025-04-29T01:04:01.386Z"
   },
   {
    "duration": 138,
    "start_time": "2025-04-29T01:04:01.424Z"
   },
   {
    "duration": 143,
    "start_time": "2025-04-29T01:04:01.564Z"
   },
   {
    "duration": 219,
    "start_time": "2025-04-29T01:04:01.709Z"
   },
   {
    "duration": 11,
    "start_time": "2025-04-29T01:30:53.012Z"
   },
   {
    "duration": 13,
    "start_time": "2025-04-29T01:30:55.748Z"
   },
   {
    "duration": 3,
    "start_time": "2025-04-29T01:32:46.523Z"
   },
   {
    "duration": 19,
    "start_time": "2025-04-29T01:32:59.278Z"
   },
   {
    "duration": 11,
    "start_time": "2025-04-29T01:33:04.806Z"
   },
   {
    "duration": 25,
    "start_time": "2025-04-29T01:33:35.121Z"
   },
   {
    "duration": 3,
    "start_time": "2025-04-29T01:33:53.960Z"
   },
   {
    "duration": 159,
    "start_time": "2025-04-29T01:34:17.547Z"
   },
   {
    "duration": 6,
    "start_time": "2025-04-29T01:36:09.965Z"
   },
   {
    "duration": 10,
    "start_time": "2025-04-29T01:36:29.990Z"
   },
   {
    "duration": 5,
    "start_time": "2025-04-29T01:37:30.031Z"
   },
   {
    "duration": 6,
    "start_time": "2025-04-29T01:37:44.769Z"
   },
   {
    "duration": 7,
    "start_time": "2025-04-29T01:38:21.723Z"
   },
   {
    "duration": 3,
    "start_time": "2025-04-29T01:39:01.625Z"
   },
   {
    "duration": 10,
    "start_time": "2025-04-29T01:39:15.471Z"
   },
   {
    "duration": 12,
    "start_time": "2025-04-29T01:39:43.202Z"
   },
   {
    "duration": 10,
    "start_time": "2025-04-29T01:39:53.086Z"
   },
   {
    "duration": 6,
    "start_time": "2025-04-29T01:40:34.509Z"
   },
   {
    "duration": 16,
    "start_time": "2025-04-29T01:54:27.440Z"
   },
   {
    "duration": 157,
    "start_time": "2025-04-29T03:11:15.736Z"
   },
   {
    "duration": 407,
    "start_time": "2025-04-29T03:11:23.210Z"
   },
   {
    "duration": 57,
    "start_time": "2025-04-29T03:11:23.619Z"
   },
   {
    "duration": 17,
    "start_time": "2025-04-29T03:11:23.678Z"
   },
   {
    "duration": 11,
    "start_time": "2025-04-29T03:11:23.697Z"
   },
   {
    "duration": 5,
    "start_time": "2025-04-29T03:11:23.725Z"
   },
   {
    "duration": 10,
    "start_time": "2025-04-29T03:11:23.732Z"
   },
   {
    "duration": 4,
    "start_time": "2025-04-29T03:11:23.744Z"
   },
   {
    "duration": 11,
    "start_time": "2025-04-29T03:11:23.749Z"
   },
   {
    "duration": 4,
    "start_time": "2025-04-29T03:11:23.762Z"
   },
   {
    "duration": 7,
    "start_time": "2025-04-29T03:11:23.770Z"
   },
   {
    "duration": 46,
    "start_time": "2025-04-29T03:11:23.778Z"
   },
   {
    "duration": 37,
    "start_time": "2025-04-29T03:11:23.826Z"
   },
   {
    "duration": 15,
    "start_time": "2025-04-29T03:11:23.865Z"
   },
   {
    "duration": 18,
    "start_time": "2025-04-29T03:11:23.882Z"
   },
   {
    "duration": 25,
    "start_time": "2025-04-29T03:11:23.901Z"
   },
   {
    "duration": 5,
    "start_time": "2025-04-29T03:11:23.927Z"
   },
   {
    "duration": 6,
    "start_time": "2025-04-29T03:11:23.933Z"
   },
   {
    "duration": 12,
    "start_time": "2025-04-29T03:11:23.940Z"
   },
   {
    "duration": 123,
    "start_time": "2025-04-29T03:11:23.954Z"
   },
   {
    "duration": 64,
    "start_time": "2025-04-29T03:11:24.078Z"
   },
   {
    "duration": 6,
    "start_time": "2025-04-29T03:11:24.143Z"
   },
   {
    "duration": 15,
    "start_time": "2025-04-29T03:11:24.151Z"
   },
   {
    "duration": 684,
    "start_time": "2025-04-29T03:11:24.167Z"
   },
   {
    "duration": 92,
    "start_time": "2025-04-29T03:11:24.853Z"
   },
   {
    "duration": 23,
    "start_time": "2025-04-29T03:11:24.947Z"
   },
   {
    "duration": 10,
    "start_time": "2025-04-29T03:11:24.973Z"
   },
   {
    "duration": 13,
    "start_time": "2025-04-29T03:11:24.985Z"
   },
   {
    "duration": 137,
    "start_time": "2025-04-29T03:11:25.026Z"
   },
   {
    "duration": 159,
    "start_time": "2025-04-29T03:11:25.165Z"
   },
   {
    "duration": 3,
    "start_time": "2025-04-29T03:11:25.327Z"
   },
   {
    "duration": 19,
    "start_time": "2025-04-29T03:11:25.331Z"
   },
   {
    "duration": 11,
    "start_time": "2025-04-29T03:11:25.352Z"
   },
   {
    "duration": 17,
    "start_time": "2025-04-29T03:11:25.364Z"
   },
   {
    "duration": 4,
    "start_time": "2025-04-29T03:11:25.382Z"
   },
   {
    "duration": 187,
    "start_time": "2025-04-29T03:11:25.387Z"
   },
   {
    "duration": 6,
    "start_time": "2025-04-29T03:11:25.577Z"
   },
   {
    "duration": 11,
    "start_time": "2025-04-29T03:11:25.586Z"
   },
   {
    "duration": 5,
    "start_time": "2025-04-29T03:11:25.600Z"
   },
   {
    "duration": 23,
    "start_time": "2025-04-29T03:11:25.606Z"
   },
   {
    "duration": 6,
    "start_time": "2025-04-29T03:11:25.630Z"
   },
   {
    "duration": 4,
    "start_time": "2025-04-29T03:11:25.637Z"
   },
   {
    "duration": 10,
    "start_time": "2025-04-29T03:11:25.642Z"
   },
   {
    "duration": 9,
    "start_time": "2025-04-29T03:11:25.653Z"
   },
   {
    "duration": 8,
    "start_time": "2025-04-29T03:11:25.665Z"
   },
   {
    "duration": 6,
    "start_time": "2025-04-29T03:11:25.674Z"
   },
   {
    "duration": 254,
    "start_time": "2025-04-29T03:11:25.682Z"
   },
   {
    "duration": 6,
    "start_time": "2025-04-29T03:11:40.182Z"
   },
   {
    "duration": 2,
    "start_time": "2025-04-29T03:11:56.604Z"
   },
   {
    "duration": 6,
    "start_time": "2025-04-29T03:12:32.065Z"
   },
   {
    "duration": 435,
    "start_time": "2025-04-29T03:38:09.923Z"
   },
   {
    "duration": 53,
    "start_time": "2025-04-29T03:38:10.360Z"
   },
   {
    "duration": 22,
    "start_time": "2025-04-29T03:38:10.415Z"
   },
   {
    "duration": 10,
    "start_time": "2025-04-29T03:38:10.440Z"
   },
   {
    "duration": 4,
    "start_time": "2025-04-29T03:38:10.452Z"
   },
   {
    "duration": 11,
    "start_time": "2025-04-29T03:38:10.458Z"
   },
   {
    "duration": 5,
    "start_time": "2025-04-29T03:38:10.470Z"
   },
   {
    "duration": 11,
    "start_time": "2025-04-29T03:38:10.476Z"
   },
   {
    "duration": 5,
    "start_time": "2025-04-29T03:38:10.524Z"
   },
   {
    "duration": 7,
    "start_time": "2025-04-29T03:38:10.531Z"
   },
   {
    "duration": 8,
    "start_time": "2025-04-29T03:38:10.540Z"
   },
   {
    "duration": 35,
    "start_time": "2025-04-29T03:38:10.549Z"
   },
   {
    "duration": 39,
    "start_time": "2025-04-29T03:38:10.586Z"
   },
   {
    "duration": 19,
    "start_time": "2025-04-29T03:38:10.626Z"
   },
   {
    "duration": 5,
    "start_time": "2025-04-29T03:38:10.646Z"
   },
   {
    "duration": 5,
    "start_time": "2025-04-29T03:38:10.653Z"
   },
   {
    "duration": 6,
    "start_time": "2025-04-29T03:38:10.660Z"
   },
   {
    "duration": 12,
    "start_time": "2025-04-29T03:38:10.667Z"
   },
   {
    "duration": 134,
    "start_time": "2025-04-29T03:38:10.681Z"
   },
   {
    "duration": 54,
    "start_time": "2025-04-29T03:38:10.817Z"
   },
   {
    "duration": 9,
    "start_time": "2025-04-29T03:38:10.873Z"
   },
   {
    "duration": 15,
    "start_time": "2025-04-29T03:38:10.885Z"
   },
   {
    "duration": 734,
    "start_time": "2025-04-29T03:38:10.902Z"
   },
   {
    "duration": 72,
    "start_time": "2025-04-29T03:38:11.638Z"
   },
   {
    "duration": 33,
    "start_time": "2025-04-29T03:38:11.711Z"
   },
   {
    "duration": 9,
    "start_time": "2025-04-29T03:38:11.746Z"
   },
   {
    "duration": 12,
    "start_time": "2025-04-29T03:38:11.757Z"
   },
   {
    "duration": 154,
    "start_time": "2025-04-29T03:38:11.774Z"
   },
   {
    "duration": 135,
    "start_time": "2025-04-29T03:38:11.931Z"
   },
   {
    "duration": 2,
    "start_time": "2025-04-29T03:38:12.068Z"
   },
   {
    "duration": 19,
    "start_time": "2025-04-29T03:38:12.072Z"
   },
   {
    "duration": 33,
    "start_time": "2025-04-29T03:38:12.092Z"
   },
   {
    "duration": 17,
    "start_time": "2025-04-29T03:38:12.126Z"
   },
   {
    "duration": 3,
    "start_time": "2025-04-29T03:38:12.145Z"
   },
   {
    "duration": 168,
    "start_time": "2025-04-29T03:38:12.150Z"
   },
   {
    "duration": 9,
    "start_time": "2025-04-29T03:38:12.320Z"
   },
   {
    "duration": 11,
    "start_time": "2025-04-29T03:38:12.330Z"
   },
   {
    "duration": 6,
    "start_time": "2025-04-29T03:38:12.342Z"
   },
   {
    "duration": 6,
    "start_time": "2025-04-29T03:38:12.350Z"
   },
   {
    "duration": 6,
    "start_time": "2025-04-29T03:38:12.357Z"
   },
   {
    "duration": 3,
    "start_time": "2025-04-29T03:38:12.365Z"
   },
   {
    "duration": 9,
    "start_time": "2025-04-29T03:38:12.369Z"
   },
   {
    "duration": 50,
    "start_time": "2025-04-29T03:38:12.380Z"
   },
   {
    "duration": 9,
    "start_time": "2025-04-29T03:38:12.432Z"
   },
   {
    "duration": 6,
    "start_time": "2025-04-29T03:38:12.442Z"
   },
   {
    "duration": 3,
    "start_time": "2025-04-29T03:38:12.449Z"
   },
   {
    "duration": 5,
    "start_time": "2025-04-29T03:38:12.453Z"
   },
   {
    "duration": 7,
    "start_time": "2025-04-29T04:17:31.346Z"
   },
   {
    "duration": 2,
    "start_time": "2025-04-29T04:18:01.138Z"
   },
   {
    "duration": 223,
    "start_time": "2025-04-29T04:18:28.906Z"
   },
   {
    "duration": 6,
    "start_time": "2025-04-29T04:23:19.022Z"
   },
   {
    "duration": 2,
    "start_time": "2025-04-29T04:23:19.498Z"
   },
   {
    "duration": 5,
    "start_time": "2025-04-29T04:23:20.084Z"
   },
   {
    "duration": 5,
    "start_time": "2025-04-29T04:24:55.149Z"
   },
   {
    "duration": 5,
    "start_time": "2025-04-29T04:27:00.506Z"
   },
   {
    "duration": 9,
    "start_time": "2025-04-29T04:28:16.770Z"
   },
   {
    "duration": 5,
    "start_time": "2025-04-29T04:28:54.918Z"
   },
   {
    "duration": 3392,
    "start_time": "2025-04-29T20:36:25.997Z"
   },
   {
    "duration": 35,
    "start_time": "2025-04-29T20:36:29.391Z"
   },
   {
    "duration": 46,
    "start_time": "2025-04-29T20:36:29.428Z"
   },
   {
    "duration": 12,
    "start_time": "2025-04-29T20:36:29.476Z"
   },
   {
    "duration": 13,
    "start_time": "2025-04-29T20:36:58.854Z"
   },
   {
    "duration": 12,
    "start_time": "2025-04-29T20:36:59.754Z"
   },
   {
    "duration": 5,
    "start_time": "2025-04-29T20:37:02.955Z"
   },
   {
    "duration": 17,
    "start_time": "2025-04-29T20:37:03.321Z"
   },
   {
    "duration": 5,
    "start_time": "2025-04-29T20:37:03.601Z"
   },
   {
    "duration": 9,
    "start_time": "2025-04-29T20:37:04.431Z"
   },
   {
    "duration": 17,
    "start_time": "2025-04-29T20:37:04.644Z"
   },
   {
    "duration": 56,
    "start_time": "2025-04-29T20:37:04.909Z"
   },
   {
    "duration": 14,
    "start_time": "2025-04-29T20:37:07.563Z"
   },
   {
    "duration": 21,
    "start_time": "2025-04-29T20:37:07.755Z"
   },
   {
    "duration": 5,
    "start_time": "2025-04-29T20:37:17.288Z"
   },
   {
    "duration": 16,
    "start_time": "2025-04-29T20:37:24.334Z"
   },
   {
    "duration": 7,
    "start_time": "2025-04-29T20:37:37.921Z"
   },
   {
    "duration": 12,
    "start_time": "2025-04-29T20:37:49.584Z"
   },
   {
    "duration": 107,
    "start_time": "2025-04-29T20:38:05.065Z"
   },
   {
    "duration": 71,
    "start_time": "2025-04-29T20:38:17.631Z"
   },
   {
    "duration": 6,
    "start_time": "2025-04-29T20:38:34.404Z"
   },
   {
    "duration": 17,
    "start_time": "2025-04-29T20:38:42.091Z"
   },
   {
    "duration": 941,
    "start_time": "2025-04-29T20:38:57.730Z"
   },
   {
    "duration": 623,
    "start_time": "2025-04-29T20:40:19.362Z"
   },
   {
    "duration": 576,
    "start_time": "2025-04-29T20:41:18.217Z"
   },
   {
    "duration": 534,
    "start_time": "2025-04-29T20:41:25.679Z"
   },
   {
    "duration": 458,
    "start_time": "2025-04-29T20:42:00.058Z"
   },
   {
    "duration": 45,
    "start_time": "2025-04-29T20:42:54.960Z"
   },
   {
    "duration": 26,
    "start_time": "2025-04-29T20:43:01.983Z"
   },
   {
    "duration": 11,
    "start_time": "2025-04-29T20:43:04.674Z"
   },
   {
    "duration": 15,
    "start_time": "2025-04-29T20:43:05.414Z"
   },
   {
    "duration": 407,
    "start_time": "2025-04-29T20:43:07.943Z"
   },
   {
    "duration": 139,
    "start_time": "2025-04-29T20:43:15.652Z"
   },
   {
    "duration": 238,
    "start_time": "2025-04-29T20:43:19.968Z"
   },
   {
    "duration": 139,
    "start_time": "2025-04-29T20:43:22.847Z"
   },
   {
    "duration": 2,
    "start_time": "2025-04-29T20:43:47.927Z"
   },
   {
    "duration": 19,
    "start_time": "2025-04-29T20:43:48.189Z"
   },
   {
    "duration": 11,
    "start_time": "2025-04-29T20:43:48.712Z"
   },
   {
    "duration": 447,
    "start_time": "2025-04-29T20:43:51.239Z"
   },
   {
    "duration": 20,
    "start_time": "2025-04-29T20:45:12.554Z"
   },
   {
    "duration": 21,
    "start_time": "2025-04-29T20:45:13.141Z"
   },
   {
    "duration": 7,
    "start_time": "2025-04-29T20:45:15.787Z"
   },
   {
    "duration": 11,
    "start_time": "2025-04-29T20:45:25.663Z"
   },
   {
    "duration": 180,
    "start_time": "2025-04-29T20:45:34.726Z"
   }
  ],
  "kernelspec": {
   "display_name": "Python 3 (ipykernel)",
   "language": "python",
   "name": "python3"
  },
  "language_info": {
   "codemirror_mode": {
    "name": "ipython",
    "version": 3
   },
   "file_extension": ".py",
   "mimetype": "text/x-python",
   "name": "python",
   "nbconvert_exporter": "python",
   "pygments_lexer": "ipython3",
   "version": "3.9.19"
  },
  "toc": {
   "base_numbering": 1,
   "nav_menu": {},
   "number_sections": true,
   "sideBar": true,
   "skip_h1_title": true,
   "title_cell": "Table of Contents",
   "title_sidebar": "Contents",
   "toc_cell": false,
   "toc_position": {},
   "toc_section_display": true,
   "toc_window_display": false
  }
 },
 "nbformat": 4,
 "nbformat_minor": 2
}
